{
 "cells": [
  {
   "cell_type": "code",
   "execution_count": 1,
   "id": "bece0b87",
   "metadata": {},
   "outputs": [],
   "source": [
    "# Import dependencies.\n",
    "import pandas as pd\n",
    "import numpy as np\n",
    "from sklearn.ensemble import RandomForestClassifier, RandomForestRegressor\n",
    "from sklearn.preprocessing import StandardScaler, OneHotEncoder\n",
    "from sklearn.model_selection import train_test_split\n",
    "from sklearn.metrics import accuracy_score, confusion_matrix, classification_report, mean_squared_error, r2_score\n",
    "import tensorflow as tf"
   ]
  },
  {
   "cell_type": "code",
   "execution_count": 2,
   "id": "971445d6",
   "metadata": {},
   "outputs": [],
   "source": [
    "df_ml_all = pd.read_csv('saved_csvs/df_ml_all.csv')"
   ]
  },
  {
   "cell_type": "code",
   "execution_count": 3,
   "id": "8d305bc3",
   "metadata": {},
   "outputs": [
    {
     "data": {
      "text/html": [
       "<div>\n",
       "<style scoped>\n",
       "    .dataframe tbody tr th:only-of-type {\n",
       "        vertical-align: middle;\n",
       "    }\n",
       "\n",
       "    .dataframe tbody tr th {\n",
       "        vertical-align: top;\n",
       "    }\n",
       "\n",
       "    .dataframe thead th {\n",
       "        text-align: right;\n",
       "    }\n",
       "</style>\n",
       "<table border=\"1\" class=\"dataframe\">\n",
       "  <thead>\n",
       "    <tr style=\"text-align: right;\">\n",
       "      <th></th>\n",
       "      <th>host_since</th>\n",
       "      <th>host_response_rate</th>\n",
       "      <th>host_acceptance_rate</th>\n",
       "      <th>host_is_superhost</th>\n",
       "      <th>host_total_listings_count</th>\n",
       "      <th>host_identity_verified</th>\n",
       "      <th>neighbourhood_cleansed</th>\n",
       "      <th>room_type</th>\n",
       "      <th>accommodates</th>\n",
       "      <th>bathrooms_text</th>\n",
       "      <th>...</th>\n",
       "      <th>review_scores_accuracy</th>\n",
       "      <th>review_scores_cleanliness</th>\n",
       "      <th>review_scores_checkin</th>\n",
       "      <th>review_scores_communication</th>\n",
       "      <th>review_scores_location</th>\n",
       "      <th>review_scores_value</th>\n",
       "      <th>instant_bookable</th>\n",
       "      <th>revenue_365</th>\n",
       "      <th>revenue_pp_365</th>\n",
       "      <th>amenities_count</th>\n",
       "    </tr>\n",
       "  </thead>\n",
       "  <tbody>\n",
       "    <tr>\n",
       "      <th>0</th>\n",
       "      <td>2009-04-03</td>\n",
       "      <td>100.0</td>\n",
       "      <td>0.0</td>\n",
       "      <td>0.0</td>\n",
       "      <td>1.0</td>\n",
       "      <td>1.0</td>\n",
       "      <td>District 6</td>\n",
       "      <td>Private room</td>\n",
       "      <td>1</td>\n",
       "      <td>1.0</td>\n",
       "      <td>...</td>\n",
       "      <td>4.94</td>\n",
       "      <td>4.96</td>\n",
       "      <td>4.97</td>\n",
       "      <td>4.96</td>\n",
       "      <td>4.92</td>\n",
       "      <td>4.98</td>\n",
       "      <td>0.0</td>\n",
       "      <td>2408.0</td>\n",
       "      <td>2408.000000</td>\n",
       "      <td>54</td>\n",
       "    </tr>\n",
       "    <tr>\n",
       "      <th>1</th>\n",
       "      <td>2010-07-18</td>\n",
       "      <td>100.0</td>\n",
       "      <td>92.0</td>\n",
       "      <td>1.0</td>\n",
       "      <td>3.0</td>\n",
       "      <td>1.0</td>\n",
       "      <td>District 18</td>\n",
       "      <td>Private room</td>\n",
       "      <td>2</td>\n",
       "      <td>1.0</td>\n",
       "      <td>...</td>\n",
       "      <td>4.96</td>\n",
       "      <td>4.95</td>\n",
       "      <td>4.99</td>\n",
       "      <td>4.97</td>\n",
       "      <td>4.95</td>\n",
       "      <td>4.94</td>\n",
       "      <td>0.0</td>\n",
       "      <td>13370.0</td>\n",
       "      <td>6685.000000</td>\n",
       "      <td>23</td>\n",
       "    </tr>\n",
       "    <tr>\n",
       "      <th>2</th>\n",
       "      <td>2011-08-06</td>\n",
       "      <td>100.0</td>\n",
       "      <td>100.0</td>\n",
       "      <td>1.0</td>\n",
       "      <td>1.0</td>\n",
       "      <td>1.0</td>\n",
       "      <td>District 25</td>\n",
       "      <td>Entire home/apt</td>\n",
       "      <td>4</td>\n",
       "      <td>1.0</td>\n",
       "      <td>...</td>\n",
       "      <td>4.95</td>\n",
       "      <td>4.91</td>\n",
       "      <td>4.97</td>\n",
       "      <td>4.97</td>\n",
       "      <td>4.94</td>\n",
       "      <td>4.93</td>\n",
       "      <td>0.0</td>\n",
       "      <td>52195.0</td>\n",
       "      <td>13048.750000</td>\n",
       "      <td>39</td>\n",
       "    </tr>\n",
       "    <tr>\n",
       "      <th>3</th>\n",
       "      <td>2010-07-21</td>\n",
       "      <td>100.0</td>\n",
       "      <td>100.0</td>\n",
       "      <td>1.0</td>\n",
       "      <td>1.0</td>\n",
       "      <td>1.0</td>\n",
       "      <td>District 18</td>\n",
       "      <td>Entire home/apt</td>\n",
       "      <td>4</td>\n",
       "      <td>1.0</td>\n",
       "      <td>...</td>\n",
       "      <td>4.90</td>\n",
       "      <td>4.81</td>\n",
       "      <td>4.98</td>\n",
       "      <td>4.99</td>\n",
       "      <td>4.96</td>\n",
       "      <td>4.89</td>\n",
       "      <td>0.0</td>\n",
       "      <td>26900.0</td>\n",
       "      <td>6725.000000</td>\n",
       "      <td>27</td>\n",
       "    </tr>\n",
       "    <tr>\n",
       "      <th>4</th>\n",
       "      <td>2012-02-01</td>\n",
       "      <td>98.0</td>\n",
       "      <td>99.0</td>\n",
       "      <td>1.0</td>\n",
       "      <td>7.0</td>\n",
       "      <td>1.0</td>\n",
       "      <td>District 19</td>\n",
       "      <td>Entire home/apt</td>\n",
       "      <td>2</td>\n",
       "      <td>1.0</td>\n",
       "      <td>...</td>\n",
       "      <td>4.97</td>\n",
       "      <td>4.98</td>\n",
       "      <td>4.97</td>\n",
       "      <td>4.96</td>\n",
       "      <td>4.80</td>\n",
       "      <td>4.93</td>\n",
       "      <td>0.0</td>\n",
       "      <td>92394.0</td>\n",
       "      <td>46197.000000</td>\n",
       "      <td>42</td>\n",
       "    </tr>\n",
       "    <tr>\n",
       "      <th>...</th>\n",
       "      <td>...</td>\n",
       "      <td>...</td>\n",
       "      <td>...</td>\n",
       "      <td>...</td>\n",
       "      <td>...</td>\n",
       "      <td>...</td>\n",
       "      <td>...</td>\n",
       "      <td>...</td>\n",
       "      <td>...</td>\n",
       "      <td>...</td>\n",
       "      <td>...</td>\n",
       "      <td>...</td>\n",
       "      <td>...</td>\n",
       "      <td>...</td>\n",
       "      <td>...</td>\n",
       "      <td>...</td>\n",
       "      <td>...</td>\n",
       "      <td>...</td>\n",
       "      <td>...</td>\n",
       "      <td>...</td>\n",
       "      <td>...</td>\n",
       "    </tr>\n",
       "    <tr>\n",
       "      <th>70014</th>\n",
       "      <td>2011-09-27</td>\n",
       "      <td>100.0</td>\n",
       "      <td>77.0</td>\n",
       "      <td>0.0</td>\n",
       "      <td>3.0</td>\n",
       "      <td>1.0</td>\n",
       "      <td>North Delridge</td>\n",
       "      <td>Entire home/apt</td>\n",
       "      <td>3</td>\n",
       "      <td>1.0</td>\n",
       "      <td>...</td>\n",
       "      <td>4.94</td>\n",
       "      <td>4.75</td>\n",
       "      <td>4.98</td>\n",
       "      <td>4.95</td>\n",
       "      <td>4.80</td>\n",
       "      <td>4.92</td>\n",
       "      <td>0.0</td>\n",
       "      <td>18105.0</td>\n",
       "      <td>6035.000000</td>\n",
       "      <td>57</td>\n",
       "    </tr>\n",
       "    <tr>\n",
       "      <th>70015</th>\n",
       "      <td>2013-09-30</td>\n",
       "      <td>NaN</td>\n",
       "      <td>50.0</td>\n",
       "      <td>0.0</td>\n",
       "      <td>2.0</td>\n",
       "      <td>1.0</td>\n",
       "      <td>Bryant</td>\n",
       "      <td>Private room</td>\n",
       "      <td>2</td>\n",
       "      <td>1.0</td>\n",
       "      <td>...</td>\n",
       "      <td>4.93</td>\n",
       "      <td>4.83</td>\n",
       "      <td>4.87</td>\n",
       "      <td>4.93</td>\n",
       "      <td>4.85</td>\n",
       "      <td>4.72</td>\n",
       "      <td>0.0</td>\n",
       "      <td>0.0</td>\n",
       "      <td>0.000000</td>\n",
       "      <td>46</td>\n",
       "    </tr>\n",
       "    <tr>\n",
       "      <th>70016</th>\n",
       "      <td>2012-07-27</td>\n",
       "      <td>98.0</td>\n",
       "      <td>94.0</td>\n",
       "      <td>0.0</td>\n",
       "      <td>179.0</td>\n",
       "      <td>1.0</td>\n",
       "      <td>University District</td>\n",
       "      <td>Entire home/apt</td>\n",
       "      <td>2</td>\n",
       "      <td>1.0</td>\n",
       "      <td>...</td>\n",
       "      <td>4.59</td>\n",
       "      <td>4.48</td>\n",
       "      <td>4.49</td>\n",
       "      <td>4.61</td>\n",
       "      <td>4.47</td>\n",
       "      <td>4.27</td>\n",
       "      <td>0.0</td>\n",
       "      <td>0.0</td>\n",
       "      <td>0.000000</td>\n",
       "      <td>44</td>\n",
       "    </tr>\n",
       "    <tr>\n",
       "      <th>70017</th>\n",
       "      <td>2013-08-08</td>\n",
       "      <td>100.0</td>\n",
       "      <td>0.0</td>\n",
       "      <td>0.0</td>\n",
       "      <td>2.0</td>\n",
       "      <td>1.0</td>\n",
       "      <td>University District</td>\n",
       "      <td>Entire home/apt</td>\n",
       "      <td>6</td>\n",
       "      <td>1.0</td>\n",
       "      <td>...</td>\n",
       "      <td>4.41</td>\n",
       "      <td>4.12</td>\n",
       "      <td>4.55</td>\n",
       "      <td>4.56</td>\n",
       "      <td>4.65</td>\n",
       "      <td>4.30</td>\n",
       "      <td>0.0</td>\n",
       "      <td>5060.0</td>\n",
       "      <td>843.333333</td>\n",
       "      <td>11</td>\n",
       "    </tr>\n",
       "    <tr>\n",
       "      <th>70018</th>\n",
       "      <td>2013-08-22</td>\n",
       "      <td>100.0</td>\n",
       "      <td>99.0</td>\n",
       "      <td>1.0</td>\n",
       "      <td>10.0</td>\n",
       "      <td>1.0</td>\n",
       "      <td>Broadway</td>\n",
       "      <td>Private room</td>\n",
       "      <td>2</td>\n",
       "      <td>1.5</td>\n",
       "      <td>...</td>\n",
       "      <td>4.89</td>\n",
       "      <td>4.84</td>\n",
       "      <td>4.89</td>\n",
       "      <td>4.85</td>\n",
       "      <td>4.89</td>\n",
       "      <td>4.76</td>\n",
       "      <td>0.0</td>\n",
       "      <td>26544.0</td>\n",
       "      <td>13272.000000</td>\n",
       "      <td>51</td>\n",
       "    </tr>\n",
       "  </tbody>\n",
       "</table>\n",
       "<p>70019 rows × 32 columns</p>\n",
       "</div>"
      ],
      "text/plain": [
       "       host_since  host_response_rate  host_acceptance_rate   \n",
       "0      2009-04-03               100.0                   0.0  \\\n",
       "1      2010-07-18               100.0                  92.0   \n",
       "2      2011-08-06               100.0                 100.0   \n",
       "3      2010-07-21               100.0                 100.0   \n",
       "4      2012-02-01                98.0                  99.0   \n",
       "...           ...                 ...                   ...   \n",
       "70014  2011-09-27               100.0                  77.0   \n",
       "70015  2013-09-30                 NaN                  50.0   \n",
       "70016  2012-07-27                98.0                  94.0   \n",
       "70017  2013-08-08               100.0                   0.0   \n",
       "70018  2013-08-22               100.0                  99.0   \n",
       "\n",
       "       host_is_superhost  host_total_listings_count  host_identity_verified   \n",
       "0                    0.0                        1.0                     1.0  \\\n",
       "1                    1.0                        3.0                     1.0   \n",
       "2                    1.0                        1.0                     1.0   \n",
       "3                    1.0                        1.0                     1.0   \n",
       "4                    1.0                        7.0                     1.0   \n",
       "...                  ...                        ...                     ...   \n",
       "70014                0.0                        3.0                     1.0   \n",
       "70015                0.0                        2.0                     1.0   \n",
       "70016                0.0                      179.0                     1.0   \n",
       "70017                0.0                        2.0                     1.0   \n",
       "70018                1.0                       10.0                     1.0   \n",
       "\n",
       "      neighbourhood_cleansed        room_type  accommodates  bathrooms_text   \n",
       "0                 District 6     Private room             1             1.0  \\\n",
       "1                District 18     Private room             2             1.0   \n",
       "2                District 25  Entire home/apt             4             1.0   \n",
       "3                District 18  Entire home/apt             4             1.0   \n",
       "4                District 19  Entire home/apt             2             1.0   \n",
       "...                      ...              ...           ...             ...   \n",
       "70014         North Delridge  Entire home/apt             3             1.0   \n",
       "70015                 Bryant     Private room             2             1.0   \n",
       "70016    University District  Entire home/apt             2             1.0   \n",
       "70017    University District  Entire home/apt             6             1.0   \n",
       "70018               Broadway     Private room             2             1.5   \n",
       "\n",
       "       ...  review_scores_accuracy  review_scores_cleanliness   \n",
       "0      ...                    4.94                       4.96  \\\n",
       "1      ...                    4.96                       4.95   \n",
       "2      ...                    4.95                       4.91   \n",
       "3      ...                    4.90                       4.81   \n",
       "4      ...                    4.97                       4.98   \n",
       "...    ...                     ...                        ...   \n",
       "70014  ...                    4.94                       4.75   \n",
       "70015  ...                    4.93                       4.83   \n",
       "70016  ...                    4.59                       4.48   \n",
       "70017  ...                    4.41                       4.12   \n",
       "70018  ...                    4.89                       4.84   \n",
       "\n",
       "      review_scores_checkin  review_scores_communication   \n",
       "0                      4.97                         4.96  \\\n",
       "1                      4.99                         4.97   \n",
       "2                      4.97                         4.97   \n",
       "3                      4.98                         4.99   \n",
       "4                      4.97                         4.96   \n",
       "...                     ...                          ...   \n",
       "70014                  4.98                         4.95   \n",
       "70015                  4.87                         4.93   \n",
       "70016                  4.49                         4.61   \n",
       "70017                  4.55                         4.56   \n",
       "70018                  4.89                         4.85   \n",
       "\n",
       "       review_scores_location  review_scores_value  instant_bookable   \n",
       "0                        4.92                 4.98               0.0  \\\n",
       "1                        4.95                 4.94               0.0   \n",
       "2                        4.94                 4.93               0.0   \n",
       "3                        4.96                 4.89               0.0   \n",
       "4                        4.80                 4.93               0.0   \n",
       "...                       ...                  ...               ...   \n",
       "70014                    4.80                 4.92               0.0   \n",
       "70015                    4.85                 4.72               0.0   \n",
       "70016                    4.47                 4.27               0.0   \n",
       "70017                    4.65                 4.30               0.0   \n",
       "70018                    4.89                 4.76               0.0   \n",
       "\n",
       "       revenue_365  revenue_pp_365  amenities_count  \n",
       "0           2408.0     2408.000000               54  \n",
       "1          13370.0     6685.000000               23  \n",
       "2          52195.0    13048.750000               39  \n",
       "3          26900.0     6725.000000               27  \n",
       "4          92394.0    46197.000000               42  \n",
       "...            ...             ...              ...  \n",
       "70014      18105.0     6035.000000               57  \n",
       "70015          0.0        0.000000               46  \n",
       "70016          0.0        0.000000               44  \n",
       "70017       5060.0      843.333333               11  \n",
       "70018      26544.0    13272.000000               51  \n",
       "\n",
       "[70019 rows x 32 columns]"
      ]
     },
     "execution_count": 3,
     "metadata": {},
     "output_type": "execute_result"
    }
   ],
   "source": [
    "df_ml_all"
   ]
  },
  {
   "cell_type": "code",
   "execution_count": 4,
   "id": "fd99cc00",
   "metadata": {},
   "outputs": [
    {
     "data": {
      "text/html": [
       "<div>\n",
       "<style scoped>\n",
       "    .dataframe tbody tr th:only-of-type {\n",
       "        vertical-align: middle;\n",
       "    }\n",
       "\n",
       "    .dataframe tbody tr th {\n",
       "        vertical-align: top;\n",
       "    }\n",
       "\n",
       "    .dataframe thead th {\n",
       "        text-align: right;\n",
       "    }\n",
       "</style>\n",
       "<table border=\"1\" class=\"dataframe\">\n",
       "  <thead>\n",
       "    <tr style=\"text-align: right;\">\n",
       "      <th></th>\n",
       "      <th>host_since</th>\n",
       "      <th>host_response_rate</th>\n",
       "      <th>host_acceptance_rate</th>\n",
       "      <th>host_is_superhost</th>\n",
       "      <th>host_total_listings_count</th>\n",
       "      <th>host_identity_verified</th>\n",
       "      <th>neighbourhood_cleansed</th>\n",
       "      <th>room_type</th>\n",
       "      <th>accommodates</th>\n",
       "      <th>bathrooms_text</th>\n",
       "      <th>...</th>\n",
       "      <th>review_scores_accuracy</th>\n",
       "      <th>review_scores_cleanliness</th>\n",
       "      <th>review_scores_checkin</th>\n",
       "      <th>review_scores_communication</th>\n",
       "      <th>review_scores_location</th>\n",
       "      <th>review_scores_value</th>\n",
       "      <th>instant_bookable</th>\n",
       "      <th>revenue_365</th>\n",
       "      <th>revenue_pp_365</th>\n",
       "      <th>amenities_count</th>\n",
       "    </tr>\n",
       "  </thead>\n",
       "  <tbody>\n",
       "    <tr>\n",
       "      <th>0</th>\n",
       "      <td>2009-04-03</td>\n",
       "      <td>100.0</td>\n",
       "      <td>0.0</td>\n",
       "      <td>0.0</td>\n",
       "      <td>1.0</td>\n",
       "      <td>1.0</td>\n",
       "      <td>District 6</td>\n",
       "      <td>Private room</td>\n",
       "      <td>1</td>\n",
       "      <td>1.0</td>\n",
       "      <td>...</td>\n",
       "      <td>4.94</td>\n",
       "      <td>4.96</td>\n",
       "      <td>4.97</td>\n",
       "      <td>4.96</td>\n",
       "      <td>4.92</td>\n",
       "      <td>4.98</td>\n",
       "      <td>0.0</td>\n",
       "      <td>2408.0</td>\n",
       "      <td>2408.000000</td>\n",
       "      <td>54</td>\n",
       "    </tr>\n",
       "    <tr>\n",
       "      <th>1</th>\n",
       "      <td>2010-07-18</td>\n",
       "      <td>100.0</td>\n",
       "      <td>92.0</td>\n",
       "      <td>1.0</td>\n",
       "      <td>3.0</td>\n",
       "      <td>1.0</td>\n",
       "      <td>District 18</td>\n",
       "      <td>Private room</td>\n",
       "      <td>2</td>\n",
       "      <td>1.0</td>\n",
       "      <td>...</td>\n",
       "      <td>4.96</td>\n",
       "      <td>4.95</td>\n",
       "      <td>4.99</td>\n",
       "      <td>4.97</td>\n",
       "      <td>4.95</td>\n",
       "      <td>4.94</td>\n",
       "      <td>0.0</td>\n",
       "      <td>13370.0</td>\n",
       "      <td>6685.000000</td>\n",
       "      <td>23</td>\n",
       "    </tr>\n",
       "    <tr>\n",
       "      <th>2</th>\n",
       "      <td>2011-08-06</td>\n",
       "      <td>100.0</td>\n",
       "      <td>100.0</td>\n",
       "      <td>1.0</td>\n",
       "      <td>1.0</td>\n",
       "      <td>1.0</td>\n",
       "      <td>District 25</td>\n",
       "      <td>Entire home/apt</td>\n",
       "      <td>4</td>\n",
       "      <td>1.0</td>\n",
       "      <td>...</td>\n",
       "      <td>4.95</td>\n",
       "      <td>4.91</td>\n",
       "      <td>4.97</td>\n",
       "      <td>4.97</td>\n",
       "      <td>4.94</td>\n",
       "      <td>4.93</td>\n",
       "      <td>0.0</td>\n",
       "      <td>52195.0</td>\n",
       "      <td>13048.750000</td>\n",
       "      <td>39</td>\n",
       "    </tr>\n",
       "    <tr>\n",
       "      <th>3</th>\n",
       "      <td>2010-07-21</td>\n",
       "      <td>100.0</td>\n",
       "      <td>100.0</td>\n",
       "      <td>1.0</td>\n",
       "      <td>1.0</td>\n",
       "      <td>1.0</td>\n",
       "      <td>District 18</td>\n",
       "      <td>Entire home/apt</td>\n",
       "      <td>4</td>\n",
       "      <td>1.0</td>\n",
       "      <td>...</td>\n",
       "      <td>4.90</td>\n",
       "      <td>4.81</td>\n",
       "      <td>4.98</td>\n",
       "      <td>4.99</td>\n",
       "      <td>4.96</td>\n",
       "      <td>4.89</td>\n",
       "      <td>0.0</td>\n",
       "      <td>26900.0</td>\n",
       "      <td>6725.000000</td>\n",
       "      <td>27</td>\n",
       "    </tr>\n",
       "    <tr>\n",
       "      <th>4</th>\n",
       "      <td>2012-02-01</td>\n",
       "      <td>98.0</td>\n",
       "      <td>99.0</td>\n",
       "      <td>1.0</td>\n",
       "      <td>7.0</td>\n",
       "      <td>1.0</td>\n",
       "      <td>District 19</td>\n",
       "      <td>Entire home/apt</td>\n",
       "      <td>2</td>\n",
       "      <td>1.0</td>\n",
       "      <td>...</td>\n",
       "      <td>4.97</td>\n",
       "      <td>4.98</td>\n",
       "      <td>4.97</td>\n",
       "      <td>4.96</td>\n",
       "      <td>4.80</td>\n",
       "      <td>4.93</td>\n",
       "      <td>0.0</td>\n",
       "      <td>92394.0</td>\n",
       "      <td>46197.000000</td>\n",
       "      <td>42</td>\n",
       "    </tr>\n",
       "    <tr>\n",
       "      <th>...</th>\n",
       "      <td>...</td>\n",
       "      <td>...</td>\n",
       "      <td>...</td>\n",
       "      <td>...</td>\n",
       "      <td>...</td>\n",
       "      <td>...</td>\n",
       "      <td>...</td>\n",
       "      <td>...</td>\n",
       "      <td>...</td>\n",
       "      <td>...</td>\n",
       "      <td>...</td>\n",
       "      <td>...</td>\n",
       "      <td>...</td>\n",
       "      <td>...</td>\n",
       "      <td>...</td>\n",
       "      <td>...</td>\n",
       "      <td>...</td>\n",
       "      <td>...</td>\n",
       "      <td>...</td>\n",
       "      <td>...</td>\n",
       "      <td>...</td>\n",
       "    </tr>\n",
       "    <tr>\n",
       "      <th>70012</th>\n",
       "      <td>2013-09-20</td>\n",
       "      <td>80.0</td>\n",
       "      <td>100.0</td>\n",
       "      <td>0.0</td>\n",
       "      <td>5.0</td>\n",
       "      <td>1.0</td>\n",
       "      <td>West Queen Anne</td>\n",
       "      <td>Entire home/apt</td>\n",
       "      <td>6</td>\n",
       "      <td>2.0</td>\n",
       "      <td>...</td>\n",
       "      <td>4.80</td>\n",
       "      <td>5.00</td>\n",
       "      <td>5.00</td>\n",
       "      <td>5.00</td>\n",
       "      <td>5.00</td>\n",
       "      <td>4.60</td>\n",
       "      <td>1.0</td>\n",
       "      <td>2310.0</td>\n",
       "      <td>385.000000</td>\n",
       "      <td>25</td>\n",
       "    </tr>\n",
       "    <tr>\n",
       "      <th>70014</th>\n",
       "      <td>2011-09-27</td>\n",
       "      <td>100.0</td>\n",
       "      <td>77.0</td>\n",
       "      <td>0.0</td>\n",
       "      <td>3.0</td>\n",
       "      <td>1.0</td>\n",
       "      <td>North Delridge</td>\n",
       "      <td>Entire home/apt</td>\n",
       "      <td>3</td>\n",
       "      <td>1.0</td>\n",
       "      <td>...</td>\n",
       "      <td>4.94</td>\n",
       "      <td>4.75</td>\n",
       "      <td>4.98</td>\n",
       "      <td>4.95</td>\n",
       "      <td>4.80</td>\n",
       "      <td>4.92</td>\n",
       "      <td>0.0</td>\n",
       "      <td>18105.0</td>\n",
       "      <td>6035.000000</td>\n",
       "      <td>57</td>\n",
       "    </tr>\n",
       "    <tr>\n",
       "      <th>70016</th>\n",
       "      <td>2012-07-27</td>\n",
       "      <td>98.0</td>\n",
       "      <td>94.0</td>\n",
       "      <td>0.0</td>\n",
       "      <td>179.0</td>\n",
       "      <td>1.0</td>\n",
       "      <td>University District</td>\n",
       "      <td>Entire home/apt</td>\n",
       "      <td>2</td>\n",
       "      <td>1.0</td>\n",
       "      <td>...</td>\n",
       "      <td>4.59</td>\n",
       "      <td>4.48</td>\n",
       "      <td>4.49</td>\n",
       "      <td>4.61</td>\n",
       "      <td>4.47</td>\n",
       "      <td>4.27</td>\n",
       "      <td>0.0</td>\n",
       "      <td>0.0</td>\n",
       "      <td>0.000000</td>\n",
       "      <td>44</td>\n",
       "    </tr>\n",
       "    <tr>\n",
       "      <th>70017</th>\n",
       "      <td>2013-08-08</td>\n",
       "      <td>100.0</td>\n",
       "      <td>0.0</td>\n",
       "      <td>0.0</td>\n",
       "      <td>2.0</td>\n",
       "      <td>1.0</td>\n",
       "      <td>University District</td>\n",
       "      <td>Entire home/apt</td>\n",
       "      <td>6</td>\n",
       "      <td>1.0</td>\n",
       "      <td>...</td>\n",
       "      <td>4.41</td>\n",
       "      <td>4.12</td>\n",
       "      <td>4.55</td>\n",
       "      <td>4.56</td>\n",
       "      <td>4.65</td>\n",
       "      <td>4.30</td>\n",
       "      <td>0.0</td>\n",
       "      <td>5060.0</td>\n",
       "      <td>843.333333</td>\n",
       "      <td>11</td>\n",
       "    </tr>\n",
       "    <tr>\n",
       "      <th>70018</th>\n",
       "      <td>2013-08-22</td>\n",
       "      <td>100.0</td>\n",
       "      <td>99.0</td>\n",
       "      <td>1.0</td>\n",
       "      <td>10.0</td>\n",
       "      <td>1.0</td>\n",
       "      <td>Broadway</td>\n",
       "      <td>Private room</td>\n",
       "      <td>2</td>\n",
       "      <td>1.5</td>\n",
       "      <td>...</td>\n",
       "      <td>4.89</td>\n",
       "      <td>4.84</td>\n",
       "      <td>4.89</td>\n",
       "      <td>4.85</td>\n",
       "      <td>4.89</td>\n",
       "      <td>4.76</td>\n",
       "      <td>0.0</td>\n",
       "      <td>26544.0</td>\n",
       "      <td>13272.000000</td>\n",
       "      <td>51</td>\n",
       "    </tr>\n",
       "  </tbody>\n",
       "</table>\n",
       "<p>38961 rows × 32 columns</p>\n",
       "</div>"
      ],
      "text/plain": [
       "       host_since  host_response_rate  host_acceptance_rate   \n",
       "0      2009-04-03               100.0                   0.0  \\\n",
       "1      2010-07-18               100.0                  92.0   \n",
       "2      2011-08-06               100.0                 100.0   \n",
       "3      2010-07-21               100.0                 100.0   \n",
       "4      2012-02-01                98.0                  99.0   \n",
       "...           ...                 ...                   ...   \n",
       "70012  2013-09-20                80.0                 100.0   \n",
       "70014  2011-09-27               100.0                  77.0   \n",
       "70016  2012-07-27                98.0                  94.0   \n",
       "70017  2013-08-08               100.0                   0.0   \n",
       "70018  2013-08-22               100.0                  99.0   \n",
       "\n",
       "       host_is_superhost  host_total_listings_count  host_identity_verified   \n",
       "0                    0.0                        1.0                     1.0  \\\n",
       "1                    1.0                        3.0                     1.0   \n",
       "2                    1.0                        1.0                     1.0   \n",
       "3                    1.0                        1.0                     1.0   \n",
       "4                    1.0                        7.0                     1.0   \n",
       "...                  ...                        ...                     ...   \n",
       "70012                0.0                        5.0                     1.0   \n",
       "70014                0.0                        3.0                     1.0   \n",
       "70016                0.0                      179.0                     1.0   \n",
       "70017                0.0                        2.0                     1.0   \n",
       "70018                1.0                       10.0                     1.0   \n",
       "\n",
       "      neighbourhood_cleansed        room_type  accommodates  bathrooms_text   \n",
       "0                 District 6     Private room             1             1.0  \\\n",
       "1                District 18     Private room             2             1.0   \n",
       "2                District 25  Entire home/apt             4             1.0   \n",
       "3                District 18  Entire home/apt             4             1.0   \n",
       "4                District 19  Entire home/apt             2             1.0   \n",
       "...                      ...              ...           ...             ...   \n",
       "70012        West Queen Anne  Entire home/apt             6             2.0   \n",
       "70014         North Delridge  Entire home/apt             3             1.0   \n",
       "70016    University District  Entire home/apt             2             1.0   \n",
       "70017    University District  Entire home/apt             6             1.0   \n",
       "70018               Broadway     Private room             2             1.5   \n",
       "\n",
       "       ...  review_scores_accuracy  review_scores_cleanliness   \n",
       "0      ...                    4.94                       4.96  \\\n",
       "1      ...                    4.96                       4.95   \n",
       "2      ...                    4.95                       4.91   \n",
       "3      ...                    4.90                       4.81   \n",
       "4      ...                    4.97                       4.98   \n",
       "...    ...                     ...                        ...   \n",
       "70012  ...                    4.80                       5.00   \n",
       "70014  ...                    4.94                       4.75   \n",
       "70016  ...                    4.59                       4.48   \n",
       "70017  ...                    4.41                       4.12   \n",
       "70018  ...                    4.89                       4.84   \n",
       "\n",
       "      review_scores_checkin  review_scores_communication   \n",
       "0                      4.97                         4.96  \\\n",
       "1                      4.99                         4.97   \n",
       "2                      4.97                         4.97   \n",
       "3                      4.98                         4.99   \n",
       "4                      4.97                         4.96   \n",
       "...                     ...                          ...   \n",
       "70012                  5.00                         5.00   \n",
       "70014                  4.98                         4.95   \n",
       "70016                  4.49                         4.61   \n",
       "70017                  4.55                         4.56   \n",
       "70018                  4.89                         4.85   \n",
       "\n",
       "       review_scores_location  review_scores_value  instant_bookable   \n",
       "0                        4.92                 4.98               0.0  \\\n",
       "1                        4.95                 4.94               0.0   \n",
       "2                        4.94                 4.93               0.0   \n",
       "3                        4.96                 4.89               0.0   \n",
       "4                        4.80                 4.93               0.0   \n",
       "...                       ...                  ...               ...   \n",
       "70012                    5.00                 4.60               1.0   \n",
       "70014                    4.80                 4.92               0.0   \n",
       "70016                    4.47                 4.27               0.0   \n",
       "70017                    4.65                 4.30               0.0   \n",
       "70018                    4.89                 4.76               0.0   \n",
       "\n",
       "       revenue_365  revenue_pp_365  amenities_count  \n",
       "0           2408.0     2408.000000               54  \n",
       "1          13370.0     6685.000000               23  \n",
       "2          52195.0    13048.750000               39  \n",
       "3          26900.0     6725.000000               27  \n",
       "4          92394.0    46197.000000               42  \n",
       "...            ...             ...              ...  \n",
       "70012       2310.0      385.000000               25  \n",
       "70014      18105.0     6035.000000               57  \n",
       "70016          0.0        0.000000               44  \n",
       "70017       5060.0      843.333333               11  \n",
       "70018      26544.0    13272.000000               51  \n",
       "\n",
       "[38961 rows x 32 columns]"
      ]
     },
     "execution_count": 4,
     "metadata": {},
     "output_type": "execute_result"
    }
   ],
   "source": [
    "# Drop all rows with NaN values for ML purposes.\n",
    "df_ml_all = df_ml_all.dropna()\n",
    "\n",
    "df_ml_all"
   ]
  },
  {
   "cell_type": "markdown",
   "id": "11445e3b",
   "metadata": {},
   "source": [
    "# Random Forest Classifier"
   ]
  },
  {
   "cell_type": "code",
   "execution_count": 5,
   "id": "bc2ec73d",
   "metadata": {},
   "outputs": [],
   "source": [
    "# Calculate the quartiles for 'price'.\n",
    "quartiles = df_ml_all['price'].quantile([.25, .5, .75])\n",
    "lowerq = quartiles[0.25]\n",
    "mean = quartiles[0.5]\n",
    "upperq = quartiles[0.75]\n",
    "iqr = upperq - lowerq \n",
    "lower_bound = lowerq - (1.5 * iqr)\n",
    "upper_bound = upperq + (1.5 * iqr)"
   ]
  },
  {
   "cell_type": "code",
   "execution_count": 6,
   "id": "77968d5c",
   "metadata": {},
   "outputs": [
    {
     "name": "stderr",
     "output_type": "stream",
     "text": [
      "C:\\Users\\radov\\AppData\\Local\\Temp\\ipykernel_14600\\3205926442.py:2: SettingWithCopyWarning: \n",
      "A value is trying to be set on a copy of a slice from a DataFrame.\n",
      "Try using .loc[row_indexer,col_indexer] = value instead\n",
      "\n",
      "See the caveats in the documentation: https://pandas.pydata.org/pandas-docs/stable/user_guide/indexing.html#returning-a-view-versus-a-copy\n",
      "  df_ml_all['price_binary'] = df_ml_all['price']\n",
      "C:\\Users\\radov\\AppData\\Local\\Temp\\ipykernel_14600\\3205926442.py:10: SettingWithCopyWarning: \n",
      "A value is trying to be set on a copy of a slice from a DataFrame.\n",
      "Try using .loc[row_indexer,col_indexer] = value instead\n",
      "\n",
      "See the caveats in the documentation: https://pandas.pydata.org/pandas-docs/stable/user_guide/indexing.html#returning-a-view-versus-a-copy\n",
      "  df_ml_all['price_binary'] = df_ml_all['price_binary'].replace(i, 0)\n",
      "C:\\Users\\radov\\AppData\\Local\\Temp\\ipykernel_14600\\3205926442.py:7: SettingWithCopyWarning: \n",
      "A value is trying to be set on a copy of a slice from a DataFrame.\n",
      "Try using .loc[row_indexer,col_indexer] = value instead\n",
      "\n",
      "See the caveats in the documentation: https://pandas.pydata.org/pandas-docs/stable/user_guide/indexing.html#returning-a-view-versus-a-copy\n",
      "  df_ml_all['price_binary'] = df_ml_all['price_binary'].replace(i, 1)\n"
     ]
    }
   ],
   "source": [
    "# Loop through each row and bin them together accordingly.\n",
    "df_ml_all['price_binary'] = df_ml_all['price']\n",
    "\n",
    "for i in df_ml_all['price_binary']:\n",
    "    \n",
    "    if i > mean:\n",
    "        df_ml_all['price_binary'] = df_ml_all['price_binary'].replace(i, 1)\n",
    "        \n",
    "    else:\n",
    "        df_ml_all['price_binary'] = df_ml_all['price_binary'].replace(i, 0)"
   ]
  },
  {
   "cell_type": "code",
   "execution_count": 7,
   "id": "edd4d3dc",
   "metadata": {},
   "outputs": [
    {
     "data": {
      "text/plain": [
       "price_binary\n",
       "0.0    19509\n",
       "1.0    19452\n",
       "Name: count, dtype: int64"
      ]
     },
     "execution_count": 7,
     "metadata": {},
     "output_type": "execute_result"
    }
   ],
   "source": [
    "df_ml_all['price_binary'].value_counts()"
   ]
  },
  {
   "cell_type": "code",
   "execution_count": 8,
   "id": "2d4e55f9",
   "metadata": {},
   "outputs": [
    {
     "data": {
      "text/plain": [
       "Index(['host_since', 'host_response_rate', 'host_acceptance_rate',\n",
       "       'host_is_superhost', 'host_total_listings_count',\n",
       "       'host_identity_verified', 'neighbourhood_cleansed', 'room_type',\n",
       "       'accommodates', 'bathrooms_text', 'bedrooms', 'beds', 'amenities',\n",
       "       'price', 'minimum_nights', 'maximum_nights', 'availability_30',\n",
       "       'availability_60', 'availability_90', 'availability_365',\n",
       "       'number_of_reviews', 'review_scores_rating', 'review_scores_accuracy',\n",
       "       'review_scores_cleanliness', 'review_scores_checkin',\n",
       "       'review_scores_communication', 'review_scores_location',\n",
       "       'review_scores_value', 'instant_bookable', 'revenue_365',\n",
       "       'revenue_pp_365', 'amenities_count', 'price_binary'],\n",
       "      dtype='object')"
      ]
     },
     "execution_count": 8,
     "metadata": {},
     "output_type": "execute_result"
    }
   ],
   "source": [
    "df_ml_all.columns"
   ]
  },
  {
   "cell_type": "code",
   "execution_count": 9,
   "id": "9a96fc2b",
   "metadata": {},
   "outputs": [],
   "source": [
    "X = df_ml_all.drop(columns=['host_since', 'host_response_rate', 'host_acceptance_rate', 'host_total_listings_count', 'price', 'minimum_nights', 'maximum_nights', 'availability_30',\n",
    "       'availability_60', 'availability_90', 'availability_365', 'revenue_365',\n",
    "       'revenue_pp_365', 'price_binary', 'amenities', 'neighbourhood_cleansed', 'room_type'])\n",
    "\n",
    "y = df_ml_all['price_binary']"
   ]
  },
  {
   "cell_type": "code",
   "execution_count": 10,
   "id": "c22257b1",
   "metadata": {},
   "outputs": [
    {
     "data": {
      "text/plain": [
       "Index(['host_is_superhost', 'host_identity_verified', 'accommodates',\n",
       "       'bathrooms_text', 'bedrooms', 'beds', 'number_of_reviews',\n",
       "       'review_scores_rating', 'review_scores_accuracy',\n",
       "       'review_scores_cleanliness', 'review_scores_checkin',\n",
       "       'review_scores_communication', 'review_scores_location',\n",
       "       'review_scores_value', 'instant_bookable', 'amenities_count'],\n",
       "      dtype='object')"
      ]
     },
     "execution_count": 10,
     "metadata": {},
     "output_type": "execute_result"
    }
   ],
   "source": [
    "X.columns"
   ]
  },
  {
   "cell_type": "code",
   "execution_count": 11,
   "id": "9c19d030",
   "metadata": {},
   "outputs": [],
   "source": [
    "# Splitting into Train and Test sets.\n",
    "X_train, X_test, y_train, y_test = train_test_split(X, y, random_state=1)\n",
    "\n",
    "# Creating StandardScaler instance.\n",
    "scaler = StandardScaler()\n",
    "\n",
    "# Fitting StandardScaler.\n",
    "X_scaler = scaler.fit(X_train)\n",
    "\n",
    "# Scaling data.\n",
    "X_train_scaled = X_scaler.transform(X_train)\n",
    "X_test_scaled = X_scaler.transform(X_test)"
   ]
  },
  {
   "cell_type": "code",
   "execution_count": 12,
   "id": "b022ec6d",
   "metadata": {},
   "outputs": [],
   "source": [
    "# Create a random forest classifier.\n",
    "rf_model = RandomForestClassifier(n_estimators=500, random_state=1)\n",
    "\n",
    "# Fitting the model\n",
    "rf_model = rf_model.fit(X_train_scaled, y_train)\n",
    "\n",
    "# Making predictions using the testing data\n",
    "predictions = rf_model.predict(X_test_scaled)"
   ]
  },
  {
   "cell_type": "code",
   "execution_count": 13,
   "id": "a914b443",
   "metadata": {},
   "outputs": [
    {
     "name": "stdout",
     "output_type": "stream",
     "text": [
      "Confusion Matrix\n"
     ]
    },
    {
     "data": {
      "text/html": [
       "<div>\n",
       "<style scoped>\n",
       "    .dataframe tbody tr th:only-of-type {\n",
       "        vertical-align: middle;\n",
       "    }\n",
       "\n",
       "    .dataframe tbody tr th {\n",
       "        vertical-align: top;\n",
       "    }\n",
       "\n",
       "    .dataframe thead th {\n",
       "        text-align: right;\n",
       "    }\n",
       "</style>\n",
       "<table border=\"1\" class=\"dataframe\">\n",
       "  <thead>\n",
       "    <tr style=\"text-align: right;\">\n",
       "      <th></th>\n",
       "      <th>Predicted 0</th>\n",
       "      <th>Predicted 1</th>\n",
       "    </tr>\n",
       "  </thead>\n",
       "  <tbody>\n",
       "    <tr>\n",
       "      <th>Actual 0</th>\n",
       "      <td>3876</td>\n",
       "      <td>961</td>\n",
       "    </tr>\n",
       "    <tr>\n",
       "      <th>Actual 1</th>\n",
       "      <td>1083</td>\n",
       "      <td>3821</td>\n",
       "    </tr>\n",
       "  </tbody>\n",
       "</table>\n",
       "</div>"
      ],
      "text/plain": [
       "          Predicted 0  Predicted 1\n",
       "Actual 0         3876          961\n",
       "Actual 1         1083         3821"
      ]
     },
     "metadata": {},
     "output_type": "display_data"
    },
    {
     "name": "stdout",
     "output_type": "stream",
     "text": [
      "Accuracy Score : 0.7901652807719947\n",
      "Classification Report\n",
      "              precision    recall  f1-score   support\n",
      "\n",
      "         0.0       0.78      0.80      0.79      4837\n",
      "         1.0       0.80      0.78      0.79      4904\n",
      "\n",
      "    accuracy                           0.79      9741\n",
      "   macro avg       0.79      0.79      0.79      9741\n",
      "weighted avg       0.79      0.79      0.79      9741\n",
      "\n"
     ]
    }
   ],
   "source": [
    "# Calculating the confusion matrix.\n",
    "matrix = confusion_matrix(y_test, predictions)\n",
    "matrix_df = pd.DataFrame(\n",
    "    matrix, index=[\"Actual 0\", \"Actual 1\"], columns=[\"Predicted 0\", \"Predicted 1\"]\n",
    ")\n",
    "\n",
    "# Calculating the accuracy score.\n",
    "acc_score = accuracy_score(y_test, predictions)\n",
    "\n",
    "# Displaying results.\n",
    "print(\"Confusion Matrix\")\n",
    "display(matrix_df)\n",
    "print(f\"Accuracy Score : {acc_score}\")\n",
    "print(\"Classification Report\")\n",
    "print(classification_report(y_test, predictions))"
   ]
  },
  {
   "cell_type": "code",
   "execution_count": 14,
   "id": "521ac35b",
   "metadata": {},
   "outputs": [
    {
     "data": {
      "text/plain": [
       "[(0.16235195442835923, 'accommodates'),\n",
       " (0.10674489558443544, 'amenities_count'),\n",
       " (0.10079084829462963, 'bedrooms'),\n",
       " (0.08087787441787549, 'beds'),\n",
       " (0.07791983327100714, 'review_scores_location'),\n",
       " (0.07696611412572639, 'number_of_reviews'),\n",
       " (0.06390567025794801, 'review_scores_value'),\n",
       " (0.05495483180767522, 'bathrooms_text'),\n",
       " (0.05415661478036707, 'review_scores_cleanliness'),\n",
       " (0.05050957201942022, 'review_scores_rating'),\n",
       " (0.04722376800708776, 'review_scores_accuracy'),\n",
       " (0.045221228417856, 'review_scores_checkin'),\n",
       " (0.04124234580026706, 'review_scores_communication'),\n",
       " (0.01455311646163961, 'instant_bookable'),\n",
       " (0.012604318147447346, 'host_is_superhost'),\n",
       " (0.009977014178258322, 'host_identity_verified')]"
      ]
     },
     "execution_count": 14,
     "metadata": {},
     "output_type": "execute_result"
    }
   ],
   "source": [
    "# Calculate feature importance.\n",
    "importances = rf_model.feature_importances_\n",
    "\n",
    "# Sort the features by their importance.\n",
    "sorted(zip(rf_model.feature_importances_, X.columns), reverse=True)"
   ]
  },
  {
   "cell_type": "code",
   "execution_count": null,
   "id": "b36ddf12",
   "metadata": {},
   "outputs": [],
   "source": []
  },
  {
   "cell_type": "code",
   "execution_count": 15,
   "id": "2559d5b3",
   "metadata": {},
   "outputs": [],
   "source": [
    "# Calculate the quartiles for 'price'.\n",
    "quartiles = df_ml_all['revenue_pp_365'].quantile([.25, .5, .75])\n",
    "lowerq = quartiles[0.25]\n",
    "mean = quartiles[0.5]\n",
    "upperq = quartiles[0.75]\n",
    "iqr = upperq - lowerq \n",
    "lower_bound = lowerq - (1.5 * iqr)\n",
    "upper_bound = upperq + (1.5 * iqr)"
   ]
  },
  {
   "cell_type": "code",
   "execution_count": 16,
   "id": "9eac7b6a",
   "metadata": {},
   "outputs": [
    {
     "name": "stderr",
     "output_type": "stream",
     "text": [
      "C:\\Users\\radov\\AppData\\Local\\Temp\\ipykernel_14600\\88915059.py:2: SettingWithCopyWarning: \n",
      "A value is trying to be set on a copy of a slice from a DataFrame.\n",
      "Try using .loc[row_indexer,col_indexer] = value instead\n",
      "\n",
      "See the caveats in the documentation: https://pandas.pydata.org/pandas-docs/stable/user_guide/indexing.html#returning-a-view-versus-a-copy\n",
      "  df_ml_all['revenue_pp_365_binary'] = df_ml_all['revenue_pp_365']\n",
      "C:\\Users\\radov\\AppData\\Local\\Temp\\ipykernel_14600\\88915059.py:10: SettingWithCopyWarning: \n",
      "A value is trying to be set on a copy of a slice from a DataFrame.\n",
      "Try using .loc[row_indexer,col_indexer] = value instead\n",
      "\n",
      "See the caveats in the documentation: https://pandas.pydata.org/pandas-docs/stable/user_guide/indexing.html#returning-a-view-versus-a-copy\n",
      "  df_ml_all['revenue_pp_365_binary'] = df_ml_all['revenue_pp_365_binary'].replace(i, 0)\n",
      "C:\\Users\\radov\\AppData\\Local\\Temp\\ipykernel_14600\\88915059.py:7: SettingWithCopyWarning: \n",
      "A value is trying to be set on a copy of a slice from a DataFrame.\n",
      "Try using .loc[row_indexer,col_indexer] = value instead\n",
      "\n",
      "See the caveats in the documentation: https://pandas.pydata.org/pandas-docs/stable/user_guide/indexing.html#returning-a-view-versus-a-copy\n",
      "  df_ml_all['revenue_pp_365_binary'] = df_ml_all['revenue_pp_365_binary'].replace(i, 1)\n"
     ]
    }
   ],
   "source": [
    "# Loop through each row and bin them together accordingly.\n",
    "df_ml_all['revenue_pp_365_binary'] = df_ml_all['revenue_pp_365']\n",
    "\n",
    "for i in df_ml_all['revenue_pp_365_binary']:\n",
    "    \n",
    "    if i > mean:\n",
    "        df_ml_all['revenue_pp_365_binary'] = df_ml_all['revenue_pp_365_binary'].replace(i, 1)\n",
    "        \n",
    "    else:\n",
    "        df_ml_all['revenue_pp_365_binary'] = df_ml_all['revenue_pp_365_binary'].replace(i, 0)"
   ]
  },
  {
   "cell_type": "code",
   "execution_count": 17,
   "id": "71710d62",
   "metadata": {},
   "outputs": [
    {
     "data": {
      "text/plain": [
       "revenue_pp_365_binary\n",
       "0.0    19481\n",
       "1.0    19480\n",
       "Name: count, dtype: int64"
      ]
     },
     "execution_count": 17,
     "metadata": {},
     "output_type": "execute_result"
    }
   ],
   "source": [
    "df_ml_all['revenue_pp_365_binary'].value_counts()"
   ]
  },
  {
   "cell_type": "code",
   "execution_count": 18,
   "id": "a0c22b96",
   "metadata": {},
   "outputs": [],
   "source": [
    "X = df_ml_all.drop(columns=['host_since', 'host_response_rate', 'host_acceptance_rate', 'host_total_listings_count', 'price', 'minimum_nights', 'maximum_nights', 'availability_30',\n",
    "       'availability_60', 'availability_90', 'availability_365', 'revenue_365',\n",
    "       'revenue_pp_365', 'price_binary', 'amenities', 'neighbourhood_cleansed', 'room_type', 'price_binary', 'revenue_pp_365_binary'])\n",
    "\n",
    "y = df_ml_all['revenue_pp_365_binary']"
   ]
  },
  {
   "cell_type": "code",
   "execution_count": 19,
   "id": "d8a3174a",
   "metadata": {},
   "outputs": [
    {
     "data": {
      "text/plain": [
       "Index(['host_is_superhost', 'host_identity_verified', 'accommodates',\n",
       "       'bathrooms_text', 'bedrooms', 'beds', 'number_of_reviews',\n",
       "       'review_scores_rating', 'review_scores_accuracy',\n",
       "       'review_scores_cleanliness', 'review_scores_checkin',\n",
       "       'review_scores_communication', 'review_scores_location',\n",
       "       'review_scores_value', 'instant_bookable', 'amenities_count'],\n",
       "      dtype='object')"
      ]
     },
     "execution_count": 19,
     "metadata": {},
     "output_type": "execute_result"
    }
   ],
   "source": [
    "X.columns"
   ]
  },
  {
   "cell_type": "code",
   "execution_count": 20,
   "id": "be75843e",
   "metadata": {},
   "outputs": [],
   "source": [
    "# Splitting into Train and Test sets.\n",
    "X_train, X_test, y_train, y_test = train_test_split(X, y, random_state=1)\n",
    "\n",
    "# Creating StandardScaler instance.\n",
    "scaler = StandardScaler()\n",
    "\n",
    "# Fitting StandardScaler.\n",
    "X_scaler = scaler.fit(X_train)\n",
    "\n",
    "# Scaling data.\n",
    "X_train_scaled = X_scaler.transform(X_train)\n",
    "X_test_scaled = X_scaler.transform(X_test)"
   ]
  },
  {
   "cell_type": "code",
   "execution_count": 21,
   "id": "b0f64380",
   "metadata": {},
   "outputs": [],
   "source": [
    "# Create a random forest classifier.\n",
    "rf_model = RandomForestClassifier(n_estimators=500, random_state=1)\n",
    "\n",
    "# Fitting the model\n",
    "rf_model = rf_model.fit(X_train_scaled, y_train)\n",
    "\n",
    "# Making predictions using the testing data\n",
    "predictions = rf_model.predict(X_test_scaled)"
   ]
  },
  {
   "cell_type": "code",
   "execution_count": 22,
   "id": "c25a3c85",
   "metadata": {},
   "outputs": [
    {
     "name": "stdout",
     "output_type": "stream",
     "text": [
      "Confusion Matrix\n"
     ]
    },
    {
     "data": {
      "text/html": [
       "<div>\n",
       "<style scoped>\n",
       "    .dataframe tbody tr th:only-of-type {\n",
       "        vertical-align: middle;\n",
       "    }\n",
       "\n",
       "    .dataframe tbody tr th {\n",
       "        vertical-align: top;\n",
       "    }\n",
       "\n",
       "    .dataframe thead th {\n",
       "        text-align: right;\n",
       "    }\n",
       "</style>\n",
       "<table border=\"1\" class=\"dataframe\">\n",
       "  <thead>\n",
       "    <tr style=\"text-align: right;\">\n",
       "      <th></th>\n",
       "      <th>Predicted 0</th>\n",
       "      <th>Predicted 1</th>\n",
       "    </tr>\n",
       "  </thead>\n",
       "  <tbody>\n",
       "    <tr>\n",
       "      <th>Actual 0</th>\n",
       "      <td>3145</td>\n",
       "      <td>1674</td>\n",
       "    </tr>\n",
       "    <tr>\n",
       "      <th>Actual 1</th>\n",
       "      <td>1805</td>\n",
       "      <td>3117</td>\n",
       "    </tr>\n",
       "  </tbody>\n",
       "</table>\n",
       "</div>"
      ],
      "text/plain": [
       "          Predicted 0  Predicted 1\n",
       "Actual 0         3145         1674\n",
       "Actual 1         1805         3117"
      ]
     },
     "metadata": {},
     "output_type": "display_data"
    },
    {
     "name": "stdout",
     "output_type": "stream",
     "text": [
      "Accuracy Score : 0.6428498100811005\n",
      "Classification Report\n",
      "              precision    recall  f1-score   support\n",
      "\n",
      "         0.0       0.64      0.65      0.64      4819\n",
      "         1.0       0.65      0.63      0.64      4922\n",
      "\n",
      "    accuracy                           0.64      9741\n",
      "   macro avg       0.64      0.64      0.64      9741\n",
      "weighted avg       0.64      0.64      0.64      9741\n",
      "\n"
     ]
    }
   ],
   "source": [
    "# Calculating the confusion matrix.\n",
    "matrix = confusion_matrix(y_test, predictions)\n",
    "matrix_df = pd.DataFrame(\n",
    "    matrix, index=[\"Actual 0\", \"Actual 1\"], columns=[\"Predicted 0\", \"Predicted 1\"]\n",
    ")\n",
    "\n",
    "# Calculating the accuracy score.\n",
    "acc_score = accuracy_score(y_test, predictions)\n",
    "\n",
    "# Displaying results.\n",
    "print(\"Confusion Matrix\")\n",
    "display(matrix_df)\n",
    "print(f\"Accuracy Score : {acc_score}\")\n",
    "print(\"Classification Report\")\n",
    "print(classification_report(y_test, predictions))"
   ]
  },
  {
   "cell_type": "code",
   "execution_count": 23,
   "id": "22c4669e",
   "metadata": {},
   "outputs": [
    {
     "data": {
      "text/plain": [
       "[(0.14591994910602032, 'amenities_count'),\n",
       " (0.10625251264143484, 'number_of_reviews'),\n",
       " (0.0888320182815062, 'review_scores_location'),\n",
       " (0.08501166159110198, 'review_scores_value'),\n",
       " (0.07913909363778801, 'review_scores_cleanliness'),\n",
       " (0.07390230545830151, 'review_scores_rating'),\n",
       " (0.07039074255252564, 'accommodates'),\n",
       " (0.0697926634296432, 'review_scores_accuracy'),\n",
       " (0.06490378080072316, 'review_scores_checkin'),\n",
       " (0.06341130917373379, 'review_scores_communication'),\n",
       " (0.04115827650228873, 'beds'),\n",
       " (0.03387255734358796, 'bathrooms_text'),\n",
       " (0.02444629332941774, 'bedrooms'),\n",
       " (0.0199794174862483, 'instant_bookable'),\n",
       " (0.018698410579175803, 'host_is_superhost'),\n",
       " (0.01428900808650279, 'host_identity_verified')]"
      ]
     },
     "execution_count": 23,
     "metadata": {},
     "output_type": "execute_result"
    }
   ],
   "source": [
    "# Calculate feature importance.\n",
    "importances = rf_model.feature_importances_\n",
    "\n",
    "# Sort the features by their importance.\n",
    "sorted(zip(rf_model.feature_importances_, X.columns), reverse=True)"
   ]
  },
  {
   "cell_type": "markdown",
   "id": "b6d3179d",
   "metadata": {},
   "source": [
    "# Random Forest Regressor"
   ]
  },
  {
   "cell_type": "code",
   "execution_count": 24,
   "id": "ddc5d8dd",
   "metadata": {},
   "outputs": [],
   "source": [
    "# Define features and target sets.\n",
    "X = df_ml_all.drop(columns=['host_since', 'host_response_rate', 'host_acceptance_rate', 'host_total_listings_count', 'price', 'minimum_nights', 'maximum_nights', 'availability_30',\n",
    "       'availability_60', 'availability_90', 'availability_365', 'revenue_365',\n",
    "       'revenue_pp_365', 'price_binary', 'amenities', 'neighbourhood_cleansed', 'room_type', 'price_binary', 'revenue_pp_365_binary'])\n",
    "\n",
    "y = df_ml_all['price'].ravel()"
   ]
  },
  {
   "cell_type": "code",
   "execution_count": 25,
   "id": "1abf8f60",
   "metadata": {},
   "outputs": [
    {
     "data": {
      "text/plain": [
       "Index(['host_is_superhost', 'host_identity_verified', 'accommodates',\n",
       "       'bathrooms_text', 'bedrooms', 'beds', 'number_of_reviews',\n",
       "       'review_scores_rating', 'review_scores_accuracy',\n",
       "       'review_scores_cleanliness', 'review_scores_checkin',\n",
       "       'review_scores_communication', 'review_scores_location',\n",
       "       'review_scores_value', 'instant_bookable', 'amenities_count'],\n",
       "      dtype='object')"
      ]
     },
     "execution_count": 25,
     "metadata": {},
     "output_type": "execute_result"
    }
   ],
   "source": [
    "X.columns"
   ]
  },
  {
   "cell_type": "code",
   "execution_count": 26,
   "id": "a29ed62a",
   "metadata": {},
   "outputs": [],
   "source": [
    "# Splitting into Train and Test sets.\n",
    "X_train, X_test, y_train, y_test = train_test_split(X, y, random_state=1)\n",
    "\n",
    "# Creating StandardScaler instance.\n",
    "scaler = StandardScaler()\n",
    "\n",
    "# Fitting StandardScaler.\n",
    "X_scaler = scaler.fit(X_train)\n",
    "\n",
    "# Scaling data.\n",
    "X_train_scaled = X_scaler.transform(X_train)\n",
    "X_test_scaled = X_scaler.transform(X_test)"
   ]
  },
  {
   "cell_type": "code",
   "execution_count": 27,
   "id": "8bbd10a3",
   "metadata": {},
   "outputs": [],
   "source": [
    "regressor = RandomForestRegressor(n_estimators = 500, random_state = 0)\n",
    "regressor.fit(X_train_scaled, y_train)\n",
    "#predict the model\n",
    "prediction = regressor.predict(X_test_scaled)"
   ]
  },
  {
   "cell_type": "code",
   "execution_count": 28,
   "id": "79cb8d1e",
   "metadata": {},
   "outputs": [
    {
     "name": "stdout",
     "output_type": "stream",
     "text": [
      "MSE: 116.18571750841105\n",
      "R2: 0.5323659252903801\n"
     ]
    }
   ],
   "source": [
    "# print the metrics\n",
    "print(\"MSE:\", mean_squared_error(y_test, prediction, squared=False))\n",
    "\n",
    "print(\"R2:\", r2_score(y_test, prediction))"
   ]
  },
  {
   "cell_type": "code",
   "execution_count": 29,
   "id": "b279b565",
   "metadata": {},
   "outputs": [
    {
     "data": {
      "text/plain": [
       "[(0.2240168568871205, 'bedrooms'),\n",
       " (0.18347525025229552, 'accommodates'),\n",
       " (0.11060748974992067, 'bathrooms_text'),\n",
       " (0.09113218027994145, 'amenities_count'),\n",
       " (0.0669853676536806, 'review_scores_location'),\n",
       " (0.05451817483284924, 'number_of_reviews'),\n",
       " (0.05265026333051844, 'review_scores_value'),\n",
       " (0.0382379368035729, 'review_scores_cleanliness'),\n",
       " (0.03271472124191002, 'review_scores_rating'),\n",
       " (0.030815003951529425, 'review_scores_accuracy'),\n",
       " (0.029936767557550283, 'review_scores_checkin'),\n",
       " (0.029208142549941984, 'beds'),\n",
       " (0.026387736331371515, 'review_scores_communication'),\n",
       " (0.011766072726322397, 'instant_bookable'),\n",
       " (0.010206410839935813, 'host_is_superhost'),\n",
       " (0.007341625011539294, 'host_identity_verified')]"
      ]
     },
     "execution_count": 29,
     "metadata": {},
     "output_type": "execute_result"
    }
   ],
   "source": [
    "# Calculate feature importance.\n",
    "importances = regressor.feature_importances_\n",
    "\n",
    "# Sort the features by their importance.\n",
    "sorted(zip(regressor.feature_importances_, X.columns), reverse=True)"
   ]
  },
  {
   "cell_type": "code",
   "execution_count": null,
   "id": "f204919d",
   "metadata": {},
   "outputs": [],
   "source": []
  },
  {
   "cell_type": "code",
   "execution_count": 30,
   "id": "44be674f",
   "metadata": {},
   "outputs": [],
   "source": [
    "# Define features and target sets.\n",
    "X = df_ml_all.drop(columns=['host_since', 'host_response_rate', 'host_acceptance_rate', 'host_total_listings_count', 'price', 'minimum_nights', 'maximum_nights', 'availability_30',\n",
    "       'availability_60', 'availability_90', 'availability_365', 'revenue_365',\n",
    "       'revenue_pp_365', 'price_binary', 'amenities', 'neighbourhood_cleansed', 'room_type', 'price_binary', 'revenue_pp_365_binary'])\n",
    "\n",
    "y = df_ml_all['revenue_pp_365'].ravel()"
   ]
  },
  {
   "cell_type": "code",
   "execution_count": 31,
   "id": "34b843c9",
   "metadata": {},
   "outputs": [
    {
     "data": {
      "text/plain": [
       "Index(['host_is_superhost', 'host_identity_verified', 'accommodates',\n",
       "       'bathrooms_text', 'bedrooms', 'beds', 'number_of_reviews',\n",
       "       'review_scores_rating', 'review_scores_accuracy',\n",
       "       'review_scores_cleanliness', 'review_scores_checkin',\n",
       "       'review_scores_communication', 'review_scores_location',\n",
       "       'review_scores_value', 'instant_bookable', 'amenities_count'],\n",
       "      dtype='object')"
      ]
     },
     "execution_count": 31,
     "metadata": {},
     "output_type": "execute_result"
    }
   ],
   "source": [
    "X.columns"
   ]
  },
  {
   "cell_type": "code",
   "execution_count": 32,
   "id": "2b24486f",
   "metadata": {},
   "outputs": [],
   "source": [
    "# Splitting into Train and Test sets.\n",
    "X_train, X_test, y_train, y_test = train_test_split(X, y, random_state=1)\n",
    "\n",
    "# Creating StandardScaler instance.\n",
    "scaler = StandardScaler()\n",
    "\n",
    "# Fitting StandardScaler.\n",
    "X_scaler = scaler.fit(X_train)\n",
    "\n",
    "# Scaling data.\n",
    "X_train_scaled = X_scaler.transform(X_train)\n",
    "X_test_scaled = X_scaler.transform(X_test)"
   ]
  },
  {
   "cell_type": "code",
   "execution_count": 33,
   "id": "dcabad7e",
   "metadata": {},
   "outputs": [],
   "source": [
    "regressor = RandomForestRegressor(n_estimators = 500, random_state = 0)\n",
    "regressor.fit(X_train_scaled, y_train)\n",
    "#predict the model\n",
    "prediction = regressor.predict(X_test_scaled)"
   ]
  },
  {
   "cell_type": "code",
   "execution_count": 34,
   "id": "01782b0e",
   "metadata": {},
   "outputs": [
    {
     "name": "stdout",
     "output_type": "stream",
     "text": [
      "MSE: 9516.067772287184\n",
      "R2: 0.10408515370723337\n"
     ]
    }
   ],
   "source": [
    "# print the metrics\n",
    "print(\"MSE:\", mean_squared_error(y_test, prediction, squared=False))\n",
    "\n",
    "print(\"R2:\", r2_score(y_test, prediction))"
   ]
  },
  {
   "cell_type": "code",
   "execution_count": 35,
   "id": "08eca02a",
   "metadata": {},
   "outputs": [
    {
     "data": {
      "text/plain": [
       "[(0.17932720080556933, 'amenities_count'),\n",
       " (0.10874310568379508, 'number_of_reviews'),\n",
       " (0.09804147921888946, 'review_scores_location'),\n",
       " (0.0882594262686216, 'review_scores_value'),\n",
       " (0.08787860964285063, 'accommodates'),\n",
       " (0.07258976629633779, 'review_scores_cleanliness'),\n",
       " (0.062180466168736265, 'review_scores_accuracy'),\n",
       " (0.0615583668837316, 'review_scores_rating'),\n",
       " (0.05744168768165077, 'review_scores_checkin'),\n",
       " (0.04810166911333542, 'review_scores_communication'),\n",
       " (0.03209570493287687, 'bathrooms_text'),\n",
       " (0.025918242530917443, 'instant_bookable'),\n",
       " (0.02503340268188929, 'beds'),\n",
       " (0.019569106212498688, 'bedrooms'),\n",
       " (0.019214127030747784, 'host_is_superhost'),\n",
       " (0.014047638847552063, 'host_identity_verified')]"
      ]
     },
     "execution_count": 35,
     "metadata": {},
     "output_type": "execute_result"
    }
   ],
   "source": [
    "# Calculate feature importance.\n",
    "importances = regressor.feature_importances_\n",
    "\n",
    "# Sort the features by their importance.\n",
    "sorted(zip(regressor.feature_importances_, X.columns), reverse=True)"
   ]
  },
  {
   "cell_type": "markdown",
   "id": "892c24da",
   "metadata": {},
   "source": [
    "# Inclusive Features"
   ]
  },
  {
   "cell_type": "code",
   "execution_count": 36,
   "id": "4f56a1a1",
   "metadata": {},
   "outputs": [],
   "source": [
    "# Define features and target sets.\n",
    "X = df_ml_all.drop(columns=['host_since', 'host_response_rate', 'host_acceptance_rate', 'host_total_listings_count', 'price', 'minimum_nights', 'maximum_nights', 'availability_30',\n",
    "       'availability_60', 'availability_90', 'availability_365', 'revenue_365',\n",
    "       'revenue_pp_365', 'price_binary', 'amenities', 'neighbourhood_cleansed', 'room_type', 'price_binary', 'revenue_pp_365_binary'])\n",
    "\n",
    "y = df_ml_all['availability_365'].ravel()"
   ]
  },
  {
   "cell_type": "code",
   "execution_count": 37,
   "id": "7a02c3e7",
   "metadata": {},
   "outputs": [
    {
     "data": {
      "text/plain": [
       "Index(['host_is_superhost', 'host_identity_verified', 'accommodates',\n",
       "       'bathrooms_text', 'bedrooms', 'beds', 'number_of_reviews',\n",
       "       'review_scores_rating', 'review_scores_accuracy',\n",
       "       'review_scores_cleanliness', 'review_scores_checkin',\n",
       "       'review_scores_communication', 'review_scores_location',\n",
       "       'review_scores_value', 'instant_bookable', 'amenities_count'],\n",
       "      dtype='object')"
      ]
     },
     "execution_count": 37,
     "metadata": {},
     "output_type": "execute_result"
    }
   ],
   "source": [
    "X.columns"
   ]
  },
  {
   "cell_type": "code",
   "execution_count": 38,
   "id": "b5d656bf",
   "metadata": {},
   "outputs": [],
   "source": [
    "# Splitting into Train and Test sets.\n",
    "X_train, X_test, y_train, y_test = train_test_split(X, y, random_state=1)\n",
    "\n",
    "# Creating StandardScaler instance.\n",
    "scaler = StandardScaler()\n",
    "\n",
    "# Fitting StandardScaler.\n",
    "X_scaler = scaler.fit(X_train)\n",
    "\n",
    "# Scaling data.\n",
    "X_train_scaled = X_scaler.transform(X_train)\n",
    "X_test_scaled = X_scaler.transform(X_test)"
   ]
  },
  {
   "cell_type": "code",
   "execution_count": 39,
   "id": "7837346a",
   "metadata": {},
   "outputs": [],
   "source": [
    "regressor = RandomForestRegressor(n_estimators = 500, random_state = 0)\n",
    "regressor.fit(X_train_scaled, y_train)\n",
    "#predict the model\n",
    "prediction = regressor.predict(X_test_scaled)"
   ]
  },
  {
   "cell_type": "code",
   "execution_count": 40,
   "id": "c0544718",
   "metadata": {},
   "outputs": [
    {
     "name": "stdout",
     "output_type": "stream",
     "text": [
      "MSE: 118.72716515152815\n",
      "R2: 0.08032772397896759\n"
     ]
    }
   ],
   "source": [
    "# print the metrics\n",
    "print(\"MSE:\", mean_squared_error(y_test, prediction, squared=False))\n",
    "\n",
    "print(\"R2:\", r2_score(y_test, prediction))"
   ]
  },
  {
   "cell_type": "code",
   "execution_count": 41,
   "id": "4f65c66d",
   "metadata": {},
   "outputs": [
    {
     "data": {
      "text/plain": [
       "[(0.15919195544763803, 'amenities_count'),\n",
       " (0.1113745747248682, 'number_of_reviews'),\n",
       " (0.08802113904347601, 'review_scores_value'),\n",
       " (0.08297823508042511, 'review_scores_location'),\n",
       " (0.08134991985738897, 'review_scores_cleanliness'),\n",
       " (0.06756890257052998, 'review_scores_rating'),\n",
       " (0.06678567362977797, 'review_scores_accuracy'),\n",
       " (0.06558881527370841, 'accommodates'),\n",
       " (0.0650115728522652, 'review_scores_checkin'),\n",
       " (0.06068428836405629, 'review_scores_communication'),\n",
       " (0.036547703558849225, 'beds'),\n",
       " (0.034363365396203445, 'bathrooms_text'),\n",
       " (0.024388751811976212, 'instant_bookable'),\n",
       " (0.02243575904123618, 'bedrooms'),\n",
       " (0.020034885279908238, 'host_is_superhost'),\n",
       " (0.013674458067692491, 'host_identity_verified')]"
      ]
     },
     "execution_count": 41,
     "metadata": {},
     "output_type": "execute_result"
    }
   ],
   "source": [
    "# Calculate feature importance.\n",
    "importances = regressor.feature_importances_\n",
    "\n",
    "# Sort the features by their importance.\n",
    "sorted(zip(regressor.feature_importances_, X.columns), reverse=True)"
   ]
  },
  {
   "cell_type": "markdown",
   "id": "4baa0c02",
   "metadata": {},
   "source": [
    "# Reviews Exclusive Features"
   ]
  },
  {
   "cell_type": "code",
   "execution_count": 42,
   "id": "14838cb2",
   "metadata": {},
   "outputs": [],
   "source": [
    "# Define features and target sets.\n",
    "X = df_ml_all.drop(columns=['host_since', 'host_response_rate', 'host_acceptance_rate', 'host_total_listings_count', 'price', 'minimum_nights', 'maximum_nights', 'availability_30',\n",
    "       'availability_60', 'availability_90', 'availability_365', 'revenue_365',\n",
    "       'revenue_pp_365', 'price_binary', 'amenities', 'neighbourhood_cleansed', 'room_type', 'price_binary', 'revenue_pp_365_binary', 'amenities_count', 'accommodates', 'beds', 'bathrooms_text', 'instant_bookable', 'bedrooms', 'host_is_superhost', 'host_identity_verified'])\n",
    "\n",
    "y = df_ml_all['availability_365'].ravel()"
   ]
  },
  {
   "cell_type": "code",
   "execution_count": 43,
   "id": "c87d742f",
   "metadata": {},
   "outputs": [
    {
     "data": {
      "text/plain": [
       "Index(['number_of_reviews', 'review_scores_rating', 'review_scores_accuracy',\n",
       "       'review_scores_cleanliness', 'review_scores_checkin',\n",
       "       'review_scores_communication', 'review_scores_location',\n",
       "       'review_scores_value'],\n",
       "      dtype='object')"
      ]
     },
     "execution_count": 43,
     "metadata": {},
     "output_type": "execute_result"
    }
   ],
   "source": [
    "X.columns"
   ]
  },
  {
   "cell_type": "code",
   "execution_count": 44,
   "id": "37556813",
   "metadata": {},
   "outputs": [],
   "source": [
    "# Splitting into Train and Test sets.\n",
    "X_train, X_test, y_train, y_test = train_test_split(X, y, random_state=1)\n",
    "\n",
    "# Creating StandardScaler instance.\n",
    "scaler = StandardScaler()\n",
    "\n",
    "# Fitting StandardScaler.\n",
    "X_scaler = scaler.fit(X_train)\n",
    "\n",
    "# Scaling data.\n",
    "X_train_scaled = X_scaler.transform(X_train)\n",
    "X_test_scaled = X_scaler.transform(X_test)"
   ]
  },
  {
   "cell_type": "code",
   "execution_count": 45,
   "id": "26913d13",
   "metadata": {},
   "outputs": [],
   "source": [
    "regressor = RandomForestRegressor(n_estimators = 500, random_state = 0)\n",
    "regressor.fit(X_train_scaled, y_train)\n",
    "#predict the model\n",
    "prediction = regressor.predict(X_test_scaled)"
   ]
  },
  {
   "cell_type": "code",
   "execution_count": 46,
   "id": "9d60ab4d",
   "metadata": {},
   "outputs": [
    {
     "name": "stdout",
     "output_type": "stream",
     "text": [
      "MSE: 124.93122655446258\n",
      "R2: -0.0182980351099582\n"
     ]
    }
   ],
   "source": [
    "# print the metrics\n",
    "print(\"MSE:\", mean_squared_error(y_test, prediction, squared=False))\n",
    "\n",
    "print(\"R2:\", r2_score(y_test, prediction))"
   ]
  },
  {
   "cell_type": "code",
   "execution_count": 47,
   "id": "0ed72319",
   "metadata": {},
   "outputs": [
    {
     "data": {
      "text/plain": [
       "[(0.15561980578034934, 'number_of_reviews'),\n",
       " (0.1384452273749943, 'review_scores_value'),\n",
       " (0.1323999437627189, 'review_scores_location'),\n",
       " (0.13156947079719564, 'review_scores_cleanliness'),\n",
       " (0.11835924211331303, 'review_scores_rating'),\n",
       " (0.1160356125720984, 'review_scores_accuracy'),\n",
       " (0.1114918665086645, 'review_scores_checkin'),\n",
       " (0.09607883109066587, 'review_scores_communication')]"
      ]
     },
     "execution_count": 47,
     "metadata": {},
     "output_type": "execute_result"
    }
   ],
   "source": [
    "# Calculate feature importance.\n",
    "importances = regressor.feature_importances_\n",
    "\n",
    "# Sort the features by their importance.\n",
    "sorted(zip(regressor.feature_importances_, X.columns), reverse=True)"
   ]
  },
  {
   "cell_type": "code",
   "execution_count": null,
   "id": "3bdd2ac5",
   "metadata": {},
   "outputs": [],
   "source": []
  }
 ],
 "metadata": {
  "kernelspec": {
   "display_name": "Python (tfenv)",
   "language": "python",
   "name": "tfenv"
  },
  "language_info": {
   "codemirror_mode": {
    "name": "ipython",
    "version": 3
   },
   "file_extension": ".py",
   "mimetype": "text/x-python",
   "name": "python",
   "nbconvert_exporter": "python",
   "pygments_lexer": "ipython3",
   "version": "3.10.11"
  }
 },
 "nbformat": 4,
 "nbformat_minor": 5
}
