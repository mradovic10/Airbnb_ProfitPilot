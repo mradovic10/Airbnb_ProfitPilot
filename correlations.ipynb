{
 "cells": [
  {
   "cell_type": "code",
   "execution_count": 1,
   "id": "123093c5",
   "metadata": {},
   "outputs": [],
   "source": [
    "import pandas as pd\n",
    "import numpy as np"
   ]
  },
  {
   "cell_type": "code",
   "execution_count": 2,
   "id": "8574820d",
   "metadata": {},
   "outputs": [
    {
     "name": "stderr",
     "output_type": "stream",
     "text": [
      "C:\\Users\\radov\\AppData\\Local\\Temp\\ipykernel_15704\\1997079327.py:4: DtypeWarning: Columns (68) have mixed types. Specify dtype option on import or set low_memory=False.\n",
      "  df_nyc = pd.read_csv(\"nyc_listings.csv.gz\", compression='gzip')\n"
     ]
    }
   ],
   "source": [
    "# Nashville df\n",
    "df_nash = pd.read_csv(\"nashville_listings.csv.gz\", compression='gzip')\n",
    "# NYC df\n",
    "df_nyc = pd.read_csv(\"nyc_listings.csv.gz\", compression='gzip')\n",
    "# San Diego df\n",
    "df_sd = pd.read_csv(\"sd_listings.csv.gz\", compression='gzip')\n",
    "# Seattle df\n",
    "df_sea = pd.read_csv(\"seattle_listings.csv.gz\", compression='gzip')"
   ]
  },
  {
   "cell_type": "code",
   "execution_count": 3,
   "id": "2e508855",
   "metadata": {},
   "outputs": [
    {
     "data": {
      "text/html": [
       "<div>\n",
       "<style scoped>\n",
       "    .dataframe tbody tr th:only-of-type {\n",
       "        vertical-align: middle;\n",
       "    }\n",
       "\n",
       "    .dataframe tbody tr th {\n",
       "        vertical-align: top;\n",
       "    }\n",
       "\n",
       "    .dataframe thead th {\n",
       "        text-align: right;\n",
       "    }\n",
       "</style>\n",
       "<table border=\"1\" class=\"dataframe\">\n",
       "  <thead>\n",
       "    <tr style=\"text-align: right;\">\n",
       "      <th></th>\n",
       "      <th>id</th>\n",
       "      <th>listing_url</th>\n",
       "      <th>scrape_id</th>\n",
       "      <th>last_scraped</th>\n",
       "      <th>source</th>\n",
       "      <th>name</th>\n",
       "      <th>description</th>\n",
       "      <th>neighborhood_overview</th>\n",
       "      <th>picture_url</th>\n",
       "      <th>host_id</th>\n",
       "      <th>...</th>\n",
       "      <th>review_scores_communication</th>\n",
       "      <th>review_scores_location</th>\n",
       "      <th>review_scores_value</th>\n",
       "      <th>license</th>\n",
       "      <th>instant_bookable</th>\n",
       "      <th>calculated_host_listings_count</th>\n",
       "      <th>calculated_host_listings_count_entire_homes</th>\n",
       "      <th>calculated_host_listings_count_private_rooms</th>\n",
       "      <th>calculated_host_listings_count_shared_rooms</th>\n",
       "      <th>reviews_per_month</th>\n",
       "    </tr>\n",
       "  </thead>\n",
       "  <tbody>\n",
       "    <tr>\n",
       "      <th>0</th>\n",
       "      <td>6422</td>\n",
       "      <td>https://www.airbnb.com/rooms/6422</td>\n",
       "      <td>20230319180930</td>\n",
       "      <td>2023-03-19</td>\n",
       "      <td>city scrape</td>\n",
       "      <td>Nashville Charm</td>\n",
       "      <td>30 day plus rental - book for one month and th...</td>\n",
       "      <td>Historic East Nashville is home to many new an...</td>\n",
       "      <td>https://a0.muscache.com/pictures/miso/Hosting-...</td>\n",
       "      <td>12172</td>\n",
       "      <td>...</td>\n",
       "      <td>4.96</td>\n",
       "      <td>4.92</td>\n",
       "      <td>4.98</td>\n",
       "      <td>NaN</td>\n",
       "      <td>f</td>\n",
       "      <td>1</td>\n",
       "      <td>0</td>\n",
       "      <td>1</td>\n",
       "      <td>0</td>\n",
       "      <td>3.99</td>\n",
       "    </tr>\n",
       "    <tr>\n",
       "      <th>1</th>\n",
       "      <td>39870</td>\n",
       "      <td>https://www.airbnb.com/rooms/39870</td>\n",
       "      <td>20230319180930</td>\n",
       "      <td>2023-03-19</td>\n",
       "      <td>city scrape</td>\n",
       "      <td>Close to Vanderbilt 2</td>\n",
       "      <td>Since I am older, I need for guests to be vacc...</td>\n",
       "      <td>The house is in a safe, quiet,  \"college\" neig...</td>\n",
       "      <td>https://a0.muscache.com/pictures/miso/Hosting-...</td>\n",
       "      <td>171184</td>\n",
       "      <td>...</td>\n",
       "      <td>4.97</td>\n",
       "      <td>4.95</td>\n",
       "      <td>4.94</td>\n",
       "      <td>NaN</td>\n",
       "      <td>f</td>\n",
       "      <td>1</td>\n",
       "      <td>0</td>\n",
       "      <td>1</td>\n",
       "      <td>0</td>\n",
       "      <td>4.41</td>\n",
       "    </tr>\n",
       "    <tr>\n",
       "      <th>2</th>\n",
       "      <td>3648549</td>\n",
       "      <td>https://www.airbnb.com/rooms/3648549</td>\n",
       "      <td>20230319180930</td>\n",
       "      <td>2023-03-20</td>\n",
       "      <td>city scrape</td>\n",
       "      <td>Serene, Cozy Getaway; Lipscomb, Vanderbilt,12S...</td>\n",
       "      <td>*Our Airbnb is professionally cleaned &amp; disinf...</td>\n",
       "      <td>Green Hills is a PRIME location and much sough...</td>\n",
       "      <td>https://a0.muscache.com/pictures/482b8166-d993...</td>\n",
       "      <td>931636</td>\n",
       "      <td>...</td>\n",
       "      <td>4.97</td>\n",
       "      <td>4.94</td>\n",
       "      <td>4.93</td>\n",
       "      <td>NaN</td>\n",
       "      <td>f</td>\n",
       "      <td>1</td>\n",
       "      <td>1</td>\n",
       "      <td>0</td>\n",
       "      <td>0</td>\n",
       "      <td>1.81</td>\n",
       "    </tr>\n",
       "    <tr>\n",
       "      <th>3</th>\n",
       "      <td>72906</td>\n",
       "      <td>https://www.airbnb.com/rooms/72906</td>\n",
       "      <td>20230319180930</td>\n",
       "      <td>2023-03-20</td>\n",
       "      <td>city scrape</td>\n",
       "      <td>Vandy/Belmont/10 mins to Broadway - Sunny 800 ...</td>\n",
       "      <td>Entire top floor. Private. 800 sq ft of bright...</td>\n",
       "      <td>Historic Belmont-Hillsboro neighborhood. Walk-...</td>\n",
       "      <td>https://a0.muscache.com/pictures/58602855/3788...</td>\n",
       "      <td>176117</td>\n",
       "      <td>...</td>\n",
       "      <td>4.99</td>\n",
       "      <td>4.96</td>\n",
       "      <td>4.89</td>\n",
       "      <td>NaN</td>\n",
       "      <td>f</td>\n",
       "      <td>1</td>\n",
       "      <td>1</td>\n",
       "      <td>0</td>\n",
       "      <td>0</td>\n",
       "      <td>4.72</td>\n",
       "    </tr>\n",
       "    <tr>\n",
       "      <th>4</th>\n",
       "      <td>421290</td>\n",
       "      <td>https://www.airbnb.com/rooms/421290</td>\n",
       "      <td>20230319180930</td>\n",
       "      <td>2023-03-20</td>\n",
       "      <td>city scrape</td>\n",
       "      <td>Private Entry Studio Suite/King/Wetbar/DT 5 min</td>\n",
       "      <td>Free Parking! Gorgeous private suite with ever...</td>\n",
       "      <td>I do love this neighborhood! 2 blocks from the...</td>\n",
       "      <td>https://a0.muscache.com/pictures/ad1f75a3-e2a6...</td>\n",
       "      <td>1684051</td>\n",
       "      <td>...</td>\n",
       "      <td>4.96</td>\n",
       "      <td>4.80</td>\n",
       "      <td>4.93</td>\n",
       "      <td>NaN</td>\n",
       "      <td>f</td>\n",
       "      <td>7</td>\n",
       "      <td>7</td>\n",
       "      <td>0</td>\n",
       "      <td>0</td>\n",
       "      <td>7.46</td>\n",
       "    </tr>\n",
       "    <tr>\n",
       "      <th>...</th>\n",
       "      <td>...</td>\n",
       "      <td>...</td>\n",
       "      <td>...</td>\n",
       "      <td>...</td>\n",
       "      <td>...</td>\n",
       "      <td>...</td>\n",
       "      <td>...</td>\n",
       "      <td>...</td>\n",
       "      <td>...</td>\n",
       "      <td>...</td>\n",
       "      <td>...</td>\n",
       "      <td>...</td>\n",
       "      <td>...</td>\n",
       "      <td>...</td>\n",
       "      <td>...</td>\n",
       "      <td>...</td>\n",
       "      <td>...</td>\n",
       "      <td>...</td>\n",
       "      <td>...</td>\n",
       "      <td>...</td>\n",
       "      <td>...</td>\n",
       "    </tr>\n",
       "    <tr>\n",
       "      <th>70721</th>\n",
       "      <td>1732441</td>\n",
       "      <td>https://www.airbnb.com/rooms/1732441</td>\n",
       "      <td>20230324234225</td>\n",
       "      <td>2023-03-25</td>\n",
       "      <td>city scrape</td>\n",
       "      <td>Green on Green - Top Level of House</td>\n",
       "      <td>Looking to rent longer term until May 2022, mi...</td>\n",
       "      <td>Mellow and quiet neighborhood on a greenbelt. ...</td>\n",
       "      <td>https://a0.muscache.com/pictures/miso/Hosting-...</td>\n",
       "      <td>1214247</td>\n",
       "      <td>...</td>\n",
       "      <td>4.95</td>\n",
       "      <td>4.80</td>\n",
       "      <td>4.92</td>\n",
       "      <td>STR-OPLI-19-002273</td>\n",
       "      <td>f</td>\n",
       "      <td>1</td>\n",
       "      <td>1</td>\n",
       "      <td>0</td>\n",
       "      <td>0</td>\n",
       "      <td>1.55</td>\n",
       "    </tr>\n",
       "    <tr>\n",
       "      <th>70722</th>\n",
       "      <td>1737244</td>\n",
       "      <td>https://www.airbnb.com/rooms/1737244</td>\n",
       "      <td>20230324234225</td>\n",
       "      <td>2023-03-25</td>\n",
       "      <td>city scrape</td>\n",
       "      <td>Your Warm  Retreat</td>\n",
       "      <td>Relax your mind and spirit in a beautiful spac...</td>\n",
       "      <td>Hawthorn Hills is a well-respected and older S...</td>\n",
       "      <td>https://a0.muscache.com/pictures/24817965/036b...</td>\n",
       "      <td>9148911</td>\n",
       "      <td>...</td>\n",
       "      <td>4.93</td>\n",
       "      <td>4.85</td>\n",
       "      <td>4.72</td>\n",
       "      <td>STR-OPLI-19-002384</td>\n",
       "      <td>f</td>\n",
       "      <td>1</td>\n",
       "      <td>0</td>\n",
       "      <td>1</td>\n",
       "      <td>0</td>\n",
       "      <td>0.41</td>\n",
       "    </tr>\n",
       "    <tr>\n",
       "      <th>70723</th>\n",
       "      <td>1764100</td>\n",
       "      <td>https://www.airbnb.com/rooms/1764100</td>\n",
       "      <td>20230324234225</td>\n",
       "      <td>2023-03-25</td>\n",
       "      <td>city scrape</td>\n",
       "      <td>Center UW Chic Clean &amp; Comfy 309</td>\n",
       "      <td>It has a Walk Score of 98 out of 100--Walker’s...</td>\n",
       "      <td>It is located in the bustling and vibrant Univ...</td>\n",
       "      <td>https://a0.muscache.com/pictures/miso/Hosting-...</td>\n",
       "      <td>3074414</td>\n",
       "      <td>...</td>\n",
       "      <td>4.61</td>\n",
       "      <td>4.47</td>\n",
       "      <td>4.27</td>\n",
       "      <td>STR-OPLI-19-002641</td>\n",
       "      <td>f</td>\n",
       "      <td>117</td>\n",
       "      <td>111</td>\n",
       "      <td>6</td>\n",
       "      <td>0</td>\n",
       "      <td>0.45</td>\n",
       "    </tr>\n",
       "    <tr>\n",
       "      <th>70724</th>\n",
       "      <td>1773803</td>\n",
       "      <td>https://www.airbnb.com/rooms/1773803</td>\n",
       "      <td>20230324234225</td>\n",
       "      <td>2023-03-25</td>\n",
       "      <td>city scrape</td>\n",
       "      <td>View Emerald City Jewel Apt UW 1BD Great Location</td>\n",
       "      <td>Looking for a memory instead of another hotel ...</td>\n",
       "      <td>You will find numerous cafes, coffee houses, a...</td>\n",
       "      <td>https://a0.muscache.com/pictures/25039200/fab4...</td>\n",
       "      <td>8026420</td>\n",
       "      <td>...</td>\n",
       "      <td>4.56</td>\n",
       "      <td>4.65</td>\n",
       "      <td>4.30</td>\n",
       "      <td>NaN</td>\n",
       "      <td>f</td>\n",
       "      <td>2</td>\n",
       "      <td>2</td>\n",
       "      <td>0</td>\n",
       "      <td>0</td>\n",
       "      <td>2.65</td>\n",
       "    </tr>\n",
       "    <tr>\n",
       "      <th>70725</th>\n",
       "      <td>1775016</td>\n",
       "      <td>https://www.airbnb.com/rooms/1775016</td>\n",
       "      <td>20230324234225</td>\n",
       "      <td>2023-03-25</td>\n",
       "      <td>city scrape</td>\n",
       "      <td>Master Suite A in Capitol Hill Home</td>\n",
       "      <td>One of two Master suites available on the uppe...</td>\n",
       "      <td>Eclectic, colorful and convenient neighborhood...</td>\n",
       "      <td>https://a0.muscache.com/pictures/96479304/da56...</td>\n",
       "      <td>8315334</td>\n",
       "      <td>...</td>\n",
       "      <td>4.85</td>\n",
       "      <td>4.89</td>\n",
       "      <td>4.76</td>\n",
       "      <td>STR-OPLI-19-001755</td>\n",
       "      <td>f</td>\n",
       "      <td>3</td>\n",
       "      <td>1</td>\n",
       "      <td>2</td>\n",
       "      <td>0</td>\n",
       "      <td>3.98</td>\n",
       "    </tr>\n",
       "  </tbody>\n",
       "</table>\n",
       "<p>70726 rows × 75 columns</p>\n",
       "</div>"
      ],
      "text/plain": [
       "            id                           listing_url       scrape_id  \\\n",
       "0         6422     https://www.airbnb.com/rooms/6422  20230319180930   \n",
       "1        39870    https://www.airbnb.com/rooms/39870  20230319180930   \n",
       "2      3648549  https://www.airbnb.com/rooms/3648549  20230319180930   \n",
       "3        72906    https://www.airbnb.com/rooms/72906  20230319180930   \n",
       "4       421290   https://www.airbnb.com/rooms/421290  20230319180930   \n",
       "...        ...                                   ...             ...   \n",
       "70721  1732441  https://www.airbnb.com/rooms/1732441  20230324234225   \n",
       "70722  1737244  https://www.airbnb.com/rooms/1737244  20230324234225   \n",
       "70723  1764100  https://www.airbnb.com/rooms/1764100  20230324234225   \n",
       "70724  1773803  https://www.airbnb.com/rooms/1773803  20230324234225   \n",
       "70725  1775016  https://www.airbnb.com/rooms/1775016  20230324234225   \n",
       "\n",
       "      last_scraped       source  \\\n",
       "0       2023-03-19  city scrape   \n",
       "1       2023-03-19  city scrape   \n",
       "2       2023-03-20  city scrape   \n",
       "3       2023-03-20  city scrape   \n",
       "4       2023-03-20  city scrape   \n",
       "...            ...          ...   \n",
       "70721   2023-03-25  city scrape   \n",
       "70722   2023-03-25  city scrape   \n",
       "70723   2023-03-25  city scrape   \n",
       "70724   2023-03-25  city scrape   \n",
       "70725   2023-03-25  city scrape   \n",
       "\n",
       "                                                    name  \\\n",
       "0                                        Nashville Charm   \n",
       "1                                  Close to Vanderbilt 2   \n",
       "2      Serene, Cozy Getaway; Lipscomb, Vanderbilt,12S...   \n",
       "3      Vandy/Belmont/10 mins to Broadway - Sunny 800 ...   \n",
       "4        Private Entry Studio Suite/King/Wetbar/DT 5 min   \n",
       "...                                                  ...   \n",
       "70721                Green on Green - Top Level of House   \n",
       "70722                                 Your Warm  Retreat   \n",
       "70723                   Center UW Chic Clean & Comfy 309   \n",
       "70724  View Emerald City Jewel Apt UW 1BD Great Location   \n",
       "70725                Master Suite A in Capitol Hill Home   \n",
       "\n",
       "                                             description  \\\n",
       "0      30 day plus rental - book for one month and th...   \n",
       "1      Since I am older, I need for guests to be vacc...   \n",
       "2      *Our Airbnb is professionally cleaned & disinf...   \n",
       "3      Entire top floor. Private. 800 sq ft of bright...   \n",
       "4      Free Parking! Gorgeous private suite with ever...   \n",
       "...                                                  ...   \n",
       "70721  Looking to rent longer term until May 2022, mi...   \n",
       "70722  Relax your mind and spirit in a beautiful spac...   \n",
       "70723  It has a Walk Score of 98 out of 100--Walker’s...   \n",
       "70724  Looking for a memory instead of another hotel ...   \n",
       "70725  One of two Master suites available on the uppe...   \n",
       "\n",
       "                                   neighborhood_overview  \\\n",
       "0      Historic East Nashville is home to many new an...   \n",
       "1      The house is in a safe, quiet,  \"college\" neig...   \n",
       "2      Green Hills is a PRIME location and much sough...   \n",
       "3      Historic Belmont-Hillsboro neighborhood. Walk-...   \n",
       "4      I do love this neighborhood! 2 blocks from the...   \n",
       "...                                                  ...   \n",
       "70721  Mellow and quiet neighborhood on a greenbelt. ...   \n",
       "70722  Hawthorn Hills is a well-respected and older S...   \n",
       "70723  It is located in the bustling and vibrant Univ...   \n",
       "70724  You will find numerous cafes, coffee houses, a...   \n",
       "70725  Eclectic, colorful and convenient neighborhood...   \n",
       "\n",
       "                                             picture_url  host_id  ...  \\\n",
       "0      https://a0.muscache.com/pictures/miso/Hosting-...    12172  ...   \n",
       "1      https://a0.muscache.com/pictures/miso/Hosting-...   171184  ...   \n",
       "2      https://a0.muscache.com/pictures/482b8166-d993...   931636  ...   \n",
       "3      https://a0.muscache.com/pictures/58602855/3788...   176117  ...   \n",
       "4      https://a0.muscache.com/pictures/ad1f75a3-e2a6...  1684051  ...   \n",
       "...                                                  ...      ...  ...   \n",
       "70721  https://a0.muscache.com/pictures/miso/Hosting-...  1214247  ...   \n",
       "70722  https://a0.muscache.com/pictures/24817965/036b...  9148911  ...   \n",
       "70723  https://a0.muscache.com/pictures/miso/Hosting-...  3074414  ...   \n",
       "70724  https://a0.muscache.com/pictures/25039200/fab4...  8026420  ...   \n",
       "70725  https://a0.muscache.com/pictures/96479304/da56...  8315334  ...   \n",
       "\n",
       "      review_scores_communication review_scores_location review_scores_value  \\\n",
       "0                            4.96                   4.92                4.98   \n",
       "1                            4.97                   4.95                4.94   \n",
       "2                            4.97                   4.94                4.93   \n",
       "3                            4.99                   4.96                4.89   \n",
       "4                            4.96                   4.80                4.93   \n",
       "...                           ...                    ...                 ...   \n",
       "70721                        4.95                   4.80                4.92   \n",
       "70722                        4.93                   4.85                4.72   \n",
       "70723                        4.61                   4.47                4.27   \n",
       "70724                        4.56                   4.65                4.30   \n",
       "70725                        4.85                   4.89                4.76   \n",
       "\n",
       "                  license instant_bookable calculated_host_listings_count  \\\n",
       "0                     NaN                f                              1   \n",
       "1                     NaN                f                              1   \n",
       "2                     NaN                f                              1   \n",
       "3                     NaN                f                              1   \n",
       "4                     NaN                f                              7   \n",
       "...                   ...              ...                            ...   \n",
       "70721  STR-OPLI-19-002273                f                              1   \n",
       "70722  STR-OPLI-19-002384                f                              1   \n",
       "70723  STR-OPLI-19-002641                f                            117   \n",
       "70724                 NaN                f                              2   \n",
       "70725  STR-OPLI-19-001755                f                              3   \n",
       "\n",
       "      calculated_host_listings_count_entire_homes  \\\n",
       "0                                               0   \n",
       "1                                               0   \n",
       "2                                               1   \n",
       "3                                               1   \n",
       "4                                               7   \n",
       "...                                           ...   \n",
       "70721                                           1   \n",
       "70722                                           0   \n",
       "70723                                         111   \n",
       "70724                                           2   \n",
       "70725                                           1   \n",
       "\n",
       "      calculated_host_listings_count_private_rooms  \\\n",
       "0                                                1   \n",
       "1                                                1   \n",
       "2                                                0   \n",
       "3                                                0   \n",
       "4                                                0   \n",
       "...                                            ...   \n",
       "70721                                            0   \n",
       "70722                                            1   \n",
       "70723                                            6   \n",
       "70724                                            0   \n",
       "70725                                            2   \n",
       "\n",
       "      calculated_host_listings_count_shared_rooms reviews_per_month  \n",
       "0                                               0              3.99  \n",
       "1                                               0              4.41  \n",
       "2                                               0              1.81  \n",
       "3                                               0              4.72  \n",
       "4                                               0              7.46  \n",
       "...                                           ...               ...  \n",
       "70721                                           0              1.55  \n",
       "70722                                           0              0.41  \n",
       "70723                                           0              0.45  \n",
       "70724                                           0              2.65  \n",
       "70725                                           0              3.98  \n",
       "\n",
       "[70726 rows x 75 columns]"
      ]
     },
     "execution_count": 3,
     "metadata": {},
     "output_type": "execute_result"
    }
   ],
   "source": [
    "# Join our four datasets into one.\n",
    "df_combined = pd.concat([df_nash, df_nyc, df_sd, df_sea], ignore_index=True)\n",
    "\n",
    "df_combined"
   ]
  },
  {
   "cell_type": "code",
   "execution_count": 4,
   "id": "676e128c",
   "metadata": {},
   "outputs": [
    {
     "data": {
      "text/plain": [
       "Index(['id', 'listing_url', 'scrape_id', 'last_scraped', 'source', 'name',\n",
       "       'description', 'neighborhood_overview', 'picture_url', 'host_id',\n",
       "       'host_url', 'host_name', 'host_since', 'host_location', 'host_about',\n",
       "       'host_response_time', 'host_response_rate', 'host_acceptance_rate',\n",
       "       'host_is_superhost', 'host_thumbnail_url', 'host_picture_url',\n",
       "       'host_neighbourhood', 'host_listings_count',\n",
       "       'host_total_listings_count', 'host_verifications',\n",
       "       'host_has_profile_pic', 'host_identity_verified', 'neighbourhood',\n",
       "       'neighbourhood_cleansed', 'neighbourhood_group_cleansed', 'latitude',\n",
       "       'longitude', 'property_type', 'room_type', 'accommodates', 'bathrooms',\n",
       "       'bathrooms_text', 'bedrooms', 'beds', 'amenities', 'price',\n",
       "       'minimum_nights', 'maximum_nights', 'minimum_minimum_nights',\n",
       "       'maximum_minimum_nights', 'minimum_maximum_nights',\n",
       "       'maximum_maximum_nights', 'minimum_nights_avg_ntm',\n",
       "       'maximum_nights_avg_ntm', 'calendar_updated', 'has_availability',\n",
       "       'availability_30', 'availability_60', 'availability_90',\n",
       "       'availability_365', 'calendar_last_scraped', 'number_of_reviews',\n",
       "       'number_of_reviews_ltm', 'number_of_reviews_l30d', 'first_review',\n",
       "       'last_review', 'review_scores_rating', 'review_scores_accuracy',\n",
       "       'review_scores_cleanliness', 'review_scores_checkin',\n",
       "       'review_scores_communication', 'review_scores_location',\n",
       "       'review_scores_value', 'license', 'instant_bookable',\n",
       "       'calculated_host_listings_count',\n",
       "       'calculated_host_listings_count_entire_homes',\n",
       "       'calculated_host_listings_count_private_rooms',\n",
       "       'calculated_host_listings_count_shared_rooms', 'reviews_per_month'],\n",
       "      dtype='object')"
      ]
     },
     "execution_count": 4,
     "metadata": {},
     "output_type": "execute_result"
    }
   ],
   "source": [
    "# Check all columns.\n",
    "df_combined.columns"
   ]
  },
  {
   "cell_type": "code",
   "execution_count": 5,
   "id": "dbbebb4c",
   "metadata": {},
   "outputs": [],
   "source": [
    "# Drop unnecessary columns.\n",
    "df_combined = df_combined.drop(columns=['id', 'listing_url', 'scrape_id', 'last_scraped', 'source', 'name', 'description', \n",
    "                                       'neighborhood_overview', 'picture_url', 'host_id', 'host_url', 'host_name', \n",
    "                                       'host_location', 'host_about', 'host_response_time', 'host_thumbnail_url', \n",
    "                                        'host_picture_url', 'host_neighbourhood', 'host_listings_count', 'host_verifications', \n",
    "                                        'host_has_profile_pic', 'neighbourhood', 'neighbourhood_group_cleansed', 'latitude', \n",
    "                                        'longitude', 'property_type', 'bathrooms', 'minimum_minimum_nights', \n",
    "                                        'maximum_minimum_nights', 'minimum_maximum_nights', 'maximum_maximum_nights', \n",
    "                                        'minimum_nights_avg_ntm', 'maximum_nights_avg_ntm', 'calendar_updated', \n",
    "                                        'has_availability', 'calendar_last_scraped', 'number_of_reviews_ltm', \n",
    "                                        'number_of_reviews_l30d', 'first_review', 'last_review', 'license', \n",
    "                                       'calculated_host_listings_count', 'calculated_host_listings_count_entire_homes', \n",
    "                                        'calculated_host_listings_count_private_rooms', \n",
    "                                        'calculated_host_listings_count_shared_rooms', 'reviews_per_month'])"
   ]
  },
  {
   "cell_type": "code",
   "execution_count": 6,
   "id": "ebe03e72",
   "metadata": {},
   "outputs": [
    {
     "name": "stdout",
     "output_type": "stream",
     "text": [
      "<class 'pandas.core.frame.DataFrame'>\n",
      "RangeIndex: 70726 entries, 0 to 70725\n",
      "Data columns (total 29 columns):\n",
      " #   Column                       Non-Null Count  Dtype  \n",
      "---  ------                       --------------  -----  \n",
      " 0   host_since                   70718 non-null  object \n",
      " 1   host_response_rate           53242 non-null  object \n",
      " 2   host_acceptance_rate         56173 non-null  object \n",
      " 3   host_is_superhost            70692 non-null  object \n",
      " 4   host_total_listings_count    70718 non-null  float64\n",
      " 5   host_identity_verified       70718 non-null  object \n",
      " 6   neighbourhood_cleansed       70726 non-null  object \n",
      " 7   room_type                    70726 non-null  object \n",
      " 8   accommodates                 70726 non-null  int64  \n",
      " 9   bathrooms_text               70639 non-null  object \n",
      " 10  bedrooms                     64692 non-null  float64\n",
      " 11  beds                         69504 non-null  float64\n",
      " 12  amenities                    70726 non-null  object \n",
      " 13  price                        70726 non-null  object \n",
      " 14  minimum_nights               70726 non-null  int64  \n",
      " 15  maximum_nights               70726 non-null  int64  \n",
      " 16  availability_30              70726 non-null  int64  \n",
      " 17  availability_60              70726 non-null  int64  \n",
      " 18  availability_90              70726 non-null  int64  \n",
      " 19  availability_365             70726 non-null  int64  \n",
      " 20  number_of_reviews            70726 non-null  int64  \n",
      " 21  review_scores_rating         56233 non-null  float64\n",
      " 22  review_scores_accuracy       55765 non-null  float64\n",
      " 23  review_scores_cleanliness    55775 non-null  float64\n",
      " 24  review_scores_checkin        55758 non-null  float64\n",
      " 25  review_scores_communication  55770 non-null  float64\n",
      " 26  review_scores_location       55755 non-null  float64\n",
      " 27  review_scores_value          55755 non-null  float64\n",
      " 28  instant_bookable             70726 non-null  object \n",
      "dtypes: float64(10), int64(8), object(11)\n",
      "memory usage: 15.6+ MB\n"
     ]
    }
   ],
   "source": [
    "df_combined.info()"
   ]
  },
  {
   "cell_type": "code",
   "execution_count": 7,
   "id": "2e31bd6d",
   "metadata": {},
   "outputs": [
    {
     "data": {
      "text/plain": [
       "0     43.0\n",
       "1     70.0\n",
       "2    143.0\n",
       "3    100.0\n",
       "4    261.0\n",
       "Name: price, dtype: float64"
      ]
     },
     "execution_count": 7,
     "metadata": {},
     "output_type": "execute_result"
    }
   ],
   "source": [
    "# Remove dollar signs and commas from 'price' values and change data type to float.\n",
    "df_combined['price'] = df_combined['price'].str.replace('$', '', regex=False).str.replace(',', '').astype(float)\n",
    "df_combined['price'].head(5)"
   ]
  },
  {
   "cell_type": "code",
   "execution_count": 8,
   "id": "52d1ea7a",
   "metadata": {},
   "outputs": [],
   "source": [
    "# Create an empty list to hold our possible outliers.\n",
    "outliers = []\n",
    "\n",
    "# Calculate the IQR and quantitatively determine if there are any potential outliers in the 'price' column.\n",
    "quartiles = df_combined['price'].quantile([0.05, .25, .5, .75, 0.95])\n",
    "lowerq = quartiles[0.05]\n",
    "upperq = quartiles[0.95]\n",
    "iqr = upperq - lowerq \n",
    "lower_bound = lowerq - (1.5 * iqr)\n",
    "upper_bound = upperq + (1.5 * iqr)"
   ]
  },
  {
   "cell_type": "code",
   "execution_count": 9,
   "id": "b918781a",
   "metadata": {},
   "outputs": [
    {
     "name": "stdout",
     "output_type": "stream",
     "text": [
      "Count: 707, Potential outliers: [1571.0, 1895.0, 2750.0, 2600.0, 2029.0, 3057.0, 2000.0, 1943.0, 2114.0, 2649.0, 1429.0, 1648.0, 1484.0, 5000.0, 10000.0, 10000.0, 1571.0, 4900.0, 78200.0, 3820.0, 1553.0, 1753.0, 2274.0, 1728.0, 1512.0, 2989.0, 1879.0, 1642.0, 1755.0, 2339.0, 1448.0, 1791.0, 1482.0, 1668.0, 2450.0, 1837.0, 1891.0, 1755.0, 9999.0, 9999.0, 9999.0, 9999.0, 2607.0, 5000.0, 1842.0, 1842.0, 1475.0, 2905.0, 1600.0, 1646.0, 1535.0, 1535.0, 1880.0, 1880.0, 1667.0, 1880.0, 2046.0, 2195.0, 2195.0, 1758.0, 1842.0, 2950.0, 2506.0, 2950.0, 1758.0, 2200.0, 2200.0, 3000.0, 1927.0, 1842.0, 5000.0, 1951.0, 2564.0, 2200.0, 3012.0, 2890.0, 2089.0, 2200.0, 2054.0, 1706.0, 1490.0, 2559.0, 1450.0, 2200.0, 1422.0, 2057.0, 3600.0, 1500.0, 5065.0, 2000.0, 3000.0, 1800.0, 4100.0, 1493.0, 1500.0, 3500.0, 3000.0, 2300.0, 1850.0, 1550.0, 1900.0, 2299.0, 9999.0, 1540.0, 2000.0, 1850.0, 3600.0, 1481.0, 1899.0, 65115.0, 1500.0, 3500.0, 1550.0, 3143.0, 2500.0, 2899.0, 1540.0, 1950.0, 4000.0, 3000.0, 85170.0, 1500.0, 9990.0, 2736.0, 1907.0, 2350.0, 6000.0, 9000.0, 6500.0, 10000.0, 3600.0, 1500.0, 1550.0, 6500.0, 2750.0, 2325.0, 1588.0, 1607.0, 1474.0, 2200.0, 2361.0, 10000.0, 2052.0, 8090.0, 2000.0, 2003.0, 3400.0, 7075.0, 1750.0, 1500.0, 1850.0, 3000.0, 1500.0, 5556.0, 1850.0, 1502.0, 2500.0, 1500.0, 2199.0, 2000.0, 3006.0, 10000.0, 1500.0, 1466.0, 2889.0, 1473.0, 3000.0, 5000.0, 1800.0, 1473.0, 6080.0, 2000.0, 1596.0, 1761.0, 2400.0, 2500.0, 1540.0, 1546.0, 1546.0, 1865.0, 2052.0, 2052.0, 1680.0, 1882.0, 2299.0, 3196.0, 1528.0, 2060.0, 2168.0, 1500.0, 2015.0, 2265.0, 2265.0, 2265.0, 2500.0, 1481.0, 2100.0, 2500.0, 1500.0, 1649.0, 2000.0, 10000.0, 2500.0, 9999.0, 1473.0, 10000.0, 2012.0, 2500.0, 2053.0, 2377.0, 1643.0, 2000.0, 19750.0, 1500.0, 2500.0, 1528.0, 2142.0, 2046.0, 3900.0, 2600.0, 1546.0, 1600.0, 2200.0, 1964.0, 1643.0, 5143.0, 4813.0, 1600.0, 2500.0, 1491.0, 1445.0, 1509.0, 3999.0, 5000.0, 2000.0, 3610.0, 1528.0, 8000.0, 1829.0, 10000.0, 4813.0, 3610.0, 2012.0, 1555.0, 1563.0, 2015.0, 2085.0, 1511.0, 1600.0, 4650.0, 1598.0, 2000.0, 6000.0, 2046.0, 4000.0, 1592.0, 3300.0, 2377.0, 1920.0, 1999.0, 2000.0, 1511.0, 2500.0, 2407.0, 2060.0, 3488.0, 1500.0, 2000.0, 1492.0, 2377.0, 1950.0, 2397.0, 1475.0, 2015.0, 1495.0, 1473.0, 2500.0, 10000.0, 8000.0, 1755.0, 1600.0, 1493.0, 2000.0, 1481.0, 1478.0, 1473.0, 1473.0, 85100.0, 1509.0, 2857.0, 1499.0, 1611.0, 2643.0, 2250.0, 1772.0, 1540.0, 2060.0, 1999.0, 1771.0, 3500.0, 2500.0, 1500.0, 2500.0, 5000.0, 1500.0, 7203.0, 3000.0, 8085.0, 5250.0, 1800.0, 3600.0, 2100.0, 2000.0, 1704.0, 3950.0, 5562.0, 99000.0, 2500.0, 1560.0, 2000.0, 10000.0, 4000.0, 3000.0, 9999.0, 5500.0, 1500.0, 2000.0, 1656.0, 1500.0, 7184.0, 1500.0, 2272.0, 2250.0, 1511.0, 2272.0, 1799.0, 2000.0, 2443.0, 1543.0, 1887.0, 1950.0, 1500.0, 5950.0, 2272.0, 1704.0, 1643.0, 20500.0, 9994.0, 2057.0, 5143.0, 2057.0, 2000.0, 1995.0, 1989.0, 2407.0, 1620.0, 1474.0, 1763.0, 2000.0, 2057.0, 2414.0, 1474.0, 1575.0, 1704.0, 5000.0, 1543.0, 1519.0, 5000.0, 3200.0, 3721.0, 1474.0, 1500.0, 5000.0, 1792.0, 4964.0, 2700.0, 4100.0, 2771.0, 1600.0, 2000.0, 1498.0, 2000.0, 1430.0, 1900.0, 2286.0, 10000.0, 2000.0, 2799.0, 2029.0, 1570.0, 2000.0, 2000.0, 1500.0, 2850.0, 3000.0, 9999.0, 1997.0, 1451.0, 1561.0, 1500.0, 1500.0, 1750.0, 7314.0, 2000.0, 1499.0, 1495.0, 3750.0, 3143.0, 3557.0, 2500.0, 1499.0, 2850.0, 1799.0, 2100.0, 2000.0, 1500.0, 6500.0, 1571.0, 1997.0, 1500.0, 2371.0, 1599.0, 1697.0, 1499.0, 1543.0, 1500.0, 1500.0, 4000.0, 2799.0, 1500.0, 1575.0, 1500.0, 1500.0, 1550.0, 1498.0, 15000.0, 1500.0, 1999.0, 1700.0, 5000.0, 1450.0, 3800.0, 1498.0, 1500.0, 1800.0, 3000.0, 1942.0, 3500.0, 2550.0, 1600.0, 1476.0, 2240.0, 2000.0, 1471.0, 2196.0, 1500.0, 1949.0, 1434.0, 1766.0, 1647.0, 3049.0, 1708.0, 2114.0, 1829.0, 2432.0, 1757.0, 1626.0, 2000.0, 3000.0, 3000.0, 7181.0, 2000.0, 1538.0, 1638.0, 3000.0, 2543.0, 1500.0, 5000.0, 2343.0, 2156.0, 2000.0, 2500.0, 1500.0, 2093.0, 2950.0, 1500.0, 2044.0, 1800.0, 1500.0, 1435.0, 2000.0, 2300.0, 3420.0, 1669.0, 3563.0, 1462.0, 2000.0, 10000.0, 2142.0, 1500.0, 2000.0, 1708.0, 1499.0, 1491.0, 1757.0, 2000.0, 1532.0, 1999.0, 1814.0, 1500.0, 9999.0, 1850.0, 1976.0, 1650.0, 1867.0, 1701.0, 1421.0, 1428.0, 1595.0, 1436.0, 1559.0, 2426.0, 4500.0, 2000.0, 1639.0, 1880.0, 2987.0, 1458.0, 1497.0, 1559.0, 1934.0, 2091.0, 1529.0, 1999.0, 2317.0, 1800.0, 2243.0, 2379.0, 1999.0, 1490.0, 2150.0, 2074.0, 100000.0, 4213.0, 1999.0, 2443.0, 1861.0, 1652.0, 1841.0, 1600.0, 3869.0, 1489.0, 2201.0, 3154.0, 1516.0, 1750.0, 1600.0, 1438.0, 1980.0, 2795.0, 1750.0, 2000.0, 1795.0, 2650.0, 1706.0, 2428.0, 1552.0, 1860.0, 3433.0, 1523.0, 2895.0, 10000.0, 2786.0, 2200.0, 2056.0, 3621.0, 1499.0, 1453.0, 3528.0, 1648.0, 1732.0, 1440.0, 1481.0, 1831.0, 1493.0, 1920.0, 2906.0, 2377.0, 1917.0, 1570.0, 1940.0, 1539.0, 3900.0, 1531.0, 1485.0, 1428.0, 1574.0, 2500.0, 1500.0, 1720.0, 2966.0, 1575.0, 2429.0, 1714.0, 2981.0, 1913.0, 2060.0, 5260.0, 2585.0, 2209.0, 3018.0, 1943.0, 1928.0, 1809.0, 1774.0, 1793.0, 1450.0, 3643.0, 1499.0, 1500.0, 2307.0, 2071.0, 1999.0, 1999.0, 1999.0, 1999.0, 1727.0, 2200.0, 1999.0, 1999.0, 8807.0, 1749.0, 1999.0, 2100.0, 1495.0, 1923.0, 1752.0, 1591.0, 2000.0, 1573.0, 2150.0, 2000.0, 2873.0, 2283.0, 1638.0, 10000.0, 1666.0, 2674.0, 2052.0, 2052.0, 2052.0, 1539.0, 1539.0, 1539.0, 1837.0, 1837.0, 1837.0, 1428.0, 1765.0, 1893.0, 5000.0, 2500.0, 2000.0, 5000.0, 3500.0, 5000.0, 3800.0, 3185.0, 3000.0, 2140.0, 10000.0, 1856.0, 2500.0, 7586.0, 2566.0, 3000.0, 5213.0, 1540.0, 1639.0, 3105.0, 1800.0, 2700.0, 1650.0, 1512.0, 1785.0, 5214.0, 17429.0, 2760.0, 7993.0, 1748.0, 2000.0, 1667.0, 5920.0, 1597.0, 1633.0, 1633.0, 1633.0, 1571.0, 3000.0, 2384.0, 1800.0, 4000.0, 4000.0, 1786.0, 4000.0, 2343.0, 4000.0]\n"
     ]
    }
   ],
   "source": [
    "# Determine outliers using upper and lower bounds.\n",
    "for i in df_combined['price']:\n",
    "    if (i < lower_bound) | (i > upper_bound):\n",
    "        outliers.append(i)\n",
    "\n",
    "# Print out all the possible outliers.\n",
    "print(f'Count: {len(outliers)}, Potential outliers: {outliers}')"
   ]
  },
  {
   "cell_type": "code",
   "execution_count": 10,
   "id": "1cd26553",
   "metadata": {},
   "outputs": [],
   "source": [
    "# Identify outlier amounts with a 'DROP' label and then drop these rows from the df.\n",
    "for amt in outliers:\n",
    "    df_combined['price'] = df_combined['price'].replace(amt, 'DROP')\n",
    "\n",
    "df_combined = df_combined.drop(df_combined[df_combined['price'] == 'DROP'].index)"
   ]
  },
  {
   "cell_type": "code",
   "execution_count": 11,
   "id": "d35081c1",
   "metadata": {},
   "outputs": [
    {
     "data": {
      "text/plain": [
       "70019"
      ]
     },
     "execution_count": 11,
     "metadata": {},
     "output_type": "execute_result"
    }
   ],
   "source": [
    "# Check to see that 707 rows were dropped.\n",
    "len(df_combined)"
   ]
  },
  {
   "cell_type": "code",
   "execution_count": 12,
   "id": "8e23ac92",
   "metadata": {},
   "outputs": [],
   "source": [
    "# Change back data type of 'price' column to float.\n",
    "df_combined['price'] = df_combined['price'].astype(float)"
   ]
  },
  {
   "cell_type": "code",
   "execution_count": 13,
   "id": "3b455eb6",
   "metadata": {},
   "outputs": [],
   "source": [
    "# Create revenue column for 365 days out.\n",
    "df_combined[\"revenue_365\"] = (365 - df_combined['availability_365']) * df_combined['price']\n",
    "\n",
    "# Create revenue per accommodation column for 365 days out.\n",
    "df_combined['revenue_pp_365'] = df_combined['revenue_365'] / df_combined['accommodates']"
   ]
  },
  {
   "cell_type": "code",
   "execution_count": 14,
   "id": "b2bb760f",
   "metadata": {},
   "outputs": [],
   "source": [
    "# Remove % symbols from values and convert to float data type.\n",
    "df_combined['host_response_rate'] = df_combined['host_response_rate'].str.replace('%', '').astype(float)\n",
    "df_combined['host_acceptance_rate'] = df_combined['host_acceptance_rate'].str.replace('%', '').astype(float)"
   ]
  },
  {
   "cell_type": "code",
   "execution_count": 15,
   "id": "bced8dba",
   "metadata": {},
   "outputs": [],
   "source": [
    "# Remove all wording from bathroom information. Replace half bathrooms with 0.5.\n",
    "df_combined['bathrooms_text'] = df_combined['bathrooms_text'].str.replace('Shared half-bath', '0.5')\n",
    "df_combined['bathrooms_text'] = df_combined['bathrooms_text'].str.replace('Half-bath', '0.5')\n",
    "df_combined['bathrooms_text'] = df_combined['bathrooms_text'].str.replace('shared', '')\n",
    "df_combined['bathrooms_text'] = df_combined['bathrooms_text'].str.replace('baths', '')\n",
    "df_combined['bathrooms_text'] = df_combined['bathrooms_text'].str.replace('bath', '')\n",
    "df_combined['bathrooms_text'] = df_combined['bathrooms_text'].str.replace('private', '')\n",
    "df_combined['bathrooms_text'] = df_combined['bathrooms_text'].str.replace('Private half-', '0.5')\n",
    "\n",
    "# Convert data type to float.\n",
    "df_combined['bathrooms_text'] = df_combined['bathrooms_text'].astype(float)"
   ]
  },
  {
   "cell_type": "code",
   "execution_count": 16,
   "id": "2062f4b7",
   "metadata": {},
   "outputs": [
    {
     "data": {
      "text/plain": [
       "array([ 1. ,  2.5,  1.5,  3. ,  2. ,  6. ,  3.5,  4.5,  4. ,  0. ,  5. ,\n",
       "        8. ,  7. ,  5.5,  0.5,  7.5, 14. ,  6.5,  nan,  9. , 10.5, 12.5,\n",
       "       16. , 12. , 13.5,  8.5,  9.5, 27.5, 20. ])"
      ]
     },
     "execution_count": 16,
     "metadata": {},
     "output_type": "execute_result"
    }
   ],
   "source": [
    "df_combined['bathrooms_text'].unique()"
   ]
  },
  {
   "cell_type": "code",
   "execution_count": 17,
   "id": "7491d72d",
   "metadata": {},
   "outputs": [],
   "source": [
    "# Delete unnecessary symbols in the 'amenities' column.\n",
    "df_combined['amenities'] = df_combined['amenities'].str.replace('\"', '')\n",
    "df_combined['amenities'] = df_combined['amenities'].str.replace('[', '', regex=False)\n",
    "df_combined['amenities'] = df_combined['amenities'].str.replace(']', '', regex=False)"
   ]
  },
  {
   "cell_type": "code",
   "execution_count": 18,
   "id": "84edde0f",
   "metadata": {},
   "outputs": [],
   "source": [
    "# Split each row's amenities by ', ' and compile them into a list.\n",
    "df_combined['amenities'] = df_combined['amenities'].str.split(', ').to_list()"
   ]
  },
  {
   "cell_type": "code",
   "execution_count": 19,
   "id": "c33cef39",
   "metadata": {},
   "outputs": [
    {
     "data": {
      "text/plain": [
       "0        [Lock on bedroom door, Iron, Washer \\u2013\\u00...\n",
       "1        [Iron, Keypad, Luggage dropoff allowed, Free p...\n",
       "2        [Wine glasses, Iron, Body soap, Private entran...\n",
       "3        [Iron, Luggage dropoff allowed, Wifi, Washer, ...\n",
       "4        [Wine glasses, Iron, Body soap, Private entran...\n",
       "                               ...                        \n",
       "70721    [Long term stays allowed, Washer, Stove, Hair ...\n",
       "70722    [Children\\u2019s dinnerware, Washer, Dryer, St...\n",
       "70723    [Long term stays allowed, Cleaning products, S...\n",
       "70724    [Washer, Kitchen, Dryer, Smoke alarm, Hangers,...\n",
       "70725    [Washer, Air conditioning, Cleaning products, ...\n",
       "Name: amenities, Length: 70019, dtype: object"
      ]
     },
     "execution_count": 19,
     "metadata": {},
     "output_type": "execute_result"
    }
   ],
   "source": [
    "df_combined['amenities']"
   ]
  },
  {
   "cell_type": "code",
   "execution_count": 20,
   "id": "9ecf7073",
   "metadata": {},
   "outputs": [],
   "source": [
    "# Loop through each row of 'amenities' and get their count.\n",
    "amenities_count = []\n",
    "\n",
    "for i in df_combined['amenities']:\n",
    "\n",
    "    count = len(i)\n",
    "\n",
    "    amenities_count.append(count)"
   ]
  },
  {
   "cell_type": "code",
   "execution_count": 21,
   "id": "b913f96c",
   "metadata": {},
   "outputs": [],
   "source": [
    "# Add a new 'amenities_count' column.\n",
    "df_combined['amenities_count'] = amenities_count"
   ]
  },
  {
   "cell_type": "code",
   "execution_count": 22,
   "id": "0f17f416",
   "metadata": {},
   "outputs": [],
   "source": [
    "# Convert f to 0, t to 1 for all three columns.\n",
    "df_combined['host_is_superhost'] = df_combined['host_is_superhost'].str.replace('f', '0').str.replace('t', '1').astype(float)\n",
    "df_combined['host_identity_verified'] = df_combined['host_identity_verified'].str.replace('f', '0').str.replace('t', '1').astype(float)\n",
    "df_combined['instant_bookable'] = df_combined['instant_bookable'].str.replace('f', '0').str.replace('t', '1').astype(float)"
   ]
  },
  {
   "cell_type": "code",
   "execution_count": 23,
   "id": "ace26a91",
   "metadata": {},
   "outputs": [
    {
     "name": "stdout",
     "output_type": "stream",
     "text": [
      "<class 'pandas.core.frame.DataFrame'>\n",
      "Int64Index: 70019 entries, 0 to 70725\n",
      "Data columns (total 32 columns):\n",
      " #   Column                       Non-Null Count  Dtype  \n",
      "---  ------                       --------------  -----  \n",
      " 0   host_since                   70014 non-null  object \n",
      " 1   host_response_rate           52696 non-null  float64\n",
      " 2   host_acceptance_rate         55607 non-null  float64\n",
      " 3   host_is_superhost            69989 non-null  float64\n",
      " 4   host_total_listings_count    70014 non-null  float64\n",
      " 5   host_identity_verified       70014 non-null  float64\n",
      " 6   neighbourhood_cleansed       70019 non-null  object \n",
      " 7   room_type                    70019 non-null  object \n",
      " 8   accommodates                 70019 non-null  int64  \n",
      " 9   bathrooms_text               69934 non-null  float64\n",
      " 10  bedrooms                     64022 non-null  float64\n",
      " 11  beds                         68812 non-null  float64\n",
      " 12  amenities                    70019 non-null  object \n",
      " 13  price                        70019 non-null  float64\n",
      " 14  minimum_nights               70019 non-null  int64  \n",
      " 15  maximum_nights               70019 non-null  int64  \n",
      " 16  availability_30              70019 non-null  int64  \n",
      " 17  availability_60              70019 non-null  int64  \n",
      " 18  availability_90              70019 non-null  int64  \n",
      " 19  availability_365             70019 non-null  int64  \n",
      " 20  number_of_reviews            70019 non-null  int64  \n",
      " 21  review_scores_rating         55916 non-null  float64\n",
      " 22  review_scores_accuracy       55449 non-null  float64\n",
      " 23  review_scores_cleanliness    55459 non-null  float64\n",
      " 24  review_scores_checkin        55443 non-null  float64\n",
      " 25  review_scores_communication  55454 non-null  float64\n",
      " 26  review_scores_location       55440 non-null  float64\n",
      " 27  review_scores_value          55440 non-null  float64\n",
      " 28  instant_bookable             70019 non-null  float64\n",
      " 29  revenue_365                  70019 non-null  float64\n",
      " 30  revenue_pp_365               69998 non-null  float64\n",
      " 31  amenities_count              70019 non-null  int64  \n",
      "dtypes: float64(19), int64(9), object(4)\n",
      "memory usage: 17.6+ MB\n"
     ]
    }
   ],
   "source": [
    "df_combined.info()"
   ]
  },
  {
   "cell_type": "code",
   "execution_count": 24,
   "id": "941f3e70",
   "metadata": {},
   "outputs": [],
   "source": [
    "df_combined.to_csv('saved_csvs/df_ml_all.csv', index=False)"
   ]
  },
  {
   "cell_type": "code",
   "execution_count": 25,
   "id": "b3694f33",
   "metadata": {},
   "outputs": [],
   "source": [
    "# Drop rows with null values.\n",
    "df_rates = df_combined[['host_response_rate', 'host_acceptance_rate', 'price', 'revenue_365', 'revenue_pp_365']]\n",
    "\n",
    "df_reviews = df_combined[['review_scores_rating', 'review_scores_accuracy', 'review_scores_cleanliness', \n",
    "                        'review_scores_checkin', 'review_scores_communication', 'review_scores_location', \n",
    "                        'review_scores_value', 'price', 'revenue_365', 'revenue_pp_365', 'availability_365', 'number_of_reviews']]\n",
    "\n",
    "df_combined = df_combined.drop(columns=['host_response_rate', 'host_acceptance_rate', 'review_scores_rating', \n",
    "                                        'review_scores_accuracy', 'review_scores_cleanliness', 'review_scores_checkin', \n",
    "                                        'review_scores_communication', 'review_scores_location', 'review_scores_value'])"
   ]
  },
  {
   "cell_type": "code",
   "execution_count": 26,
   "id": "7de85667",
   "metadata": {},
   "outputs": [
    {
     "data": {
      "text/plain": [
       "host_response_rate      52060\n",
       "host_acceptance_rate    52060\n",
       "price                   52060\n",
       "revenue_365             52060\n",
       "revenue_pp_365          52060\n",
       "dtype: int64"
      ]
     },
     "execution_count": 26,
     "metadata": {},
     "output_type": "execute_result"
    }
   ],
   "source": [
    "df_rates = df_rates.dropna()\n",
    "\n",
    "df_rates.count()"
   ]
  },
  {
   "cell_type": "code",
   "execution_count": 27,
   "id": "2ac2c049",
   "metadata": {},
   "outputs": [
    {
     "data": {
      "text/plain": [
       "review_scores_rating           55426\n",
       "review_scores_accuracy         55426\n",
       "review_scores_cleanliness      55426\n",
       "review_scores_checkin          55426\n",
       "review_scores_communication    55426\n",
       "review_scores_location         55426\n",
       "review_scores_value            55426\n",
       "price                          55426\n",
       "revenue_365                    55426\n",
       "revenue_pp_365                 55426\n",
       "availability_365               55426\n",
       "number_of_reviews              55426\n",
       "dtype: int64"
      ]
     },
     "execution_count": 27,
     "metadata": {},
     "output_type": "execute_result"
    }
   ],
   "source": [
    "df_reviews = df_reviews.dropna()\n",
    "\n",
    "df_reviews.count()"
   ]
  },
  {
   "cell_type": "code",
   "execution_count": 28,
   "id": "fe008d3f",
   "metadata": {},
   "outputs": [
    {
     "data": {
      "text/plain": [
       "host_since                   63027\n",
       "host_is_superhost            63027\n",
       "host_total_listings_count    63027\n",
       "host_identity_verified       63027\n",
       "neighbourhood_cleansed       63027\n",
       "room_type                    63027\n",
       "accommodates                 63027\n",
       "bathrooms_text               63027\n",
       "bedrooms                     63027\n",
       "beds                         63027\n",
       "amenities                    63027\n",
       "price                        63027\n",
       "minimum_nights               63027\n",
       "maximum_nights               63027\n",
       "availability_30              63027\n",
       "availability_60              63027\n",
       "availability_90              63027\n",
       "availability_365             63027\n",
       "number_of_reviews            63027\n",
       "instant_bookable             63027\n",
       "revenue_365                  63027\n",
       "revenue_pp_365               63027\n",
       "amenities_count              63027\n",
       "dtype: int64"
      ]
     },
     "execution_count": 28,
     "metadata": {},
     "output_type": "execute_result"
    }
   ],
   "source": [
    "df_combined = df_combined.dropna()\n",
    "\n",
    "df_combined.count()"
   ]
  },
  {
   "cell_type": "code",
   "execution_count": 29,
   "id": "a93edc8f",
   "metadata": {},
   "outputs": [],
   "source": [
    "# Export as a CSV file.\n",
    "df_rates.to_csv('saved_csvs/df_rates.csv', index=False)\n",
    "\n",
    "# Export as a CSV file.\n",
    "df_reviews.to_csv('saved_csvs/df_reviews.csv', index=False)\n",
    "\n",
    "# Export as a CSV file.\n",
    "df_combined.to_csv('saved_csvs/df_combined.csv', index=False)"
   ]
  },
  {
   "cell_type": "markdown",
   "id": "b7cc2454",
   "metadata": {},
   "source": [
    "# Calculating Correlations with Price"
   ]
  },
  {
   "cell_type": "code",
   "execution_count": 30,
   "id": "e94ab87d",
   "metadata": {},
   "outputs": [],
   "source": [
    "import pandas as pd\n",
    "import numpy as np\n",
    "import scipy.stats as st\n",
    "from scipy.stats import linregress\n",
    "import matplotlib.pyplot as plt"
   ]
  },
  {
   "cell_type": "code",
   "execution_count": 31,
   "id": "16102664",
   "metadata": {},
   "outputs": [],
   "source": [
    "df_rates = pd.read_csv('saved_csvs/df_rates.csv')\n",
    "\n",
    "df_reviews = pd.read_csv('saved_csvs/df_reviews.csv')\n",
    "\n",
    "df_combined = pd.read_csv('saved_csvs/df_combined.csv')"
   ]
  },
  {
   "cell_type": "code",
   "execution_count": 32,
   "id": "e933e072",
   "metadata": {},
   "outputs": [
    {
     "data": {
      "text/plain": [
       "Index(['host_since', 'host_is_superhost', 'host_total_listings_count',\n",
       "       'host_identity_verified', 'neighbourhood_cleansed', 'room_type',\n",
       "       'accommodates', 'bathrooms_text', 'bedrooms', 'beds', 'amenities',\n",
       "       'price', 'minimum_nights', 'maximum_nights', 'availability_30',\n",
       "       'availability_60', 'availability_90', 'availability_365',\n",
       "       'number_of_reviews', 'instant_bookable', 'revenue_365',\n",
       "       'revenue_pp_365', 'amenities_count'],\n",
       "      dtype='object')"
      ]
     },
     "execution_count": 32,
     "metadata": {},
     "output_type": "execute_result"
    }
   ],
   "source": [
    "df_combined.columns"
   ]
  },
  {
   "cell_type": "code",
   "execution_count": 33,
   "id": "77a5de33",
   "metadata": {},
   "outputs": [
    {
     "name": "stdout",
     "output_type": "stream",
     "text": [
      "Correlation: 0.6\n"
     ]
    }
   ],
   "source": [
    "# Correlation coefficient.\n",
    "correlation = st.pearsonr(df_combined['accommodates'], df_combined['price'])\n",
    "print(f\"Correlation: {round(correlation[0],2)}\")"
   ]
  },
  {
   "cell_type": "code",
   "execution_count": 34,
   "id": "05c798d5",
   "metadata": {},
   "outputs": [
    {
     "data": {
      "image/png": "[encoded data removed]",
      "text/plain": [
       "<Figure size 640x480 with 1 Axes>"
      ]
     },
     "metadata": {},
     "output_type": "display_data"
    }
   ],
   "source": [
    "# Linear regression model.\n",
    "(slope, intercept, rvalue, pvalue, stderr) = linregress(df_combined['accommodates'], df_combined['price'])\n",
    "regress_values = df_combined['accommodates'] * slope + intercept\n",
    "plt.scatter(df_combined['accommodates'], df_combined['price'])\n",
    "plt.plot(df_combined['accommodates'], regress_values, \"r-\")\n",
    "plt.xlabel(\"Number of Accommodations\")\n",
    "plt.ylabel(\"Price of Airbnb\")\n",
    "plt.title(\"Correlation Between Number of Accommodations and Price of Airbnb\")\n",
    "plt.show()"
   ]
  },
  {
   "cell_type": "code",
   "execution_count": 35,
   "id": "960b7574",
   "metadata": {},
   "outputs": [
    {
     "name": "stdout",
     "output_type": "stream",
     "text": [
      "Correlation: 0.15\n"
     ]
    }
   ],
   "source": [
    "# Correlation coefficient.\n",
    "correlation = st.pearsonr(df_combined['host_total_listings_count'], df_combined['price'])\n",
    "print(f\"Correlation: {round(correlation[0],2)}\")"
   ]
  },
  {
   "cell_type": "code",
   "execution_count": 36,
   "id": "a273fd7b",
   "metadata": {},
   "outputs": [
    {
     "name": "stdout",
     "output_type": "stream",
     "text": [
      "Correlation: 0.52\n"
     ]
    }
   ],
   "source": [
    "# Correlation coefficient.\n",
    "correlation = st.pearsonr(df_combined['bathrooms_text'], df_combined['price'])\n",
    "print(f\"Correlation: {round(correlation[0],2)}\")"
   ]
  },
  {
   "cell_type": "code",
   "execution_count": 37,
   "id": "74b28053",
   "metadata": {},
   "outputs": [
    {
     "name": "stdout",
     "output_type": "stream",
     "text": [
      "Correlation: 0.54\n"
     ]
    }
   ],
   "source": [
    "# Correlation coefficient.\n",
    "correlation = st.pearsonr(df_combined['bedrooms'], df_combined['price'])\n",
    "print(f\"Correlation: {round(correlation[0],2)}\")"
   ]
  },
  {
   "cell_type": "code",
   "execution_count": 38,
   "id": "4491a211",
   "metadata": {},
   "outputs": [
    {
     "name": "stdout",
     "output_type": "stream",
     "text": [
      "Correlation: 0.21\n"
     ]
    }
   ],
   "source": [
    "# Correlation coefficient.\n",
    "correlation = st.pearsonr(df_combined['amenities_count'], df_combined['price'])\n",
    "print(f\"Correlation: {round(correlation[0],2)}\")"
   ]
  },
  {
   "cell_type": "code",
   "execution_count": 39,
   "id": "768c6669",
   "metadata": {},
   "outputs": [
    {
     "name": "stdout",
     "output_type": "stream",
     "text": [
      "Correlation: -0.11\n"
     ]
    }
   ],
   "source": [
    "# Correlation coefficient.\n",
    "correlation = st.pearsonr(df_combined['minimum_nights'], df_combined['price'])\n",
    "print(f\"Correlation: {round(correlation[0],2)}\")"
   ]
  },
  {
   "cell_type": "code",
   "execution_count": 40,
   "id": "5420feb9",
   "metadata": {},
   "outputs": [
    {
     "name": "stdout",
     "output_type": "stream",
     "text": [
      "Correlation: -0.0\n"
     ]
    }
   ],
   "source": [
    "# Correlation coefficient.\n",
    "correlation = st.pearsonr(df_combined['maximum_nights'], df_combined['price'])\n",
    "print(f\"Correlation: {round(correlation[0],2)}\")"
   ]
  },
  {
   "cell_type": "code",
   "execution_count": 41,
   "id": "2ed21cc6",
   "metadata": {},
   "outputs": [
    {
     "name": "stdout",
     "output_type": "stream",
     "text": [
      "Correlation: -0.05\n"
     ]
    }
   ],
   "source": [
    "# Correlation coefficient.\n",
    "correlation = st.pearsonr(df_combined['number_of_reviews'], df_combined['price'])\n",
    "print(f\"Correlation: {round(correlation[0],2)}\")"
   ]
  },
  {
   "cell_type": "code",
   "execution_count": 42,
   "id": "426e3a86",
   "metadata": {},
   "outputs": [
    {
     "name": "stdout",
     "output_type": "stream",
     "text": [
      "Correlation: 0.05\n"
     ]
    }
   ],
   "source": [
    "# Correlation coefficient.\n",
    "correlation = st.pearsonr(df_combined['host_is_superhost'], df_combined['price'])\n",
    "print(f\"Correlation: {round(correlation[0],2)}\")"
   ]
  },
  {
   "cell_type": "code",
   "execution_count": 43,
   "id": "985fb5b9",
   "metadata": {},
   "outputs": [
    {
     "name": "stdout",
     "output_type": "stream",
     "text": [
      "Correlation: 0.03\n"
     ]
    }
   ],
   "source": [
    "# Correlation coefficient.\n",
    "correlation = st.pearsonr(df_combined['host_identity_verified'], df_combined['price'])\n",
    "print(f\"Correlation: {round(correlation[0],2)}\")"
   ]
  },
  {
   "cell_type": "code",
   "execution_count": 44,
   "id": "0b6150e4",
   "metadata": {},
   "outputs": [
    {
     "name": "stdout",
     "output_type": "stream",
     "text": [
      "Correlation: 0.13\n"
     ]
    }
   ],
   "source": [
    "# Correlation coefficient.\n",
    "correlation = st.pearsonr(df_combined['instant_bookable'], df_combined['price'])\n",
    "print(f\"Correlation: {round(correlation[0],2)}\")"
   ]
  },
  {
   "cell_type": "code",
   "execution_count": 45,
   "id": "6edcf3eb",
   "metadata": {},
   "outputs": [
    {
     "name": "stdout",
     "output_type": "stream",
     "text": [
      "Correlation: 0.01\n"
     ]
    }
   ],
   "source": [
    "# Correlation coefficient.\n",
    "correlation = st.pearsonr(df_rates['host_response_rate'], df_rates['price'])\n",
    "print(f\"Correlation: {round(correlation[0],2)}\")"
   ]
  },
  {
   "cell_type": "code",
   "execution_count": 46,
   "id": "a71ddc0b",
   "metadata": {},
   "outputs": [
    {
     "name": "stdout",
     "output_type": "stream",
     "text": [
      "Correlation: 0.06\n"
     ]
    }
   ],
   "source": [
    "# Correlation coefficient.\n",
    "correlation = st.pearsonr(df_rates['host_acceptance_rate'], df_rates['price'])\n",
    "print(f\"Correlation: {round(correlation[0],2)}\")"
   ]
  },
  {
   "cell_type": "code",
   "execution_count": 47,
   "id": "0bba6fbd",
   "metadata": {},
   "outputs": [
    {
     "data": {
      "text/plain": [
       "Index(['review_scores_rating', 'review_scores_accuracy',\n",
       "       'review_scores_cleanliness', 'review_scores_checkin',\n",
       "       'review_scores_communication', 'review_scores_location',\n",
       "       'review_scores_value', 'price', 'revenue_365', 'revenue_pp_365'],\n",
       "      dtype='object')"
      ]
     },
     "execution_count": 47,
     "metadata": {},
     "output_type": "execute_result"
    }
   ],
   "source": [
    "df_reviews.columns"
   ]
  },
  {
   "cell_type": "code",
   "execution_count": 48,
   "id": "42c59de5",
   "metadata": {},
   "outputs": [
    {
     "name": "stdout",
     "output_type": "stream",
     "text": [
      "Correlation: 0.08\n"
     ]
    }
   ],
   "source": [
    "# Correlation coefficient.\n",
    "correlation = st.pearsonr(df_reviews['review_scores_rating'], df_reviews['price'])\n",
    "print(f\"Correlation: {round(correlation[0],2)}\")"
   ]
  },
  {
   "cell_type": "code",
   "execution_count": 49,
   "id": "1545ebff",
   "metadata": {},
   "outputs": [
    {
     "name": "stdout",
     "output_type": "stream",
     "text": [
      "Correlation: 0.05\n"
     ]
    }
   ],
   "source": [
    "# Correlation coefficient.\n",
    "correlation = st.pearsonr(df_reviews['review_scores_accuracy'], df_reviews['price'])\n",
    "print(f\"Correlation: {round(correlation[0],2)}\")"
   ]
  },
  {
   "cell_type": "code",
   "execution_count": 50,
   "id": "ac53c5a5",
   "metadata": {},
   "outputs": [
    {
     "name": "stdout",
     "output_type": "stream",
     "text": [
      "Correlation: 0.1\n"
     ]
    }
   ],
   "source": [
    "# Correlation coefficient.\n",
    "correlation = st.pearsonr(df_reviews['review_scores_cleanliness'], df_reviews['price'])\n",
    "print(f\"Correlation: {round(correlation[0],2)}\")"
   ]
  },
  {
   "cell_type": "code",
   "execution_count": 51,
   "id": "556f0047",
   "metadata": {},
   "outputs": [
    {
     "name": "stdout",
     "output_type": "stream",
     "text": [
      "Correlation: 0.04\n"
     ]
    }
   ],
   "source": [
    "# Correlation coefficient.\n",
    "correlation = st.pearsonr(df_reviews['review_scores_checkin'], df_reviews['price'])\n",
    "print(f\"Correlation: {round(correlation[0],2)}\")"
   ]
  },
  {
   "cell_type": "code",
   "execution_count": 52,
   "id": "c155f650",
   "metadata": {},
   "outputs": [
    {
     "name": "stdout",
     "output_type": "stream",
     "text": [
      "Correlation: 0.04\n"
     ]
    }
   ],
   "source": [
    "# Correlation coefficient.\n",
    "correlation = st.pearsonr(df_reviews['review_scores_communication'], df_reviews['price'])\n",
    "print(f\"Correlation: {round(correlation[0],2)}\")"
   ]
  },
  {
   "cell_type": "code",
   "execution_count": 53,
   "id": "d3d8f48e",
   "metadata": {},
   "outputs": [
    {
     "name": "stdout",
     "output_type": "stream",
     "text": [
      "Correlation: 0.11\n"
     ]
    }
   ],
   "source": [
    "# Correlation coefficient.\n",
    "correlation = st.pearsonr(df_reviews['review_scores_location'], df_reviews['price'])\n",
    "print(f\"Correlation: {round(correlation[0],2)}\")"
   ]
  },
  {
   "cell_type": "code",
   "execution_count": 54,
   "id": "2ef33c76",
   "metadata": {},
   "outputs": [
    {
     "name": "stdout",
     "output_type": "stream",
     "text": [
      "Correlation: 0.02\n"
     ]
    }
   ],
   "source": [
    "# Correlation coefficient.\n",
    "correlation = st.pearsonr(df_reviews['review_scores_value'], df_reviews['price'])\n",
    "print(f\"Correlation: {round(correlation[0],2)}\")"
   ]
  },
  {
   "cell_type": "markdown",
   "id": "3277d271",
   "metadata": {},
   "source": [
    "# Calculating Correlations with Revenue_pp"
   ]
  },
  {
   "cell_type": "code",
   "execution_count": 55,
   "id": "18d16e14",
   "metadata": {},
   "outputs": [
    {
     "data": {
      "text/plain": [
       "Index(['host_since', 'host_is_superhost', 'host_total_listings_count',\n",
       "       'host_identity_verified', 'neighbourhood_cleansed', 'room_type',\n",
       "       'accommodates', 'bathrooms_text', 'bedrooms', 'beds', 'amenities',\n",
       "       'price', 'minimum_nights', 'maximum_nights', 'availability_30',\n",
       "       'availability_60', 'availability_90', 'availability_365',\n",
       "       'number_of_reviews', 'instant_bookable', 'revenue_365',\n",
       "       'revenue_pp_365', 'amenities_count'],\n",
       "      dtype='object')"
      ]
     },
     "execution_count": 55,
     "metadata": {},
     "output_type": "execute_result"
    }
   ],
   "source": [
    "df_combined.columns"
   ]
  },
  {
   "cell_type": "code",
   "execution_count": 56,
   "id": "9276bf3b",
   "metadata": {},
   "outputs": [
    {
     "name": "stdout",
     "output_type": "stream",
     "text": [
      "Correlation: -0.21\n"
     ]
    }
   ],
   "source": [
    "# Correlation coefficient.\n",
    "correlation = st.pearsonr(df_combined['accommodates'], df_combined['revenue_pp_365'])\n",
    "print(f\"Correlation: {round(correlation[0],2)}\")"
   ]
  },
  {
   "cell_type": "code",
   "execution_count": 57,
   "id": "3f00bcee",
   "metadata": {},
   "outputs": [
    {
     "name": "stdout",
     "output_type": "stream",
     "text": [
      "Correlation: 0.0\n"
     ]
    }
   ],
   "source": [
    "# Correlation coefficient.\n",
    "correlation = st.pearsonr(df_combined['host_total_listings_count'], df_combined['revenue_pp_365'])\n",
    "print(f\"Correlation: {round(correlation[0],2)}\")"
   ]
  },
  {
   "cell_type": "code",
   "execution_count": 58,
   "id": "87902310",
   "metadata": {},
   "outputs": [
    {
     "name": "stdout",
     "output_type": "stream",
     "text": [
      "Correlation: -0.03\n"
     ]
    }
   ],
   "source": [
    "# Correlation coefficient.\n",
    "correlation = st.pearsonr(df_combined['host_identity_verified'], df_combined['revenue_pp_365'])\n",
    "print(f\"Correlation: {round(correlation[0],2)}\")"
   ]
  },
  {
   "cell_type": "code",
   "execution_count": 59,
   "id": "f09cb333",
   "metadata": {},
   "outputs": [
    {
     "name": "stdout",
     "output_type": "stream",
     "text": [
      "Correlation: -0.1\n"
     ]
    }
   ],
   "source": [
    "# Correlation coefficient.\n",
    "correlation = st.pearsonr(df_combined['bathrooms_text'], df_combined['revenue_pp_365'])\n",
    "print(f\"Correlation: {round(correlation[0],2)}\")"
   ]
  },
  {
   "cell_type": "code",
   "execution_count": 60,
   "id": "0aa215e4",
   "metadata": {},
   "outputs": [
    {
     "name": "stdout",
     "output_type": "stream",
     "text": [
      "Correlation: -0.14\n"
     ]
    }
   ],
   "source": [
    "# Correlation coefficient.\n",
    "correlation = st.pearsonr(df_combined['bedrooms'], df_combined['revenue_pp_365'])\n",
    "print(f\"Correlation: {round(correlation[0],2)}\")"
   ]
  },
  {
   "cell_type": "code",
   "execution_count": 61,
   "id": "ca9bd394",
   "metadata": {},
   "outputs": [
    {
     "name": "stdout",
     "output_type": "stream",
     "text": [
      "Correlation: -0.16\n"
     ]
    }
   ],
   "source": [
    "# Correlation coefficient.\n",
    "correlation = st.pearsonr(df_combined['beds'], df_combined['revenue_pp_365'])\n",
    "print(f\"Correlation: {round(correlation[0],2)}\")"
   ]
  },
  {
   "cell_type": "code",
   "execution_count": 62,
   "id": "31ddddd2",
   "metadata": {},
   "outputs": [
    {
     "name": "stdout",
     "output_type": "stream",
     "text": [
      "Correlation: -0.13\n"
     ]
    }
   ],
   "source": [
    "# Correlation coefficient.\n",
    "correlation = st.pearsonr(df_combined['amenities_count'], df_combined['revenue_pp_365'])\n",
    "print(f\"Correlation: {round(correlation[0],2)}\")"
   ]
  },
  {
   "cell_type": "code",
   "execution_count": 63,
   "id": "869b3055",
   "metadata": {},
   "outputs": [
    {
     "name": "stdout",
     "output_type": "stream",
     "text": [
      "Correlation: 0.06\n"
     ]
    }
   ],
   "source": [
    "# Correlation coefficient.\n",
    "correlation = st.pearsonr(df_combined['minimum_nights'], df_combined['revenue_pp_365'])\n",
    "print(f\"Correlation: {round(correlation[0],2)}\")"
   ]
  },
  {
   "cell_type": "code",
   "execution_count": 64,
   "id": "498bef33",
   "metadata": {},
   "outputs": [
    {
     "name": "stdout",
     "output_type": "stream",
     "text": [
      "Correlation: -0.54\n"
     ]
    }
   ],
   "source": [
    "# Correlation coefficient.\n",
    "correlation = st.pearsonr(df_combined['availability_365'], df_combined['revenue_pp_365'])\n",
    "print(f\"Correlation: {round(correlation[0],2)}\")"
   ]
  },
  {
   "cell_type": "code",
   "execution_count": 65,
   "id": "211ba02d",
   "metadata": {},
   "outputs": [
    {
     "name": "stdout",
     "output_type": "stream",
     "text": [
      "Correlation: -0.01\n"
     ]
    }
   ],
   "source": [
    "# Correlation coefficient.\n",
    "correlation = st.pearsonr(df_rates['host_response_rate'], df_rates['revenue_pp_365'])\n",
    "print(f\"Correlation: {round(correlation[0],2)}\")"
   ]
  },
  {
   "cell_type": "code",
   "execution_count": 66,
   "id": "e1d7b4dd",
   "metadata": {},
   "outputs": [
    {
     "name": "stdout",
     "output_type": "stream",
     "text": [
      "Correlation: -0.07\n"
     ]
    }
   ],
   "source": [
    "# Correlation coefficient.\n",
    "correlation = st.pearsonr(df_rates['host_acceptance_rate'], df_rates['revenue_pp_365'])\n",
    "print(f\"Correlation: {round(correlation[0],2)}\")"
   ]
  },
  {
   "cell_type": "code",
   "execution_count": 67,
   "id": "614952e6",
   "metadata": {},
   "outputs": [
    {
     "data": {
      "text/plain": [
       "Index(['review_scores_rating', 'review_scores_accuracy',\n",
       "       'review_scores_cleanliness', 'review_scores_checkin',\n",
       "       'review_scores_communication', 'review_scores_location',\n",
       "       'review_scores_value', 'price', 'revenue_365', 'revenue_pp_365'],\n",
       "      dtype='object')"
      ]
     },
     "execution_count": 67,
     "metadata": {},
     "output_type": "execute_result"
    }
   ],
   "source": [
    "df_reviews.columns"
   ]
  },
  {
   "cell_type": "code",
   "execution_count": 68,
   "id": "6e2195df",
   "metadata": {},
   "outputs": [
    {
     "name": "stdout",
     "output_type": "stream",
     "text": [
      "Correlation: 0.06\n"
     ]
    }
   ],
   "source": [
    "# Correlation coefficient.\n",
    "correlation = st.pearsonr(df_reviews['review_scores_rating'], df_reviews['revenue_pp_365'])\n",
    "print(f\"Correlation: {round(correlation[0],2)}\")"
   ]
  },
  {
   "cell_type": "code",
   "execution_count": 69,
   "id": "aa0233bc",
   "metadata": {},
   "outputs": [
    {
     "name": "stdout",
     "output_type": "stream",
     "text": [
      "Correlation: 0.05\n"
     ]
    }
   ],
   "source": [
    "# Correlation coefficient.\n",
    "correlation = st.pearsonr(df_reviews['review_scores_accuracy'], df_reviews['revenue_pp_365'])\n",
    "print(f\"Correlation: {round(correlation[0],2)}\")"
   ]
  },
  {
   "cell_type": "code",
   "execution_count": 70,
   "id": "4b01c7f1",
   "metadata": {},
   "outputs": [
    {
     "name": "stdout",
     "output_type": "stream",
     "text": [
      "Correlation: 0.02\n"
     ]
    }
   ],
   "source": [
    "# Correlation coefficient.\n",
    "correlation = st.pearsonr(df_reviews['review_scores_cleanliness'], df_reviews['revenue_pp_365'])\n",
    "print(f\"Correlation: {round(correlation[0],2)}\")"
   ]
  },
  {
   "cell_type": "code",
   "execution_count": 71,
   "id": "b335bd31",
   "metadata": {},
   "outputs": [
    {
     "name": "stdout",
     "output_type": "stream",
     "text": [
      "Correlation: 0.03\n"
     ]
    }
   ],
   "source": [
    "# Correlation coefficient.\n",
    "correlation = st.pearsonr(df_reviews['review_scores_checkin'], df_reviews['revenue_pp_365'])\n",
    "print(f\"Correlation: {round(correlation[0],2)}\")"
   ]
  },
  {
   "cell_type": "code",
   "execution_count": 72,
   "id": "e107d5d2",
   "metadata": {},
   "outputs": [
    {
     "name": "stdout",
     "output_type": "stream",
     "text": [
      "Correlation: 0.06\n"
     ]
    }
   ],
   "source": [
    "# Correlation coefficient.\n",
    "correlation = st.pearsonr(df_reviews[ 'review_scores_communication'], df_reviews['revenue_pp_365'])\n",
    "print(f\"Correlation: {round(correlation[0],2)}\")"
   ]
  },
  {
   "cell_type": "code",
   "execution_count": 73,
   "id": "a984858e",
   "metadata": {},
   "outputs": [
    {
     "name": "stdout",
     "output_type": "stream",
     "text": [
      "Correlation: 0.11\n"
     ]
    }
   ],
   "source": [
    "# Correlation coefficient.\n",
    "correlation = st.pearsonr(df_reviews['review_scores_location'], df_reviews['revenue_pp_365'])\n",
    "print(f\"Correlation: {round(correlation[0],2)}\")"
   ]
  },
  {
   "cell_type": "code",
   "execution_count": 74,
   "id": "25d8c01b",
   "metadata": {},
   "outputs": [
    {
     "name": "stdout",
     "output_type": "stream",
     "text": [
      "Correlation: 0.05\n"
     ]
    }
   ],
   "source": [
    "# Correlation coefficient.\n",
    "correlation = st.pearsonr(df_reviews['review_scores_value'], df_reviews['revenue_pp_365'])\n",
    "print(f\"Correlation: {round(correlation[0],2)}\")"
   ]
  },
  {
   "cell_type": "code",
   "execution_count": null,
   "id": "ff7a52eb",
   "metadata": {},
   "outputs": [],
   "source": []
  },
  {
   "cell_type": "markdown",
   "id": "e4779fe9",
   "metadata": {},
   "source": [
    "# Calculating Correlation between Availability and Reviews"
   ]
  },
  {
   "cell_type": "code",
   "execution_count": 32,
   "id": "c55f2344",
   "metadata": {},
   "outputs": [
    {
     "data": {
      "text/plain": [
       "Index(['review_scores_rating', 'review_scores_accuracy',\n",
       "       'review_scores_cleanliness', 'review_scores_checkin',\n",
       "       'review_scores_communication', 'review_scores_location',\n",
       "       'review_scores_value', 'price', 'revenue_365', 'revenue_pp_365',\n",
       "       'availability_365', 'number_of_reviews'],\n",
       "      dtype='object')"
      ]
     },
     "execution_count": 32,
     "metadata": {},
     "output_type": "execute_result"
    }
   ],
   "source": [
    "df_reviews.columns"
   ]
  },
  {
   "cell_type": "code",
   "execution_count": 33,
   "id": "44ffc7b1",
   "metadata": {},
   "outputs": [
    {
     "name": "stdout",
     "output_type": "stream",
     "text": [
      "Correlation: -0.04\n"
     ]
    }
   ],
   "source": [
    "# Correlation coefficient.\n",
    "correlation = st.pearsonr(df_reviews['review_scores_rating'], df_reviews['availability_365'])\n",
    "print(f\"Correlation: {round(correlation[0],2)}\")"
   ]
  },
  {
   "cell_type": "code",
   "execution_count": 34,
   "id": "44f1d1d7",
   "metadata": {},
   "outputs": [
    {
     "name": "stdout",
     "output_type": "stream",
     "text": [
      "Correlation: -0.06\n"
     ]
    }
   ],
   "source": [
    "# Correlation coefficient.\n",
    "correlation = st.pearsonr(df_reviews['review_scores_accuracy'], df_reviews['availability_365'])\n",
    "print(f\"Correlation: {round(correlation[0],2)}\")"
   ]
  },
  {
   "cell_type": "code",
   "execution_count": 35,
   "id": "8dee36e7",
   "metadata": {},
   "outputs": [
    {
     "name": "stdout",
     "output_type": "stream",
     "text": [
      "Correlation: 0.03\n"
     ]
    }
   ],
   "source": [
    "# Correlation coefficient.\n",
    "correlation = st.pearsonr(df_reviews['review_scores_cleanliness'], df_reviews['availability_365'])\n",
    "print(f\"Correlation: {round(correlation[0],2)}\")"
   ]
  },
  {
   "cell_type": "code",
   "execution_count": 36,
   "id": "f7a77019",
   "metadata": {},
   "outputs": [
    {
     "name": "stdout",
     "output_type": "stream",
     "text": [
      "Correlation: -0.05\n"
     ]
    }
   ],
   "source": [
    "# Correlation coefficient.\n",
    "correlation = st.pearsonr(df_reviews['review_scores_checkin'], df_reviews['availability_365'])\n",
    "print(f\"Correlation: {round(correlation[0],2)}\")"
   ]
  },
  {
   "cell_type": "code",
   "execution_count": 37,
   "id": "d7ff29e9",
   "metadata": {},
   "outputs": [
    {
     "name": "stdout",
     "output_type": "stream",
     "text": [
      "Correlation: -0.08\n"
     ]
    }
   ],
   "source": [
    "# Correlation coefficient.\n",
    "correlation = st.pearsonr(df_reviews['review_scores_communication'], df_reviews['availability_365'])\n",
    "print(f\"Correlation: {round(correlation[0],2)}\")"
   ]
  },
  {
   "cell_type": "code",
   "execution_count": 38,
   "id": "3b78e224",
   "metadata": {},
   "outputs": [
    {
     "name": "stdout",
     "output_type": "stream",
     "text": [
      "Correlation: -0.06\n"
     ]
    }
   ],
   "source": [
    "# Correlation coefficient.\n",
    "correlation = st.pearsonr(df_reviews['review_scores_location'], df_reviews['availability_365'])\n",
    "print(f\"Correlation: {round(correlation[0],2)}\")"
   ]
  },
  {
   "cell_type": "code",
   "execution_count": 39,
   "id": "65f2c59a",
   "metadata": {},
   "outputs": [
    {
     "name": "stdout",
     "output_type": "stream",
     "text": [
      "Correlation: -0.09\n"
     ]
    }
   ],
   "source": [
    "# Correlation coefficient.\n",
    "correlation = st.pearsonr(df_reviews['review_scores_value'], df_reviews['availability_365'])\n",
    "print(f\"Correlation: {round(correlation[0],2)}\")"
   ]
  },
  {
   "cell_type": "code",
   "execution_count": 40,
   "id": "8003c3fd",
   "metadata": {},
   "outputs": [
    {
     "name": "stdout",
     "output_type": "stream",
     "text": [
      "Correlation: 0.02\n"
     ]
    }
   ],
   "source": [
    "# Correlation coefficient.\n",
    "correlation = st.pearsonr(df_reviews['number_of_reviews'], df_reviews['availability_365'])\n",
    "print(f\"Correlation: {round(correlation[0],2)}\")"
   ]
  },
  {
   "cell_type": "code",
   "execution_count": null,
   "id": "e8b213ae",
   "metadata": {},
   "outputs": [],
   "source": []
  }
 ],
 "metadata": {
  "kernelspec": {
   "display_name": "Python 3 (ipykernel)",
   "language": "python",
   "name": "python3"
  },
  "language_info": {
   "codemirror_mode": {
    "name": "ipython",
    "version": 3
   },
   "file_extension": ".py",
   "mimetype": "text/x-python",
   "name": "python",
   "nbconvert_exporter": "python",
   "pygments_lexer": "ipython3",
   "version": "3.9.13"
  }
 },
 "nbformat": 4,
 "nbformat_minor": 5
}
