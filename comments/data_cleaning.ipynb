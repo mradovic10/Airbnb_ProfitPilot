{
 "cells": [
  {
   "cell_type": "code",
   "execution_count": 1,
   "id": "0c2117e9",
   "metadata": {},
   "outputs": [],
   "source": [
    "# Import dependencies."
   ]
  },
  {
   "cell_type": "code",
   "execution_count": 2,
   "id": "e3ea7023",
   "metadata": {},
   "outputs": [],
   "source": [
    "# Read in CSV file with the zip codes included."
   ]
  },
  {
   "cell_type": "code",
   "execution_count": 3,
   "id": "e8aed70a",
   "metadata": {},
   "outputs": [],
   "source": [
    "# Preview columns."
   ]
  },
  {
   "cell_type": "code",
   "execution_count": 4,
   "id": "6eea3b42",
   "metadata": {},
   "outputs": [],
   "source": [
    "# Remove unnecessary symbols from the 'amenities' column and split up each amenity for each listing."
   ]
  },
  {
   "cell_type": "code",
   "execution_count": 5,
   "id": "a17622e2",
   "metadata": {},
   "outputs": [],
   "source": [
    "#"
   ]
  },
  {
   "cell_type": "code",
   "execution_count": 6,
   "id": "62e84d41",
   "metadata": {},
   "outputs": [],
   "source": [
    "# Count the number of amenities for each listing and add that number to the 'amenities_count' column."
   ]
  },
  {
   "cell_type": "code",
   "execution_count": 7,
   "id": "1c4d6eb4",
   "metadata": {},
   "outputs": [],
   "source": [
    "#"
   ]
  },
  {
   "cell_type": "code",
   "execution_count": 8,
   "id": "11133f05",
   "metadata": {},
   "outputs": [],
   "source": [
    "#"
   ]
  },
  {
   "cell_type": "code",
   "execution_count": 9,
   "id": "1278ab05",
   "metadata": {},
   "outputs": [],
   "source": [
    "#"
   ]
  },
  {
   "cell_type": "code",
   "execution_count": 10,
   "id": "5f092dfe",
   "metadata": {},
   "outputs": [],
   "source": [
    "#"
   ]
  },
  {
   "cell_type": "code",
   "execution_count": 11,
   "id": "b808103f",
   "metadata": {},
   "outputs": [],
   "source": [
    "#"
   ]
  },
  {
   "cell_type": "code",
   "execution_count": 12,
   "id": "e9afa2f6",
   "metadata": {},
   "outputs": [],
   "source": [
    "#"
   ]
  },
  {
   "cell_type": "code",
   "execution_count": 13,
   "id": "7943182c",
   "metadata": {},
   "outputs": [],
   "source": [
    "#"
   ]
  },
  {
   "cell_type": "code",
   "execution_count": 14,
   "id": "28ee1c75",
   "metadata": {},
   "outputs": [],
   "source": [
    "# Remove all wording from bathroom information. Replace half bathrooms with 0.5.\n",
    "\n",
    "#"
   ]
  },
  {
   "cell_type": "code",
   "execution_count": 15,
   "id": "9773b1e4",
   "metadata": {},
   "outputs": [],
   "source": [
    "#"
   ]
  },
  {
   "cell_type": "code",
   "execution_count": 16,
   "id": "65683a81",
   "metadata": {},
   "outputs": [],
   "source": [
    "# Convert 'zipcode' column to object data type."
   ]
  },
  {
   "cell_type": "code",
   "execution_count": 17,
   "id": "37c72eb4",
   "metadata": {},
   "outputs": [],
   "source": [
    "#"
   ]
  },
  {
   "cell_type": "code",
   "execution_count": 18,
   "id": "34f805f8",
   "metadata": {},
   "outputs": [],
   "source": [
    "#"
   ]
  },
  {
   "cell_type": "code",
   "execution_count": 19,
   "id": "8ad7e1b0",
   "metadata": {},
   "outputs": [],
   "source": [
    "#"
   ]
  },
  {
   "cell_type": "code",
   "execution_count": 20,
   "id": "18ceae93",
   "metadata": {},
   "outputs": [],
   "source": [
    "# Converting the 'host_since' and 'last_scraped' columns' data type from object to date.\n",
    "\n",
    "# Create a 'years_in_business' column using the two columns mentioned above."
   ]
  },
  {
   "cell_type": "code",
   "execution_count": 21,
   "id": "d4aa1e11",
   "metadata": {},
   "outputs": [],
   "source": [
    "# Remove unnecessary symbols from the 'price' column and convert its data type to float."
   ]
  },
  {
   "cell_type": "code",
   "execution_count": 22,
   "id": "87c0046e",
   "metadata": {},
   "outputs": [],
   "source": [
    "# Calculating the revenue and revenue per person for each listing using the yearly availability data."
   ]
  },
  {
   "cell_type": "code",
   "execution_count": 23,
   "id": "18d7c648",
   "metadata": {},
   "outputs": [],
   "source": [
    "#"
   ]
  },
  {
   "cell_type": "code",
   "execution_count": 24,
   "id": "38cb3c20",
   "metadata": {},
   "outputs": [],
   "source": [
    "#"
   ]
  },
  {
   "cell_type": "code",
   "execution_count": 25,
   "id": "7404c5d4",
   "metadata": {},
   "outputs": [],
   "source": [
    "#"
   ]
  },
  {
   "cell_type": "code",
   "execution_count": 26,
   "id": "87c3ae8a",
   "metadata": {},
   "outputs": [],
   "source": [
    "#"
   ]
  },
  {
   "cell_type": "code",
   "execution_count": 27,
   "id": "84d80b30",
   "metadata": {},
   "outputs": [],
   "source": [
    "#"
   ]
  },
  {
   "cell_type": "code",
   "execution_count": 28,
   "id": "70579866",
   "metadata": {},
   "outputs": [],
   "source": [
    "#"
   ]
  },
  {
   "cell_type": "code",
   "execution_count": 29,
   "id": "f49b8bfa",
   "metadata": {},
   "outputs": [],
   "source": [
    "# Draw the boxplot for price vs. bedrooms."
   ]
  },
  {
   "cell_type": "code",
   "execution_count": 30,
   "id": "9508c60b",
   "metadata": {},
   "outputs": [],
   "source": [
    "#"
   ]
  },
  {
   "cell_type": "code",
   "execution_count": 31,
   "id": "ed2f30aa",
   "metadata": {},
   "outputs": [],
   "source": [
    "# Draw the boxplot for bedrooms vs. accommodates."
   ]
  },
  {
   "cell_type": "code",
   "execution_count": 32,
   "id": "7633e108",
   "metadata": {},
   "outputs": [],
   "source": [
    "#"
   ]
  },
  {
   "cell_type": "code",
   "execution_count": 33,
   "id": "7c284f1d",
   "metadata": {},
   "outputs": [],
   "source": [
    "# Draw the boxplot for price vs. bathrooms."
   ]
  },
  {
   "cell_type": "code",
   "execution_count": 34,
   "id": "94b08a88",
   "metadata": {},
   "outputs": [],
   "source": [
    "#"
   ]
  },
  {
   "cell_type": "code",
   "execution_count": 35,
   "id": "d419a929",
   "metadata": {},
   "outputs": [],
   "source": [
    "#"
   ]
  },
  {
   "cell_type": "code",
   "execution_count": 36,
   "id": "de9d322f",
   "metadata": {},
   "outputs": [],
   "source": [
    "# Get the value counts for each number of bedrooms in the dataframe."
   ]
  },
  {
   "cell_type": "code",
   "execution_count": 37,
   "id": "d7af561a",
   "metadata": {},
   "outputs": [],
   "source": [
    "#"
   ]
  },
  {
   "cell_type": "code",
   "execution_count": 38,
   "id": "5ceb5c69",
   "metadata": {},
   "outputs": [],
   "source": [
    "#"
   ]
  },
  {
   "cell_type": "code",
   "execution_count": 39,
   "id": "1a15316e",
   "metadata": {},
   "outputs": [],
   "source": [
    "#"
   ]
  },
  {
   "cell_type": "code",
   "execution_count": 40,
   "id": "73d478ec",
   "metadata": {},
   "outputs": [],
   "source": [
    "# Use the PCA model with `fit_transform` to reduce to three principal components.\n",
    "\n",
    "# Print the explained variance ratio for each principal component."
   ]
  },
  {
   "cell_type": "code",
   "execution_count": 41,
   "id": "de50a59b",
   "metadata": {},
   "outputs": [],
   "source": [
    "#"
   ]
  },
  {
   "cell_type": "code",
   "execution_count": 42,
   "id": "9f345fac",
   "metadata": {},
   "outputs": [],
   "source": [
    "#"
   ]
  },
  {
   "cell_type": "code",
   "execution_count": 43,
   "id": "fe2096b7",
   "metadata": {},
   "outputs": [],
   "source": [
    "# Preview columns of the scaled dataframe with the dummies data."
   ]
  },
  {
   "cell_type": "code",
   "execution_count": 44,
   "id": "b05dc45d",
   "metadata": {},
   "outputs": [],
   "source": [
    "#"
   ]
  },
  {
   "cell_type": "code",
   "execution_count": 45,
   "id": "a145818e",
   "metadata": {},
   "outputs": [],
   "source": [
    "#"
   ]
  },
  {
   "cell_type": "code",
   "execution_count": 46,
   "id": "89a1db9e",
   "metadata": {},
   "outputs": [],
   "source": [
    "#"
   ]
  },
  {
   "cell_type": "code",
   "execution_count": 47,
   "id": "36c7e7b4",
   "metadata": {},
   "outputs": [],
   "source": [
    "#"
   ]
  },
  {
   "cell_type": "code",
   "execution_count": 48,
   "id": "be49cb53",
   "metadata": {},
   "outputs": [],
   "source": [
    "#"
   ]
  },
  {
   "cell_type": "code",
   "execution_count": 49,
   "id": "d7a267b1",
   "metadata": {},
   "outputs": [],
   "source": [
    "# "
   ]
  },
  {
   "cell_type": "code",
   "execution_count": 50,
   "id": "ab7f3f50",
   "metadata": {},
   "outputs": [],
   "source": [
    "# Print a concise summary of the dataframe."
   ]
  },
  {
   "cell_type": "code",
   "execution_count": 51,
   "id": "f09010bf",
   "metadata": {},
   "outputs": [],
   "source": [
    "# Create a min and max price summary dataframe for bedroom categories."
   ]
  },
  {
   "cell_type": "code",
   "execution_count": 52,
   "id": "ba26e211",
   "metadata": {},
   "outputs": [],
   "source": [
    "# "
   ]
  },
  {
   "cell_type": "code",
   "execution_count": 53,
   "id": "5979937d",
   "metadata": {},
   "outputs": [],
   "source": [
    "#"
   ]
  },
  {
   "cell_type": "code",
   "execution_count": 54,
   "id": "12e8f762",
   "metadata": {},
   "outputs": [],
   "source": [
    "#"
   ]
  },
  {
   "cell_type": "code",
   "execution_count": 55,
   "id": "e441ee2c",
   "metadata": {},
   "outputs": [],
   "source": [
    "#"
   ]
  },
  {
   "cell_type": "code",
   "execution_count": 56,
   "id": "3c127623",
   "metadata": {},
   "outputs": [],
   "source": [
    "# Preview dataframe."
   ]
  },
  {
   "cell_type": "code",
   "execution_count": 57,
   "id": "2cec8b92",
   "metadata": {},
   "outputs": [],
   "source": [
    "# Print a concise summary of the dataframe."
   ]
  },
  {
   "cell_type": "code",
   "execution_count": 58,
   "id": "14640489",
   "metadata": {},
   "outputs": [],
   "source": [
    "# Get sorted value counts for the categorized bedrooms."
   ]
  },
  {
   "cell_type": "code",
   "execution_count": 59,
   "id": "ee00dd5e",
   "metadata": {},
   "outputs": [],
   "source": [
    "# Get sorted value counts for the categorized bathrooms."
   ]
  },
  {
   "cell_type": "code",
   "execution_count": 60,
   "id": "d0abfe96",
   "metadata": {},
   "outputs": [],
   "source": [
    "# Get sorted value counts for the categorized years-in-business data."
   ]
  },
  {
   "cell_type": "code",
   "execution_count": 61,
   "id": "70d25a69",
   "metadata": {},
   "outputs": [],
   "source": [
    "# Get sorted value counts for the original years-in-business data."
   ]
  },
  {
   "cell_type": "code",
   "execution_count": null,
   "id": "c04490e1",
   "metadata": {},
   "outputs": [],
   "source": []
  }
 ],
 "metadata": {
  "kernelspec": {
   "display_name": "Python 3 (ipykernel)",
   "language": "python",
   "name": "python3"
  },
  "language_info": {
   "codemirror_mode": {
    "name": "ipython",
    "version": 3
   },
   "file_extension": ".py",
   "mimetype": "text/x-python",
   "name": "python",
   "nbconvert_exporter": "python",
   "pygments_lexer": "ipython3",
   "version": "3.9.13"
  }
 },
 "nbformat": 4,
 "nbformat_minor": 5
}
