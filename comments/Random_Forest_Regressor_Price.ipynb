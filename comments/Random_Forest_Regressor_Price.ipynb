{
 "cells": [
  {
   "cell_type": "code",
   "execution_count": 1,
   "id": "c97625d0",
   "metadata": {},
   "outputs": [],
   "source": [
    "# Import dependencies."
   ]
  },
  {
   "cell_type": "code",
   "execution_count": 2,
   "id": "8aed182f",
   "metadata": {},
   "outputs": [],
   "source": [
    "# Read in cleaned CSV file.\n",
    "\n",
    "# Exclude the first column and preview the dataframe."
   ]
  },
  {
   "cell_type": "code",
   "execution_count": 3,
   "id": "b190bc4e",
   "metadata": {},
   "outputs": [],
   "source": [
    "# Show concise summary of the dataframe."
   ]
  },
  {
   "cell_type": "code",
   "execution_count": 4,
   "id": "4deb8f1f",
   "metadata": {},
   "outputs": [],
   "source": [
    "# Convert 'zipcode' column to object data type."
   ]
  },
  {
   "cell_type": "code",
   "execution_count": 5,
   "id": "153c856b",
   "metadata": {},
   "outputs": [],
   "source": [
    "# Preview all unique bedroom categories in the dataframe."
   ]
  },
  {
   "cell_type": "code",
   "execution_count": 6,
   "id": "73b6c521",
   "metadata": {},
   "outputs": [],
   "source": [
    "# Drop the 'amenities_count' column."
   ]
  },
  {
   "cell_type": "code",
   "execution_count": 7,
   "id": "60822862",
   "metadata": {},
   "outputs": [],
   "source": [
    "# Show concise summary of the dataframe."
   ]
  },
  {
   "cell_type": "code",
   "execution_count": 8,
   "id": "1b0277bb",
   "metadata": {},
   "outputs": [],
   "source": [
    "#"
   ]
  },
  {
   "cell_type": "code",
   "execution_count": 9,
   "id": "90cfd183",
   "metadata": {},
   "outputs": [],
   "source": [
    "#"
   ]
  },
  {
   "cell_type": "code",
   "execution_count": 10,
   "id": "312b08a2",
   "metadata": {},
   "outputs": [],
   "source": [
    "#"
   ]
  },
  {
   "cell_type": "code",
   "execution_count": 11,
   "id": "c7e61b7d",
   "metadata": {},
   "outputs": [],
   "source": [
    "#"
   ]
  },
  {
   "cell_type": "code",
   "execution_count": 12,
   "id": "986a99cb",
   "metadata": {},
   "outputs": [],
   "source": [
    "#"
   ]
  },
  {
   "cell_type": "code",
   "execution_count": 13,
   "id": "06b9741e",
   "metadata": {},
   "outputs": [],
   "source": [
    "# Create the dataframe to be used for ML by adding the 'price' column from df3 and dropping all null values."
   ]
  },
  {
   "cell_type": "code",
   "execution_count": 14,
   "id": "9cd9c791",
   "metadata": {},
   "outputs": [],
   "source": [
    "#"
   ]
  },
  {
   "cell_type": "code",
   "execution_count": 15,
   "id": "1d187fff",
   "metadata": {},
   "outputs": [],
   "source": [
    "#"
   ]
  },
  {
   "cell_type": "code",
   "execution_count": 16,
   "id": "1452352b",
   "metadata": {},
   "outputs": [],
   "source": [
    "#"
   ]
  },
  {
   "cell_type": "code",
   "execution_count": 17,
   "id": "89315c0e",
   "metadata": {},
   "outputs": [],
   "source": [
    "# \"Random Forest doesn't care about regression\" scaling?"
   ]
  },
  {
   "cell_type": "code",
   "execution_count": 18,
   "id": "220127c1",
   "metadata": {},
   "outputs": [],
   "source": [
    "# Get the value counts of our y_test dataset."
   ]
  },
  {
   "cell_type": "code",
   "execution_count": 19,
   "id": "b39e94e1",
   "metadata": {},
   "outputs": [],
   "source": [
    "#"
   ]
  },
  {
   "cell_type": "code",
   "execution_count": 20,
   "id": "26771f77",
   "metadata": {},
   "outputs": [],
   "source": [
    "#"
   ]
  },
  {
   "cell_type": "code",
   "execution_count": null,
   "id": "88a22af9",
   "metadata": {},
   "outputs": [],
   "source": [
    "# Create parameters for the hyperparameter tunning process."
   ]
  },
  {
   "cell_type": "code",
   "execution_count": null,
   "id": "ea4bec99",
   "metadata": {},
   "outputs": [],
   "source": [
    "# Create a random forest regressor."
   ]
  },
  {
   "cell_type": "code",
   "execution_count": null,
   "id": "2c2b230d",
   "metadata": {},
   "outputs": [],
   "source": [
    "# Parameter setting that gave the best results."
   ]
  },
  {
   "cell_type": "code",
   "execution_count": 21,
   "id": "2d371ca1",
   "metadata": {},
   "outputs": [],
   "source": [
    "#"
   ]
  },
  {
   "cell_type": "code",
   "execution_count": 22,
   "id": "db09496a",
   "metadata": {},
   "outputs": [],
   "source": [
    "#"
   ]
  },
  {
   "cell_type": "code",
   "execution_count": 23,
   "id": "609c427f",
   "metadata": {},
   "outputs": [],
   "source": [
    "# Create a dataframe with the actual and predicted prices of the listings."
   ]
  },
  {
   "cell_type": "code",
   "execution_count": 27,
   "id": "5e955e80",
   "metadata": {},
   "outputs": [],
   "source": [
    "# Create a scatter plot depicting the above dataframe."
   ]
  },
  {
   "cell_type": "code",
   "execution_count": 28,
   "id": "311aa9e2",
   "metadata": {},
   "outputs": [],
   "source": [
    "# Save the scatter plot."
   ]
  },
  {
   "cell_type": "code",
   "execution_count": null,
   "id": "e44711d5",
   "metadata": {},
   "outputs": [],
   "source": [
    "#"
   ]
  },
  {
   "cell_type": "code",
   "execution_count": null,
   "id": "41237c66",
   "metadata": {},
   "outputs": [],
   "source": [
    "#"
   ]
  },
  {
   "cell_type": "code",
   "execution_count": null,
   "id": "236e488e",
   "metadata": {},
   "outputs": [],
   "source": [
    "# Preview our testing features dataset."
   ]
  },
  {
   "cell_type": "code",
   "execution_count": null,
   "id": "65c1e542",
   "metadata": {},
   "outputs": [],
   "source": [
    "#"
   ]
  },
  {
   "cell_type": "code",
   "execution_count": null,
   "id": "fc3c25f2",
   "metadata": {},
   "outputs": [],
   "source": [
    "#"
   ]
  },
  {
   "cell_type": "code",
   "execution_count": null,
   "id": "208649a8",
   "metadata": {},
   "outputs": [],
   "source": [
    "#"
   ]
  },
  {
   "cell_type": "code",
   "execution_count": null,
   "id": "75ffbb0d",
   "metadata": {},
   "outputs": [],
   "source": [
    "# Combine the numeric and categorical testing data into one dataframe."
   ]
  },
  {
   "cell_type": "code",
   "execution_count": null,
   "id": "7cd313da",
   "metadata": {},
   "outputs": [],
   "source": [
    "#"
   ]
  },
  {
   "cell_type": "code",
   "execution_count": null,
   "id": "c1564aa5",
   "metadata": {},
   "outputs": [],
   "source": [
    "# (I'm not sure what you are doing here)"
   ]
  },
  {
   "cell_type": "code",
   "execution_count": null,
   "id": "3eb0150e",
   "metadata": {},
   "outputs": [],
   "source": [
    "# Make predictions with the testing data."
   ]
  },
  {
   "cell_type": "code",
   "execution_count": null,
   "id": "cc7066a9",
   "metadata": {},
   "outputs": [],
   "source": [
    "# Create a dataframe of the predicted price data."
   ]
  }
 ],
 "metadata": {
  "kernelspec": {
   "display_name": "Python 3 (ipykernel)",
   "language": "python",
   "name": "python3"
  },
  "language_info": {
   "codemirror_mode": {
    "name": "ipython",
    "version": 3
   },
   "file_extension": ".py",
   "mimetype": "text/x-python",
   "name": "python",
   "nbconvert_exporter": "python",
   "pygments_lexer": "ipython3",
   "version": "3.9.13"
  }
 },
 "nbformat": 4,
 "nbformat_minor": 5
}
