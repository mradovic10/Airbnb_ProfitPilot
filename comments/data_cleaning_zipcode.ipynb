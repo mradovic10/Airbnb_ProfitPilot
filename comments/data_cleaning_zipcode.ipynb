{
 "cells": [
  {
   "cell_type": "code",
   "execution_count": 1,
   "id": "440f7d22",
   "metadata": {},
   "outputs": [],
   "source": [
    "# Import dependencies."
   ]
  },
  {
   "cell_type": "code",
   "execution_count": 2,
   "id": "e9c95d78",
   "metadata": {},
   "outputs": [],
   "source": [
    "# Read in city CSV file from Amazon S3 bucket."
   ]
  },
  {
   "cell_type": "code",
   "execution_count": 3,
   "id": "41e5b755",
   "metadata": {},
   "outputs": [],
   "source": [
    "# Preview columns."
   ]
  },
  {
   "cell_type": "code",
   "execution_count": 5,
   "id": "d5b267f4",
   "metadata": {},
   "outputs": [],
   "source": [
    "# "
   ]
  },
  {
   "cell_type": "code",
   "execution_count": 20,
   "id": "d732e94e",
   "metadata": {},
   "outputs": [],
   "source": [
    "# Create a copy of 'zipcode' dataframe and reset the index."
   ]
  },
  {
   "cell_type": "code",
   "execution_count": 21,
   "id": "1ac5e11d",
   "metadata": {},
   "outputs": [],
   "source": [
    "# Create a copy of the original city dataframe to be used for zip code data purposes."
   ]
  },
  {
   "cell_type": "code",
   "execution_count": 22,
   "id": "414e04a6",
   "metadata": {},
   "outputs": [],
   "source": [
    "# Add the zip code data column to the city dataframe."
   ]
  },
  {
   "cell_type": "code",
   "execution_count": 23,
   "id": "1e236ac0",
   "metadata": {},
   "outputs": [],
   "source": [
    "# Preview dataframe."
   ]
  },
  {
   "cell_type": "code",
   "execution_count": 24,
   "id": "7a4d23a2",
   "metadata": {},
   "outputs": [],
   "source": [
    "# Save dataframe to a CSV file."
   ]
  },
  {
   "cell_type": "code",
   "execution_count": 26,
   "id": "f0fe7a31",
   "metadata": {},
   "outputs": [],
   "source": [
    "# Check the length of unique zip codes in the dataframe."
   ]
  },
  {
   "cell_type": "code",
   "execution_count": 27,
   "id": "e361c13f",
   "metadata": {},
   "outputs": [],
   "source": [
    "# Check the length of unique neghborhoods in the dataframe."
   ]
  },
  {
   "cell_type": "code",
   "execution_count": null,
   "id": "30ce8f5c",
   "metadata": {},
   "outputs": [],
   "source": []
  }
 ],
 "metadata": {
  "kernelspec": {
   "display_name": "Python 3 (ipykernel)",
   "language": "python",
   "name": "python3"
  },
  "language_info": {
   "codemirror_mode": {
    "name": "ipython",
    "version": 3
   },
   "file_extension": ".py",
   "mimetype": "text/x-python",
   "name": "python",
   "nbconvert_exporter": "python",
   "pygments_lexer": "ipython3",
   "version": "3.9.13"
  }
 },
 "nbformat": 4,
 "nbformat_minor": 5
}
