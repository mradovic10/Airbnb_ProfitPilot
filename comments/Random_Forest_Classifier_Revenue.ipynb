{
 "cells": [
  {
   "cell_type": "code",
   "execution_count": 1,
   "id": "230088e9",
   "metadata": {},
   "outputs": [],
   "source": [
    "# Import dependencies."
   ]
  },
  {
   "cell_type": "code",
   "execution_count": 2,
   "id": "2107ac2c",
   "metadata": {},
   "outputs": [],
   "source": [
    "# Read in cleaned CSV file.\n",
    "\n",
    "# Exclude the first column and preview the dataframe."
   ]
  },
  {
   "cell_type": "code",
   "execution_count": 3,
   "id": "aaed36dc",
   "metadata": {},
   "outputs": [],
   "source": [
    "# Print concise summary of the dataframe."
   ]
  },
  {
   "cell_type": "code",
   "execution_count": 4,
   "id": "6ffd381c",
   "metadata": {},
   "outputs": [],
   "source": [
    "# Convert 'zipcode' column to object data type."
   ]
  },
  {
   "cell_type": "code",
   "execution_count": 5,
   "id": "3f92b59d",
   "metadata": {},
   "outputs": [],
   "source": [
    "# Convert 'bathrooms_cat' column to object data type."
   ]
  },
  {
   "cell_type": "code",
   "execution_count": 6,
   "id": "c7c6858b",
   "metadata": {},
   "outputs": [],
   "source": [
    "# Preview all unique bathroom categories."
   ]
  },
  {
   "cell_type": "code",
   "execution_count": 7,
   "id": "c26ccc83",
   "metadata": {},
   "outputs": [],
   "source": [
    "# Preview all unique bedroom categories."
   ]
  },
  {
   "cell_type": "code",
   "execution_count": 8,
   "id": "45a5f7c8",
   "metadata": {},
   "outputs": [],
   "source": [
    "# Drop the 'amenities_count' column from the dataframe."
   ]
  },
  {
   "cell_type": "code",
   "execution_count": 9,
   "id": "173b49b2",
   "metadata": {},
   "outputs": [],
   "source": [
    "# Print a concise summary of the dataframe."
   ]
  },
  {
   "cell_type": "code",
   "execution_count": 10,
   "id": "647f8365",
   "metadata": {},
   "outputs": [],
   "source": [
    "#"
   ]
  },
  {
   "cell_type": "code",
   "execution_count": 11,
   "id": "f0dd2a8a",
   "metadata": {},
   "outputs": [],
   "source": [
    "#"
   ]
  },
  {
   "cell_type": "code",
   "execution_count": 12,
   "id": "1ac43a5c",
   "metadata": {},
   "outputs": [],
   "source": [
    "#"
   ]
  },
  {
   "cell_type": "code",
   "execution_count": 13,
   "id": "2f89e886",
   "metadata": {},
   "outputs": [],
   "source": [
    "#"
   ]
  },
  {
   "cell_type": "code",
   "execution_count": 14,
   "id": "8891d588",
   "metadata": {},
   "outputs": [],
   "source": [
    "#"
   ]
  },
  {
   "cell_type": "code",
   "execution_count": 15,
   "id": "525f0a68",
   "metadata": {},
   "outputs": [],
   "source": [
    "# Create the dataframe to be used for ML by adding the 'revenue_cat' column from df3 and dropping all null values."
   ]
  },
  {
   "cell_type": "code",
   "execution_count": 16,
   "id": "9328d65e",
   "metadata": {},
   "outputs": [],
   "source": [
    "# Define our features dataset."
   ]
  },
  {
   "cell_type": "code",
   "execution_count": 17,
   "id": "2f1f1a6c",
   "metadata": {},
   "outputs": [],
   "source": [
    "# Create a binary revenue category column. For initial input, label each listing as below 50th percentile.\n",
    "\n",
    "# Locate all listings that are above the 50th percentile and label them as such."
   ]
  },
  {
   "cell_type": "code",
   "execution_count": null,
   "id": "26345718",
   "metadata": {},
   "outputs": [],
   "source": []
  },
  {
   "cell_type": "code",
   "execution_count": null,
   "id": "39916816",
   "metadata": {},
   "outputs": [],
   "source": []
  },
  {
   "cell_type": "code",
   "execution_count": null,
   "id": "3464ed30",
   "metadata": {},
   "outputs": [],
   "source": []
  },
  {
   "cell_type": "code",
   "execution_count": null,
   "id": "835fa095",
   "metadata": {},
   "outputs": [],
   "source": [
    "#88\n",
    "# Check value counts of the testing target dataset."
   ]
  },
  {
   "cell_type": "code",
   "execution_count": null,
   "id": "b19c2560",
   "metadata": {},
   "outputs": [],
   "source": []
  },
  {
   "cell_type": "code",
   "execution_count": null,
   "id": "e1a8c0fd",
   "metadata": {},
   "outputs": [],
   "source": []
  },
  {
   "cell_type": "code",
   "execution_count": 25,
   "id": "079f112e",
   "metadata": {},
   "outputs": [],
   "source": [
    "#"
   ]
  },
  {
   "cell_type": "code",
   "execution_count": 26,
   "id": "71eafefc",
   "metadata": {},
   "outputs": [],
   "source": [
    "#"
   ]
  },
  {
   "cell_type": "code",
   "execution_count": null,
   "id": "617cdb03",
   "metadata": {},
   "outputs": [],
   "source": [
    "# Create parameters for the hyperparameter tunning process."
   ]
  },
  {
   "cell_type": "code",
   "execution_count": null,
   "id": "f2ed561b",
   "metadata": {},
   "outputs": [],
   "source": [
    "# Create a random forest regressor."
   ]
  },
  {
   "cell_type": "code",
   "execution_count": null,
   "id": "73bc571a",
   "metadata": {},
   "outputs": [],
   "source": [
    "# Parameter setting that gave the best results."
   ]
  },
  {
   "cell_type": "code",
   "execution_count": 27,
   "id": "ac7886ec",
   "metadata": {},
   "outputs": [],
   "source": [
    "#"
   ]
  },
  {
   "cell_type": "code",
   "execution_count": 28,
   "id": "82935ab6",
   "metadata": {},
   "outputs": [],
   "source": [
    "#"
   ]
  },
  {
   "cell_type": "code",
   "execution_count": 29,
   "id": "89df2df6",
   "metadata": {},
   "outputs": [],
   "source": [
    "#"
   ]
  },
  {
   "cell_type": "code",
   "execution_count": 30,
   "id": "a584c50c",
   "metadata": {},
   "outputs": [],
   "source": [
    "# Create a dataframe with the actual and predicted revenues of the listings."
   ]
  },
  {
   "cell_type": "code",
   "execution_count": null,
   "id": "a2b3c917",
   "metadata": {},
   "outputs": [],
   "source": []
  },
  {
   "cell_type": "code",
   "execution_count": 31,
   "id": "bf6bd123",
   "metadata": {},
   "outputs": [],
   "source": [
    "#"
   ]
  },
  {
   "cell_type": "code",
   "execution_count": 32,
   "id": "05d803c6",
   "metadata": {},
   "outputs": [],
   "source": [
    "#"
   ]
  },
  {
   "cell_type": "code",
   "execution_count": 33,
   "id": "f5961b44",
   "metadata": {},
   "outputs": [],
   "source": [
    "# Preview our testing features dataset."
   ]
  },
  {
   "cell_type": "code",
   "execution_count": null,
   "id": "e1521f1d",
   "metadata": {},
   "outputs": [],
   "source": [
    "#119"
   ]
  },
  {
   "cell_type": "code",
   "execution_count": null,
   "id": "098eb5eb",
   "metadata": {},
   "outputs": [],
   "source": [
    "#120"
   ]
  },
  {
   "cell_type": "code",
   "execution_count": null,
   "id": "d985a014",
   "metadata": {},
   "outputs": [],
   "source": [
    "#121"
   ]
  },
  {
   "cell_type": "code",
   "execution_count": null,
   "id": "d402ecdb",
   "metadata": {},
   "outputs": [],
   "source": [
    "#122\n",
    "# Combine the numeric and categorical testing data into one dataframe."
   ]
  },
  {
   "cell_type": "code",
   "execution_count": null,
   "id": "64e09632",
   "metadata": {},
   "outputs": [],
   "source": [
    "#123"
   ]
  },
  {
   "cell_type": "code",
   "execution_count": null,
   "id": "dc336495",
   "metadata": {},
   "outputs": [],
   "source": [
    "#124\n",
    "# Preview data types."
   ]
  },
  {
   "cell_type": "code",
   "execution_count": null,
   "id": "507089e4",
   "metadata": {},
   "outputs": [],
   "source": [
    "#125\n",
    "# (I'm not sure what you are doing here)"
   ]
  },
  {
   "cell_type": "code",
   "execution_count": null,
   "id": "129528ba",
   "metadata": {},
   "outputs": [],
   "source": [
    "#126\n",
    "# Make predictions with the testing data."
   ]
  },
  {
   "cell_type": "code",
   "execution_count": null,
   "id": "5652abdc",
   "metadata": {},
   "outputs": [],
   "source": [
    "#127\n",
    "# Create a dataframe of the predicted revenue data."
   ]
  }
 ],
 "metadata": {
  "kernelspec": {
   "display_name": "Python 3 (ipykernel)",
   "language": "python",
   "name": "python3"
  },
  "language_info": {
   "codemirror_mode": {
    "name": "ipython",
    "version": 3
   },
   "file_extension": ".py",
   "mimetype": "text/x-python",
   "name": "python",
   "nbconvert_exporter": "python",
   "pygments_lexer": "ipython3",
   "version": "3.9.13"
  }
 },
 "nbformat": 4,
 "nbformat_minor": 5
}
