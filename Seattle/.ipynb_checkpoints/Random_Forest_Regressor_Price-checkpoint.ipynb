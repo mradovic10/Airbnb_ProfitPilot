{
 "cells": [
  {
   "cell_type": "code",
   "execution_count": null,
   "id": "456cd32b",
   "metadata": {},
   "outputs": [],
   "source": [
    "# Import dependencies.\n",
    "import pandas as pd\n",
    "import hvplot.pandas\n",
    "import numpy as np\n",
    "from sklearn.ensemble import RandomForestRegressor\n",
    "from sklearn.model_selection import RandomizedSearchCV\n",
    "from sklearn.model_selection import train_test_split\n",
    "from sklearn.metrics import confusion_matrix, accuracy_score, classification_report, mean_squared_error, r2_score\n",
    "import joblib\n"
   ]
  },
  {
   "cell_type": "code",
   "execution_count": null,
   "id": "08473682",
   "metadata": {},
   "outputs": [],
   "source": [
    "# Read in cleaned CSV file.\n",
    "df3=pd.read_csv(\"../Resources/cleaned_data_sea_final.csv\", dtype={\"bathrooms_cat\": np.object,\n",
    "                                                                \"bedrooms_cat\": np.object,\n",
    "                                                                \"zipcode\": np.object,\n",
    "# Exclude the first column and preview the dataframe.                                                                \"years_in_business_cat\": np.object})\n",
    "df3=df3.iloc[: , 1:]\n",
    "df3.head()"
   ]
  },
  {
   "cell_type": "code",
   "execution_count": null,
   "id": "a581330c",
   "metadata": {},
   "outputs": [],
   "source": [
    "# Show concise summary of the dataframe.\n",
    "df3.info()"
   ]
  },
  {
   "cell_type": "code",
   "execution_count": null,
   "id": "3443cb11",
   "metadata": {},
   "outputs": [],
   "source": [
    "# Convert 'zipcode' column to object data type.\n",
    "df3[\"zipcode\"]=df3[\"zipcode\"].astype(object)"
   ]
  },
  {
   "cell_type": "code",
   "execution_count": null,
   "id": "e8c04ad1",
   "metadata": {},
   "outputs": [],
   "source": [
    "# Preview all unique bedroom categories in the dataframe.\n",
    "df3[\"bedrooms_cat\"].unique()"
   ]
  },
  {
   "cell_type": "code",
   "execution_count": null,
   "id": "872502f7",
   "metadata": {},
   "outputs": [],
   "source": [
    "df3[\"bathrooms_cat\"].unique()"
   ]
  },
  {
   "cell_type": "code",
   "execution_count": null,
   "id": "91eaa8fb",
   "metadata": {},
   "outputs": [],
   "source": [
    "# Drop the 'amenities_count' column.\n",
    "df3=df3.drop(columns=\"amenities_count\")\n",
    "df3"
   ]
  },
  {
   "cell_type": "code",
   "execution_count": null,
   "id": "5d63df45",
   "metadata": {},
   "outputs": [],
   "source": [
    "df3.info()"
   ]
  },
  {
   "cell_type": "code",
   "execution_count": null,
   "id": "3b244882",
   "metadata": {},
   "outputs": [],
   "source": [
    "# Transform the categorical columns using get_dummies\n",
    "categorical_columns_2=df3.dtypes[df3.dtypes==\"object\"].index.tolist()\n",
    "categorical_columns_2.remove(\"listing_url\")\n",
    "categorical_columns_2.remove(\"last_scraped\")\n",
    "categorical_columns_2.remove(\"host_since\")\n",
    "categorical_columns_2.remove(\"expected_annual_occupency\")\n",
    "\n",
    "\n",
    "\n",
    "\n",
    "categorical_dummies_2 = pd.get_dummies(df3[categorical_columns_2])\n",
    "\n",
    "# Display the transformed data\n",
    "categorical_dummies_2"
   ]
  },
  {
   "cell_type": "code",
   "execution_count": null,
   "id": "07901037",
   "metadata": {},
   "outputs": [],
   "source": [
    "# the numeric columns\n",
    "numeric_columns_2=df3.dtypes[df3.dtypes!=\"object\"].index.tolist()\n",
    "# have to remove the id, lat and long, etc. columns out\n",
    "data_2=df3[numeric_columns_2].loc[:,~df3[numeric_columns_2].columns.isin([\"listing_url\",\"host_since\",\"last_scraped\",\"latitude\",\"longitude\",\n",
    "                                                                    \"0.25_price\",\"0.5_price\",\"0.75_price\",\n",
    "                                                                    \"0.25_price_bedcat\",\"0.5_price_bedcat\",\"0.75_price_bedcat\",\n",
    "                                                                    \"0.25_acc\",\"0.5_acc\",\"0.75_acc\",\n",
    "                                                                    \"0.25_bathroom\",\"0.5_bathroom\",\"0.75_bathroom\",\n",
    "                                                                    \"0.25_revenue\",\"0.5_revenue\",\"0.75_revenue\",\n",
    "                                                                    \"0.25_revenue_acc\",\"0.5_revenue_acc\",\"0.75_revenue_acc\",\n",
    "                                                                    \"outlier\", \"outlier_2\",\"outlier_3\",# outliers\n",
    "                                                                    \"bedrooms\", \"bathrooms_text\", \"years_in_business\" ## these are inthe categorical columns\n",
    "                                                                    ])]\n",
    "data_2"
   ]
  },
  {
   "cell_type": "code",
   "execution_count": null,
   "id": "53a26a9a",
   "metadata": {},
   "outputs": [],
   "source": [
    "# Create the dataframe to be used for ML by adding the 'price' column from df3 and dropping all null values.\n",
    "df_dummies_2=pd.concat([data_2.reset_index(drop=True),categorical_dummies_2.reset_index(drop=True)], axis=1)\n",
    "df_dummies_2"
   ]
  },
  {
   "cell_type": "markdown",
   "id": "7c56fc5e",
   "metadata": {},
   "source": [
    "# Random Forest\n",
    "Target: price"
   ]
  },
  {
   "cell_type": "code",
   "execution_count": null,
   "id": "c9407087",
   "metadata": {},
   "outputs": [],
   "source": [
    "# check the columns\n",
    "for i in df_dummies_2.columns:\n",
    "    print(i)"
   ]
  },
  {
   "cell_type": "code",
   "execution_count": null,
   "id": "019929e6",
   "metadata": {},
   "outputs": [],
   "source": [
    "#defining features, some rows have to be removed due to nans. This steps will be taken in the next cells\n",
    "X1=df_dummies_2.drop(columns=[\"revenue\",\"revenue_per_accommodates\",\"availability_365\",\"price\",\n",
    "                              \"price_cat_<25th\",\"price_cat_25th-50th\",\"price_cat_50th-75th\",\"price_cat_>75th\",\n",
    "                              \"revenue_cat_<25th\",\"revenue_cat_25th-50th\",\"revenue_cat_50th-75th\",\"revenue_cat_>75th\",\n",
    "                              \"revenue_cat_acc_<25th\",\"revenue_cat_acc_25th-50th\",\"revenue_cat_acc_50th-75th\",\"revenue_cat_acc_>75th\"\n",
    "                                     ])\n",
    "\n",
    "# check the features columns\n",
    "for i in X1.columns:\n",
    "    print(i)\n"
   ]
  },
  {
   "cell_type": "code",
   "execution_count": null,
   "id": "badc60d2",
   "metadata": {},
   "outputs": [],
   "source": [
    "#dataframe for ML\n",
    "rf_data=pd.concat([X1.reset_index(drop=True),pd.DataFrame(df3[\"price\"]).reset_index(drop=True)], axis=1).dropna()\n",
    "rf_data"
   ]
  },
  {
   "cell_type": "code",
   "execution_count": null,
   "id": "b175e2e7",
   "metadata": {},
   "outputs": [],
   "source": [
    "#defining features\n",
    "X=rf_data.drop(\"price\", axis=1)\n",
    "X"
   ]
  },
  {
   "cell_type": "code",
   "execution_count": null,
   "id": "2b0502ab",
   "metadata": {},
   "outputs": [],
   "source": [
    "#defining target\n",
    "\n",
    "y=rf_data[\"price\"].ravel()\n",
    "y"
   ]
  },
  {
   "cell_type": "code",
   "execution_count": null,
   "id": "5d007ba3",
   "metadata": {},
   "outputs": [],
   "source": [
    "# Splitting into Train and Test sets\n",
    "X_train, X_test, y_train, y_test = train_test_split(X, y, random_state=78)"
   ]
  },
  {
   "cell_type": "markdown",
   "id": "539266d9",
   "metadata": {},
   "source": [
    "# Random Forest doesn't care about scaling"
   ]
  },
  {
   "cell_type": "code",
   "execution_count": null,
   "id": "b8db160a",
   "metadata": {},
   "outputs": [],
   "source": [
    "# #Scaling the data\n",
    "# X_train_scale=StandardScaler().fit_transform(X_train)\n",
    "# X_test_scale=StandardScaler().fit_transform(X_test)"
   ]
  },
  {
   "cell_type": "code",
   "execution_count": null,
   "id": "fbf5e82e",
   "metadata": {},
   "outputs": [],
   "source": [
    "# Get the value counts of our y_test dataset.\n",
    "pd.DataFrame(y_test).value_counts()"
   ]
  },
  {
   "cell_type": "code",
   "execution_count": null,
   "id": "58007985",
   "metadata": {},
   "outputs": [],
   "source": [
    "# Fitting the random forest model\n",
    "regressor = RandomForestRegressor(n_estimators = 500, random_state = 0)\n",
    "regressor.fit(X_train, y_train)\n",
    "#predict the model\n",
    "prediction = regressor.predict(X_test)"
   ]
  },
  {
   "cell_type": "code",
   "execution_count": null,
   "id": "c6a64e7d",
   "metadata": {},
   "outputs": [],
   "source": [
    "# print the metrics\n",
    "print(\"MSE:\",mean_squared_error(y_test, prediction))\n",
    "\n",
    "print(\"R2:\", r2_score(y_test, prediction))"
   ]
  },
  {
   "cell_type": "markdown",
   "id": "459c7b02",
   "metadata": {},
   "source": [
    "# Hyperparameter tunning"
   ]
  },
  {
   "cell_type": "code",
   "execution_count": null,
   "id": "ed905439",
   "metadata": {},
   "outputs": [],
   "source": [
    "# Create parameters for the hyperparameter tunning process.\n",
    "param_grid={'bootstrap': [True, False],\n",
    " 'max_depth': [10, 20, 30, 40, 50, 60, 70, 80, 90, 100, None],\n",
    " 'max_features': ['auto', 'sqrt'],\n",
    " 'min_samples_leaf': [1, 2, 4],\n",
    " 'min_samples_split': [2, 5, 10],\n",
    " 'n_estimators': [200, 400, 600, 800, 1000, 1200, 1400, 1600, 1800, 2000]}"
   ]
  },
  {
   "cell_type": "code",
   "execution_count": null,
   "id": "33a21a73",
   "metadata": {},
   "outputs": [],
   "source": [
    "rf = RandomForestRegressor()\n",
    "# Random search of parameters, using 3 fold cross validation, \n",
    "# search across 100 different combinations, and use all available cores\n",
    "rf_random = RandomizedSearchCV(estimator = rf, param_distributions = param_grid, n_iter = 40, cv = 3, verbose=2, random_state=42, n_jobs = -1)\n",
    "# Fit the random search model\n",
    "rf_random.fit(X_train, y_train)"
   ]
  },
  {
   "cell_type": "code",
   "execution_count": null,
   "id": "37878e4f",
   "metadata": {},
   "outputs": [],
   "source": [
    "rf_random.best_params_"
   ]
  },
  {
   "cell_type": "code",
   "execution_count": null,
   "id": "56b26804",
   "metadata": {},
   "outputs": [],
   "source": [
    "# Fitting the random forest model with best parameters\n",
    "regressor = RandomForestRegressor(n_estimators = 1600, random_state = 0,min_samples_split=5, min_samples_leaf=2,\n",
    "                                  max_features='sqrt', max_depth=80, bootstrap=False)\n",
    "regressor.fit(X_train, y_train)\n",
    "#predict the model\n",
    "prediction = regressor.predict(X_test)"
   ]
  },
  {
   "cell_type": "code",
   "execution_count": null,
   "id": "f15be992",
   "metadata": {},
   "outputs": [],
   "source": [
    "# print the metrics\n",
    "print(\"rMSE:\",mean_squared_error(y_test, prediction, squared=False))\n",
    "\n",
    "print(\"R2:\", r2_score(y_test, prediction))"
   ]
  },
  {
   "cell_type": "code",
   "execution_count": null,
   "id": "09f20fbc",
   "metadata": {},
   "outputs": [],
   "source": [
    "# Create a dataframe with the actual and predicted prices of the listings.\n",
    "actual=pd.DataFrame(y_test).rename({0:\"Actual: price\"}, axis=1)\n",
    "predicted=pd.DataFrame(prediction).rename({0:\"Predicted: price\"}, axis=1)\n",
    "fit_df_price=pd.concat([actual,predicted], axis=1)\n",
    "fit_df_price"
   ]
  },
  {
   "cell_type": "code",
   "execution_count": null,
   "id": "bfd1db4f",
   "metadata": {},
   "outputs": [],
   "source": [
    "# Create a scatter plot depicting the above dataframe.\n",
    "fig1=fit_df_price.hvplot.scatter(x=\"Actual: price\", y=\"Predicted: price\", width=800, height=400)\n",
    "fig2=pd.DataFrame(range(0,900)).hvplot.line(x=0, y=0, c=\"red\")\n",
    "fig3=fig1 * fig2\n",
    "\n",
    "fig3=fig3.options(xlabel='Actual: price',\n",
    "                  ylabel='Predicted: price',\n",
    "                  fontsize={'title': 14,'labels': 14,'xticks': 12,'yticks': 12},\n",
    "                  title='')\n",
    "fig3"
   ]
  },
  {
   "cell_type": "code",
   "execution_count": null,
   "id": "a790c8c6",
   "metadata": {},
   "outputs": [],
   "source": [
    "hvplot.save(fig3, 'price_prediction.png', fmt='png')"
   ]
  },
  {
   "cell_type": "markdown",
   "id": "6b655532",
   "metadata": {},
   "source": [
    "# Save and load the model to test with the test data\n",
    "\n",
    "Please note that the model was large to be pushed to Github. Please run the save model cell below and load the model after that to test the model"
   ]
  },
  {
   "cell_type": "code",
   "execution_count": null,
   "id": "519cf525",
   "metadata": {},
   "outputs": [],
   "source": [
    "# save the model\n",
    "joblib.dump(regressor, \"./random_forest.joblib\")"
   ]
  },
  {
   "cell_type": "code",
   "execution_count": null,
   "id": "fdc510d8",
   "metadata": {},
   "outputs": [],
   "source": [
    "# load the model\n",
    "model = joblib.load(\"./random_forest.joblib\")"
   ]
  },
  {
   "cell_type": "markdown",
   "id": "865b9615",
   "metadata": {},
   "source": [
    "# \n",
    "Input the test data"
   ]
  },
  {
   "cell_type": "code",
   "execution_count": null,
   "id": "b4028e7b",
   "metadata": {},
   "outputs": [],
   "source": [
    "# the test data\n",
    "df_test=pd.DataFrame([{'accommodates': 6,\n",
    "'beds':2,\n",
    "'minimum_nights':2,\n",
    "'maximum_nights':30,\n",
    "'zipcode':'98178.0',\n",
    "'room_type':'Entire home/apt',\n",
    "'amenities_cat':'moderate',\n",
    "'instant_bookable':'t',\n",
    "'bedrooms_cat':'2.0',\n",
    "'bathrooms_cat':'2',\n",
    "'years_in_business_cat':' 1-5'}])\n",
    "df_test"
   ]
  },
  {
   "cell_type": "code",
   "execution_count": null,
   "id": "1499b71e",
   "metadata": {},
   "outputs": [],
   "source": [
    "# Transform the categorical columns using get_dummies\n",
    "categorical_columns_test=df_test.dtypes[df_test.dtypes==\"object\"].index.tolist()\n",
    "\n",
    "\n",
    "categorical_columns_test = pd.get_dummies(df_test[categorical_columns_test])\n",
    "\n",
    "# Display the transformed data\n",
    "categorical_columns_test"
   ]
  },
  {
   "cell_type": "code",
   "execution_count": null,
   "id": "ced5947b",
   "metadata": {},
   "outputs": [],
   "source": [
    "# the numeric columns\n",
    "numeric_columns_test=df_test.dtypes[df_test.dtypes!=\"object\"].index.tolist()\n",
    "# have to remove the id, lat and long, etc. columns out\n",
    "data_test=df_test[numeric_columns_test]\n",
    "data_test\n"
   ]
  },
  {
   "cell_type": "code",
   "execution_count": null,
   "id": "41f1a4fb",
   "metadata": {},
   "outputs": [],
   "source": [
    "test_data=pd.concat([data_test,categorical_columns_test], axis=1)\n",
    "test_data"
   ]
  },
  {
   "cell_type": "code",
   "execution_count": null,
   "id": "60dce33a",
   "metadata": {},
   "outputs": [],
   "source": [
    "#making dummy table with all 0s to fill the test dataset\n",
    "X10=X1.iloc[:1]*0\n",
    "X10"
   ]
  },
  {
   "cell_type": "code",
   "execution_count": null,
   "id": "f0ed0f34",
   "metadata": {},
   "outputs": [],
   "source": [
    "temp = pd.concat([X10, test_data]).fillna(0)\n",
    "X_Test=temp.iloc[:1]+temp.iloc[1:2]\n",
    "X_Test"
   ]
  },
  {
   "cell_type": "code",
   "execution_count": null,
   "id": "1a585bda",
   "metadata": {},
   "outputs": [],
   "source": [
    "# Make predictions with the testing data.\n",
    "predictions=model.predict(X_Test)"
   ]
  },
  {
   "cell_type": "code",
   "execution_count": null,
   "id": "008b675e",
   "metadata": {},
   "outputs": [],
   "source": [
    "predicted_test=pd.DataFrame(predictions).rename({0:\"Predicted: price\"}, axis=1)\n",
    "\n",
    "predicted_test"
   ]
  },
  {
   "cell_type": "code",
   "execution_count": null,
   "id": "b388ed39",
   "metadata": {},
   "outputs": [],
   "source": []
  }
 ],
 "metadata": {
  "kernelspec": {
   "display_name": "Python 3 (ipykernel)",
   "language": "python",
   "name": "python3"
  },
  "language_info": {
   "codemirror_mode": {
    "name": "ipython",
    "version": 3
   },
   "file_extension": ".py",
   "mimetype": "text/x-python",
   "name": "python",
   "nbconvert_exporter": "python",
   "pygments_lexer": "ipython3",
   "version": "3.9.13"
  }
 },
 "nbformat": 4,
 "nbformat_minor": 5
}
