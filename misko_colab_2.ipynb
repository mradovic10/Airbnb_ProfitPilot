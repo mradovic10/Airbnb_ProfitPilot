{
 "cells": [
  {
   "cell_type": "code",
   "execution_count": 1,
   "metadata": {
    "id": "sTgAu6Wi0kSn"
   },
   "outputs": [],
   "source": [
    "# Import dependencies.\n",
    "import pandas as pd\n",
    "import numpy as np"
   ]
  },
  {
   "cell_type": "code",
   "execution_count": 2,
   "metadata": {
    "id": "GB1QKgWo1XJj"
   },
   "outputs": [],
   "source": [
    "# Urls for each city's data from S3 bucket.\n",
    "url_nash = \"https://project4gtbootcamp.s3.amazonaws.com/nashville.csv.gz\"\n",
    "url_nyc = \"https://project4gtbootcamp.s3.amazonaws.com/nyc.csv.gz\"\n",
    "url_sd = \"https://project4gtbootcamp.s3.amazonaws.com/sandiego.csv.gz\"\n",
    "url_sea = \"https://project4gtbootcamp.s3.amazonaws.com/seattle.csv.gz\""
   ]
  },
  {
   "cell_type": "code",
   "execution_count": 3,
   "metadata": {
    "colab": {
     "base_uri": "https://localhost:8080/"
    },
    "id": "Of_msoBD1XW5",
    "outputId": "48fc613d-1e06-4c6c-cef1-387d42d98654"
   },
   "outputs": [
    {
     "name": "stderr",
     "output_type": "stream",
     "text": [
      "C:\\Users\\radov\\AppData\\Local\\Temp\\ipykernel_19840\\1333899189.py:4: DtypeWarning: Columns (68) have mixed types. Specify dtype option on import or set low_memory=False.\n",
      "  df_nyc = pd.read_csv(url_nyc, compression='gzip')\n"
     ]
    }
   ],
   "source": [
    "# Nashville df\n",
    "df_nash = pd.read_csv(url_nash, compression='gzip')\n",
    "# NYC df\n",
    "df_nyc = pd.read_csv(url_nyc, compression='gzip')\n",
    "# San Diego df\n",
    "df_sd = pd.read_csv(url_sd, compression='gzip')\n",
    "# Seattle df\n",
    "df_sea = pd.read_csv(url_sea, compression='gzip')"
   ]
  },
  {
   "cell_type": "code",
   "execution_count": 4,
   "metadata": {
    "colab": {
     "base_uri": "https://localhost:8080/"
    },
    "id": "kvQAM7ed1XjS",
    "outputId": "f5342286-6231-4e37-f529-e4180861761b"
   },
   "outputs": [
    {
     "data": {
      "text/plain": [
       "Index(['id', 'listing_url', 'scrape_id', 'last_scraped', 'source', 'name',\n",
       "       'description', 'neighborhood_overview', 'picture_url', 'host_id',\n",
       "       'host_url', 'host_name', 'host_since', 'host_location', 'host_about',\n",
       "       'host_response_time', 'host_response_rate', 'host_acceptance_rate',\n",
       "       'host_is_superhost', 'host_thumbnail_url', 'host_picture_url',\n",
       "       'host_neighbourhood', 'host_listings_count',\n",
       "       'host_total_listings_count', 'host_verifications',\n",
       "       'host_has_profile_pic', 'host_identity_verified', 'neighbourhood',\n",
       "       'neighbourhood_cleansed', 'neighbourhood_group_cleansed', 'latitude',\n",
       "       'longitude', 'property_type', 'room_type', 'accommodates', 'bathrooms',\n",
       "       'bathrooms_text', 'bedrooms', 'beds', 'amenities', 'price',\n",
       "       'minimum_nights', 'maximum_nights', 'minimum_minimum_nights',\n",
       "       'maximum_minimum_nights', 'minimum_maximum_nights',\n",
       "       'maximum_maximum_nights', 'minimum_nights_avg_ntm',\n",
       "       'maximum_nights_avg_ntm', 'calendar_updated', 'has_availability',\n",
       "       'availability_30', 'availability_60', 'availability_90',\n",
       "       'availability_365', 'calendar_last_scraped', 'number_of_reviews',\n",
       "       'number_of_reviews_ltm', 'number_of_reviews_l30d', 'first_review',\n",
       "       'last_review', 'review_scores_rating', 'review_scores_accuracy',\n",
       "       'review_scores_cleanliness', 'review_scores_checkin',\n",
       "       'review_scores_communication', 'review_scores_location',\n",
       "       'review_scores_value', 'license', 'instant_bookable',\n",
       "       'calculated_host_listings_count',\n",
       "       'calculated_host_listings_count_entire_homes',\n",
       "       'calculated_host_listings_count_private_rooms',\n",
       "       'calculated_host_listings_count_shared_rooms', 'reviews_per_month'],\n",
       "      dtype='object')"
      ]
     },
     "execution_count": 4,
     "metadata": {},
     "output_type": "execute_result"
    }
   ],
   "source": [
    "df_sd.columns"
   ]
  },
  {
   "cell_type": "code",
   "execution_count": 5,
   "metadata": {
    "id": "d9gOXlUeFcJB"
   },
   "outputs": [],
   "source": [
    "# Drop columns unnecessary for analysis or machine learning.\n",
    "df_sd = df_sd.drop(columns=['listing_url', 'scrape_id', 'last_scraped', 'source', 'name', 'neighborhood_overview', 'picture_url', 'host_url', 'host_name', \n",
    "                    'host_since', 'host_location', 'host_about', 'host_response_time', 'host_thumbnail_url', 'host_picture_url', 'host_neighbourhood', \n",
    "                    'host_listings_count', 'host_verifications', 'host_has_profile_pic', 'neighbourhood', 'neighbourhood_group_cleansed', 'property_type', \n",
    "                    'bathrooms', 'minimum_minimum_nights', 'maximum_minimum_nights', 'minimum_maximum_nights', 'maximum_maximum_nights', \n",
    "                    'minimum_nights_avg_ntm', 'maximum_nights_avg_ntm', 'calendar_updated', 'has_availability', 'calendar_last_scraped', \n",
    "                    'number_of_reviews_ltm', 'number_of_reviews_l30d', 'first_review', 'last_review', 'calculated_host_listings_count', \n",
    "                    'calculated_host_listings_count_entire_homes', 'calculated_host_listings_count_private_rooms', 'calculated_host_listings_count_shared_rooms', \n",
    "                    'reviews_per_month'])"
   ]
  },
  {
   "cell_type": "code",
   "execution_count": 6,
   "metadata": {
    "colab": {
     "base_uri": "https://localhost:8080/"
    },
    "id": "jcfMdYmOU2-M",
    "outputId": "0d300a69-8190-4de8-8777-11fc95c374b2"
   },
   "outputs": [
    {
     "data": {
      "text/plain": [
       "Index(['id', 'description', 'host_id', 'host_response_rate',\n",
       "       'host_acceptance_rate', 'host_is_superhost',\n",
       "       'host_total_listings_count', 'host_identity_verified',\n",
       "       'neighbourhood_cleansed', 'latitude', 'longitude', 'room_type',\n",
       "       'accommodates', 'bathrooms_text', 'bedrooms', 'beds', 'amenities',\n",
       "       'price', 'minimum_nights', 'maximum_nights', 'availability_30',\n",
       "       'availability_60', 'availability_90', 'availability_365',\n",
       "       'number_of_reviews', 'review_scores_rating', 'review_scores_accuracy',\n",
       "       'review_scores_cleanliness', 'review_scores_checkin',\n",
       "       'review_scores_communication', 'review_scores_location',\n",
       "       'review_scores_value', 'license', 'instant_bookable'],\n",
       "      dtype='object')"
      ]
     },
     "execution_count": 6,
     "metadata": {},
     "output_type": "execute_result"
    }
   ],
   "source": [
    "df_sd.columns"
   ]
  },
  {
   "cell_type": "markdown",
   "metadata": {
    "id": "kCe2HgfMXr3X"
   },
   "source": [
    "# Amenities"
   ]
  },
  {
   "cell_type": "code",
   "execution_count": 7,
   "metadata": {
    "id": "fDnS06az1XxI"
   },
   "outputs": [],
   "source": [
    "# Delete unnecessary symbols in the 'amenities' column.\n",
    "df_sd['amenities'] = df_sd['amenities'].str.replace('\"', '')\n",
    "df_sd['amenities'] = df_sd['amenities'].str.replace('[', '', regex=False)\n",
    "df_sd['amenities'] = df_sd['amenities'].str.replace(']', '', regex=False)"
   ]
  },
  {
   "cell_type": "code",
   "execution_count": 8,
   "metadata": {
    "id": "4RZECovD1X92"
   },
   "outputs": [],
   "source": [
    "# Split each row's amenities by ', ' and compile them into a list.\n",
    "split_amenities = df_sd['amenities'].str.split(', ').to_list()"
   ]
  },
  {
   "cell_type": "code",
   "execution_count": 9,
   "metadata": {
    "id": "8LZuBpp_1YI4"
   },
   "outputs": [],
   "source": [
    "# Drop the old 'amenities' column.\n",
    "df_sd = df_sd.drop(columns=['amenities'])"
   ]
  },
  {
   "cell_type": "code",
   "execution_count": 10,
   "metadata": {
    "colab": {
     "base_uri": "https://localhost:8080/",
     "height": 243
    },
    "id": "O8VjJCR31YTa",
    "outputId": "c2bcba24-5355-4a53-fbca-5b2f314d4c16"
   },
   "outputs": [
    {
     "data": {
      "text/html": [
       "<div>\n",
       "<style scoped>\n",
       "    .dataframe tbody tr th:only-of-type {\n",
       "        vertical-align: middle;\n",
       "    }\n",
       "\n",
       "    .dataframe tbody tr th {\n",
       "        vertical-align: top;\n",
       "    }\n",
       "\n",
       "    .dataframe thead th {\n",
       "        text-align: right;\n",
       "    }\n",
       "</style>\n",
       "<table border=\"1\" class=\"dataframe\">\n",
       "  <thead>\n",
       "    <tr style=\"text-align: right;\">\n",
       "      <th></th>\n",
       "      <th>id</th>\n",
       "      <th>description</th>\n",
       "      <th>host_id</th>\n",
       "      <th>host_response_rate</th>\n",
       "      <th>host_acceptance_rate</th>\n",
       "      <th>host_is_superhost</th>\n",
       "      <th>host_total_listings_count</th>\n",
       "      <th>host_identity_verified</th>\n",
       "      <th>neighbourhood_cleansed</th>\n",
       "      <th>latitude</th>\n",
       "      <th>...</th>\n",
       "      <th>review_scores_rating</th>\n",
       "      <th>review_scores_accuracy</th>\n",
       "      <th>review_scores_cleanliness</th>\n",
       "      <th>review_scores_checkin</th>\n",
       "      <th>review_scores_communication</th>\n",
       "      <th>review_scores_location</th>\n",
       "      <th>review_scores_value</th>\n",
       "      <th>license</th>\n",
       "      <th>instant_bookable</th>\n",
       "      <th>amenities</th>\n",
       "    </tr>\n",
       "  </thead>\n",
       "  <tbody>\n",
       "    <tr>\n",
       "      <th>0</th>\n",
       "      <td>610920</td>\n",
       "      <td>Perfect for family vacations or a romantic get...</td>\n",
       "      <td>3028993</td>\n",
       "      <td>100%</td>\n",
       "      <td>98%</td>\n",
       "      <td>t</td>\n",
       "      <td>2.0</td>\n",
       "      <td>f</td>\n",
       "      <td>La Jolla</td>\n",
       "      <td>32.81244</td>\n",
       "      <td>...</td>\n",
       "      <td>4.93</td>\n",
       "      <td>4.93</td>\n",
       "      <td>4.64</td>\n",
       "      <td>4.79</td>\n",
       "      <td>5.0</td>\n",
       "      <td>5.0</td>\n",
       "      <td>4.71</td>\n",
       "      <td>NaN</td>\n",
       "      <td>f</td>\n",
       "      <td>[Refrigerator, Iron, Security cameras on prope...</td>\n",
       "    </tr>\n",
       "  </tbody>\n",
       "</table>\n",
       "<p>1 rows × 34 columns</p>\n",
       "</div>"
      ],
      "text/plain": [
       "       id                                        description  host_id  \\\n",
       "0  610920  Perfect for family vacations or a romantic get...  3028993   \n",
       "\n",
       "  host_response_rate host_acceptance_rate host_is_superhost  \\\n",
       "0               100%                  98%                 t   \n",
       "\n",
       "   host_total_listings_count host_identity_verified neighbourhood_cleansed  \\\n",
       "0                        2.0                      f               La Jolla   \n",
       "\n",
       "   latitude  ...  review_scores_rating review_scores_accuracy  \\\n",
       "0  32.81244  ...                  4.93                   4.93   \n",
       "\n",
       "   review_scores_cleanliness review_scores_checkin  \\\n",
       "0                       4.64                  4.79   \n",
       "\n",
       "   review_scores_communication  review_scores_location review_scores_value  \\\n",
       "0                          5.0                     5.0                4.71   \n",
       "\n",
       "   license  instant_bookable  \\\n",
       "0      NaN                 f   \n",
       "\n",
       "                                           amenities  \n",
       "0  [Refrigerator, Iron, Security cameras on prope...  \n",
       "\n",
       "[1 rows x 34 columns]"
      ]
     },
     "execution_count": 10,
     "metadata": {},
     "output_type": "execute_result"
    }
   ],
   "source": [
    "# Add the new 'amenities' column.\n",
    "df_sd.insert(33, 'amenities', split_amenities)\n",
    "df_sd.head(1)"
   ]
  },
  {
   "cell_type": "code",
   "execution_count": 11,
   "metadata": {
    "colab": {
     "base_uri": "https://localhost:8080/"
    },
    "id": "qaRcZK3Q-1ac",
    "outputId": "624fa6dd-2e1b-4bd8-c33f-12880e00533b"
   },
   "outputs": [
    {
     "data": {
      "text/plain": [
       "['Refrigerator',\n",
       " 'Iron',\n",
       " 'Security cameras on property',\n",
       " 'Stove',\n",
       " 'Outdoor shower',\n",
       " 'Piano',\n",
       " 'BBQ grill',\n",
       " 'Board games',\n",
       " 'First aid kit',\n",
       " 'Free washer \\\\u2013 In unit',\n",
       " 'Carbon monoxide alarm',\n",
       " 'Toaster',\n",
       " 'Coffee',\n",
       " 'Beach access',\n",
       " 'Outdoor dining area',\n",
       " 'Self check-in',\n",
       " 'Dedicated workspace',\n",
       " 'Private backyard \\\\u2013 Fully fenced',\n",
       " 'Ceiling fan',\n",
       " 'Smoke alarm',\n",
       " 'Wine glasses',\n",
       " 'Fire pit',\n",
       " 'Barbecue utensils',\n",
       " 'Courtyard view',\n",
       " 'Ping pong table',\n",
       " 'Extra pillows and blankets',\n",
       " 'Beach essentials',\n",
       " 'Hot water kettle',\n",
       " 'Wifi',\n",
       " 'Microwave',\n",
       " 'Cleaning products',\n",
       " 'Shampoo',\n",
       " 'Dishwasher',\n",
       " 'Blender',\n",
       " '42\\\\ HDTV with Roku',\n",
       " 'Cooking basics',\n",
       " 'Free street parking',\n",
       " 'Free dryer \\\\u2013 In unit',\n",
       " 'Hot water',\n",
       " 'Indoor fireplace: gas',\n",
       " 'wood-burning',\n",
       " 'Hangers',\n",
       " 'Freezer',\n",
       " 'Private entrance',\n",
       " 'Private patio or balcony',\n",
       " 'Lockbox',\n",
       " 'Conditioner',\n",
       " 'Baking sheet',\n",
       " 'Clothing storage',\n",
       " 'Kitchen',\n",
       " 'Ocean view',\n",
       " 'Heating',\n",
       " 'Dishes and silverware',\n",
       " 'Hair dryer',\n",
       " 'Garden view',\n",
       " 'Laundromat nearby',\n",
       " 'Bed linens',\n",
       " 'Bikes',\n",
       " 'Shower gel',\n",
       " 'Babysitter recommendations',\n",
       " 'Portable fans',\n",
       " 'Coffee maker',\n",
       " 'Body soap',\n",
       " 'Essentials',\n",
       " 'Oven',\n",
       " 'Outdoor furniture',\n",
       " 'Fire extinguisher',\n",
       " 'Free parking on premises',\n",
       " 'Bathtub',\n",
       " 'Ethernet connection']"
      ]
     },
     "execution_count": 11,
     "metadata": {},
     "output_type": "execute_result"
    }
   ],
   "source": [
    "# Check amenities of first row.\n",
    "df_sd['amenities'][0]"
   ]
  },
  {
   "cell_type": "code",
   "execution_count": 12,
   "metadata": {
    "colab": {
     "base_uri": "https://localhost:8080/"
    },
    "id": "WtlQlM1j8nVE",
    "outputId": "2ec066e2-5ed0-4b55-dd5a-08c37a2080d9"
   },
   "outputs": [
    {
     "data": {
      "text/plain": [
       "70"
      ]
     },
     "execution_count": 12,
     "metadata": {},
     "output_type": "execute_result"
    }
   ],
   "source": [
    "# Check amenities count of first row.\n",
    "len(df_sd['amenities'][0])"
   ]
  },
  {
   "cell_type": "code",
   "execution_count": 13,
   "metadata": {
    "id": "gyxZg0KQ7I1X"
   },
   "outputs": [],
   "source": [
    "# Loop through each row of 'amenities' and get their count.\n",
    "amenities_count = []\n",
    "\n",
    "for i in df_sd['amenities']:\n",
    "\n",
    "    count = len(i)\n",
    "\n",
    "    amenities_count.append(count)"
   ]
  },
  {
   "cell_type": "code",
   "execution_count": 14,
   "metadata": {
    "id": "3HIdl5T2-GQH"
   },
   "outputs": [],
   "source": [
    "# Add a new 'amenities_count' column.\n",
    "df_sd['amenities_count'] = amenities_count"
   ]
  },
  {
   "cell_type": "code",
   "execution_count": 15,
   "metadata": {
    "colab": {
     "base_uri": "https://localhost:8080/",
     "height": 243
    },
    "id": "0TUOaJ4w-ZVg",
    "outputId": "62d5967d-491f-420f-9a70-3bed1d936646"
   },
   "outputs": [
    {
     "data": {
      "text/html": [
       "<div>\n",
       "<style scoped>\n",
       "    .dataframe tbody tr th:only-of-type {\n",
       "        vertical-align: middle;\n",
       "    }\n",
       "\n",
       "    .dataframe tbody tr th {\n",
       "        vertical-align: top;\n",
       "    }\n",
       "\n",
       "    .dataframe thead th {\n",
       "        text-align: right;\n",
       "    }\n",
       "</style>\n",
       "<table border=\"1\" class=\"dataframe\">\n",
       "  <thead>\n",
       "    <tr style=\"text-align: right;\">\n",
       "      <th></th>\n",
       "      <th>id</th>\n",
       "      <th>description</th>\n",
       "      <th>host_id</th>\n",
       "      <th>host_response_rate</th>\n",
       "      <th>host_acceptance_rate</th>\n",
       "      <th>host_is_superhost</th>\n",
       "      <th>host_total_listings_count</th>\n",
       "      <th>host_identity_verified</th>\n",
       "      <th>neighbourhood_cleansed</th>\n",
       "      <th>latitude</th>\n",
       "      <th>...</th>\n",
       "      <th>review_scores_accuracy</th>\n",
       "      <th>review_scores_cleanliness</th>\n",
       "      <th>review_scores_checkin</th>\n",
       "      <th>review_scores_communication</th>\n",
       "      <th>review_scores_location</th>\n",
       "      <th>review_scores_value</th>\n",
       "      <th>license</th>\n",
       "      <th>instant_bookable</th>\n",
       "      <th>amenities</th>\n",
       "      <th>amenities_count</th>\n",
       "    </tr>\n",
       "  </thead>\n",
       "  <tbody>\n",
       "    <tr>\n",
       "      <th>0</th>\n",
       "      <td>610920</td>\n",
       "      <td>Perfect for family vacations or a romantic get...</td>\n",
       "      <td>3028993</td>\n",
       "      <td>100%</td>\n",
       "      <td>98%</td>\n",
       "      <td>t</td>\n",
       "      <td>2.0</td>\n",
       "      <td>f</td>\n",
       "      <td>La Jolla</td>\n",
       "      <td>32.81244</td>\n",
       "      <td>...</td>\n",
       "      <td>4.93</td>\n",
       "      <td>4.64</td>\n",
       "      <td>4.79</td>\n",
       "      <td>5.0</td>\n",
       "      <td>5.0</td>\n",
       "      <td>4.71</td>\n",
       "      <td>NaN</td>\n",
       "      <td>f</td>\n",
       "      <td>[Refrigerator, Iron, Security cameras on prope...</td>\n",
       "      <td>70</td>\n",
       "    </tr>\n",
       "  </tbody>\n",
       "</table>\n",
       "<p>1 rows × 35 columns</p>\n",
       "</div>"
      ],
      "text/plain": [
       "       id                                        description  host_id  \\\n",
       "0  610920  Perfect for family vacations or a romantic get...  3028993   \n",
       "\n",
       "  host_response_rate host_acceptance_rate host_is_superhost  \\\n",
       "0               100%                  98%                 t   \n",
       "\n",
       "   host_total_listings_count host_identity_verified neighbourhood_cleansed  \\\n",
       "0                        2.0                      f               La Jolla   \n",
       "\n",
       "   latitude  ...  review_scores_accuracy review_scores_cleanliness  \\\n",
       "0  32.81244  ...                    4.93                      4.64   \n",
       "\n",
       "   review_scores_checkin review_scores_communication  review_scores_location  \\\n",
       "0                   4.79                         5.0                     5.0   \n",
       "\n",
       "   review_scores_value license  instant_bookable  \\\n",
       "0                 4.71     NaN                 f   \n",
       "\n",
       "                                           amenities  amenities_count  \n",
       "0  [Refrigerator, Iron, Security cameras on prope...               70  \n",
       "\n",
       "[1 rows x 35 columns]"
      ]
     },
     "execution_count": 15,
     "metadata": {},
     "output_type": "execute_result"
    }
   ],
   "source": [
    "# Preview first row of df.\n",
    "df_sd.head(1)"
   ]
  },
  {
   "cell_type": "code",
   "execution_count": 16,
   "metadata": {
    "colab": {
     "base_uri": "https://localhost:8080/",
     "height": 646
    },
    "id": "Ovp7lJnXbPAC",
    "outputId": "600c107e-a0fe-4ade-9e64-dde14f45eb8d"
   },
   "outputs": [
    {
     "data": {
      "text/html": [
       "<div>\n",
       "<style scoped>\n",
       "    .dataframe tbody tr th:only-of-type {\n",
       "        vertical-align: middle;\n",
       "    }\n",
       "\n",
       "    .dataframe tbody tr th {\n",
       "        vertical-align: top;\n",
       "    }\n",
       "\n",
       "    .dataframe thead th {\n",
       "        text-align: right;\n",
       "    }\n",
       "</style>\n",
       "<table border=\"1\" class=\"dataframe\">\n",
       "  <thead>\n",
       "    <tr style=\"text-align: right;\">\n",
       "      <th></th>\n",
       "      <th>id</th>\n",
       "      <th>description</th>\n",
       "      <th>host_id</th>\n",
       "      <th>host_response_rate</th>\n",
       "      <th>host_acceptance_rate</th>\n",
       "      <th>host_is_superhost</th>\n",
       "      <th>host_total_listings_count</th>\n",
       "      <th>host_identity_verified</th>\n",
       "      <th>neighbourhood_cleansed</th>\n",
       "      <th>latitude</th>\n",
       "      <th>...</th>\n",
       "      <th>review_scores_cleanliness</th>\n",
       "      <th>review_scores_checkin</th>\n",
       "      <th>review_scores_communication</th>\n",
       "      <th>review_scores_location</th>\n",
       "      <th>review_scores_value</th>\n",
       "      <th>license</th>\n",
       "      <th>instant_bookable</th>\n",
       "      <th>amenities</th>\n",
       "      <th>amenities_count</th>\n",
       "      <th>amenities_cat</th>\n",
       "    </tr>\n",
       "  </thead>\n",
       "  <tbody>\n",
       "    <tr>\n",
       "      <th>0</th>\n",
       "      <td>610920</td>\n",
       "      <td>Perfect for family vacations or a romantic get...</td>\n",
       "      <td>3028993</td>\n",
       "      <td>100%</td>\n",
       "      <td>98%</td>\n",
       "      <td>t</td>\n",
       "      <td>2.0</td>\n",
       "      <td>f</td>\n",
       "      <td>La Jolla</td>\n",
       "      <td>32.81244</td>\n",
       "      <td>...</td>\n",
       "      <td>4.64</td>\n",
       "      <td>4.79</td>\n",
       "      <td>5.00</td>\n",
       "      <td>5.00</td>\n",
       "      <td>4.71</td>\n",
       "      <td>NaN</td>\n",
       "      <td>f</td>\n",
       "      <td>[Refrigerator, Iron, Security cameras on prope...</td>\n",
       "      <td>70</td>\n",
       "      <td>luxury</td>\n",
       "    </tr>\n",
       "    <tr>\n",
       "      <th>1</th>\n",
       "      <td>6</td>\n",
       "      <td>You read that right, this craftsman home was t...</td>\n",
       "      <td>29</td>\n",
       "      <td>100%</td>\n",
       "      <td>100%</td>\n",
       "      <td>f</td>\n",
       "      <td>1.0</td>\n",
       "      <td>t</td>\n",
       "      <td>North Hills</td>\n",
       "      <td>32.75522</td>\n",
       "      <td>...</td>\n",
       "      <td>4.71</td>\n",
       "      <td>4.99</td>\n",
       "      <td>4.97</td>\n",
       "      <td>4.77</td>\n",
       "      <td>4.80</td>\n",
       "      <td>STR-04545L</td>\n",
       "      <td>f</td>\n",
       "      <td>[Iron, Security cameras on property, Board gam...</td>\n",
       "      <td>77</td>\n",
       "      <td>luxury</td>\n",
       "    </tr>\n",
       "    <tr>\n",
       "      <th>2</th>\n",
       "      <td>29967</td>\n",
       "      <td>This 2 bedroom, 2 full bathroom home offers al...</td>\n",
       "      <td>129123</td>\n",
       "      <td>100%</td>\n",
       "      <td>75%</td>\n",
       "      <td>f</td>\n",
       "      <td>9.0</td>\n",
       "      <td>t</td>\n",
       "      <td>Pacific Beach</td>\n",
       "      <td>32.80751</td>\n",
       "      <td>...</td>\n",
       "      <td>4.56</td>\n",
       "      <td>4.91</td>\n",
       "      <td>4.91</td>\n",
       "      <td>4.81</td>\n",
       "      <td>4.76</td>\n",
       "      <td>NaN</td>\n",
       "      <td>f</td>\n",
       "      <td>[Washer, Hair dryer, Iron, Smoke alarm, Dryer,...</td>\n",
       "      <td>20</td>\n",
       "      <td>basic</td>\n",
       "    </tr>\n",
       "    <tr>\n",
       "      <th>3</th>\n",
       "      <td>1166766</td>\n",
       "      <td>&lt;b&gt;The space&lt;/b&gt;&lt;br /&gt;Ultra luxury home, fully...</td>\n",
       "      <td>6388958</td>\n",
       "      <td>100%</td>\n",
       "      <td>100%</td>\n",
       "      <td>f</td>\n",
       "      <td>4.0</td>\n",
       "      <td>t</td>\n",
       "      <td>Bay Park</td>\n",
       "      <td>32.78337</td>\n",
       "      <td>...</td>\n",
       "      <td>4.21</td>\n",
       "      <td>4.54</td>\n",
       "      <td>4.54</td>\n",
       "      <td>4.83</td>\n",
       "      <td>4.42</td>\n",
       "      <td>STR-00048L</td>\n",
       "      <td>f</td>\n",
       "      <td>[Washer, Refrigerator, Private hot tub, Iron, ...</td>\n",
       "      <td>38</td>\n",
       "      <td>moderate</td>\n",
       "    </tr>\n",
       "    <tr>\n",
       "      <th>4</th>\n",
       "      <td>1167130</td>\n",
       "      <td>Welcome to the largest home close to Downtown ...</td>\n",
       "      <td>6388958</td>\n",
       "      <td>100%</td>\n",
       "      <td>100%</td>\n",
       "      <td>f</td>\n",
       "      <td>4.0</td>\n",
       "      <td>t</td>\n",
       "      <td>Old Town</td>\n",
       "      <td>32.74569</td>\n",
       "      <td>...</td>\n",
       "      <td>4.56</td>\n",
       "      <td>4.92</td>\n",
       "      <td>4.83</td>\n",
       "      <td>4.79</td>\n",
       "      <td>4.58</td>\n",
       "      <td>STR-00538L</td>\n",
       "      <td>t</td>\n",
       "      <td>[Washer, Refrigerator, Private hot tub, Iron, ...</td>\n",
       "      <td>49</td>\n",
       "      <td>moderate</td>\n",
       "    </tr>\n",
       "  </tbody>\n",
       "</table>\n",
       "<p>5 rows × 36 columns</p>\n",
       "</div>"
      ],
      "text/plain": [
       "        id                                        description  host_id  \\\n",
       "0   610920  Perfect for family vacations or a romantic get...  3028993   \n",
       "1        6  You read that right, this craftsman home was t...       29   \n",
       "2    29967  This 2 bedroom, 2 full bathroom home offers al...   129123   \n",
       "3  1166766  <b>The space</b><br />Ultra luxury home, fully...  6388958   \n",
       "4  1167130  Welcome to the largest home close to Downtown ...  6388958   \n",
       "\n",
       "  host_response_rate host_acceptance_rate host_is_superhost  \\\n",
       "0               100%                  98%                 t   \n",
       "1               100%                 100%                 f   \n",
       "2               100%                  75%                 f   \n",
       "3               100%                 100%                 f   \n",
       "4               100%                 100%                 f   \n",
       "\n",
       "   host_total_listings_count host_identity_verified neighbourhood_cleansed  \\\n",
       "0                        2.0                      f               La Jolla   \n",
       "1                        1.0                      t            North Hills   \n",
       "2                        9.0                      t          Pacific Beach   \n",
       "3                        4.0                      t               Bay Park   \n",
       "4                        4.0                      t               Old Town   \n",
       "\n",
       "   latitude  ...  review_scores_cleanliness review_scores_checkin  \\\n",
       "0  32.81244  ...                       4.64                  4.79   \n",
       "1  32.75522  ...                       4.71                  4.99   \n",
       "2  32.80751  ...                       4.56                  4.91   \n",
       "3  32.78337  ...                       4.21                  4.54   \n",
       "4  32.74569  ...                       4.56                  4.92   \n",
       "\n",
       "   review_scores_communication review_scores_location  review_scores_value  \\\n",
       "0                         5.00                   5.00                 4.71   \n",
       "1                         4.97                   4.77                 4.80   \n",
       "2                         4.91                   4.81                 4.76   \n",
       "3                         4.54                   4.83                 4.42   \n",
       "4                         4.83                   4.79                 4.58   \n",
       "\n",
       "      license instant_bookable  \\\n",
       "0         NaN                f   \n",
       "1  STR-04545L                f   \n",
       "2         NaN                f   \n",
       "3  STR-00048L                f   \n",
       "4  STR-00538L                t   \n",
       "\n",
       "                                           amenities  amenities_count  \\\n",
       "0  [Refrigerator, Iron, Security cameras on prope...               70   \n",
       "1  [Iron, Security cameras on property, Board gam...               77   \n",
       "2  [Washer, Hair dryer, Iron, Smoke alarm, Dryer,...               20   \n",
       "3  [Washer, Refrigerator, Private hot tub, Iron, ...               38   \n",
       "4  [Washer, Refrigerator, Private hot tub, Iron, ...               49   \n",
       "\n",
       "   amenities_cat  \n",
       "0         luxury  \n",
       "1         luxury  \n",
       "2          basic  \n",
       "3       moderate  \n",
       "4       moderate  \n",
       "\n",
       "[5 rows x 36 columns]"
      ]
     },
     "execution_count": 16,
     "metadata": {},
     "output_type": "execute_result"
    }
   ],
   "source": [
    "# Categorize the amenities.\n",
    "df_sd[\"amenities_cat\"] = \"moderate\"\n",
    "df_sd.loc[df_sd[\"amenities_count\"] < 25, \"amenities_cat\"] = \"basic\"\n",
    "df_sd.loc[df_sd[\"amenities_count\"] > 50, \"amenities_cat\"] = \"luxury\"\n",
    "df_sd.head(5)"
   ]
  },
  {
   "cell_type": "code",
   "execution_count": 17,
   "metadata": {
    "colab": {
     "base_uri": "https://localhost:8080/"
    },
    "id": "hq_Xw3QxcTG5",
    "outputId": "0a818ff3-2b66-49b1-af51-dde79e33eb4f"
   },
   "outputs": [
    {
     "data": {
      "text/plain": [
       "moderate    6952\n",
       "luxury      3616\n",
       "basic       2303\n",
       "Name: amenities_cat, dtype: int64"
      ]
     },
     "execution_count": 17,
     "metadata": {},
     "output_type": "execute_result"
    }
   ],
   "source": [
    "# Check value counts for amenities categories.\n",
    "df_sd['amenities_cat'].value_counts()"
   ]
  },
  {
   "cell_type": "markdown",
   "metadata": {
    "id": "CSExHqOYXjYL"
   },
   "source": [
    "# Bedrooms"
   ]
  },
  {
   "cell_type": "code",
   "execution_count": 18,
   "metadata": {
    "colab": {
     "base_uri": "https://localhost:8080/"
    },
    "id": "0TLQDphtBXdZ",
    "outputId": "ca8e68d8-40b0-4870-ffb6-0ba84463c678"
   },
   "outputs": [
    {
     "data": {
      "text/plain": [
       "1.0     5358\n",
       "2.0     3159\n",
       "3.0     1925\n",
       "4.0      825\n",
       "5.0      315\n",
       "6.0      107\n",
       "7.0       40\n",
       "8.0       19\n",
       "10.0       6\n",
       "9.0        6\n",
       "12.0       5\n",
       "11.0       4\n",
       "28.0       2\n",
       "17.0       1\n",
       "34.0       1\n",
       "20.0       1\n",
       "Name: bedrooms, dtype: int64"
      ]
     },
     "execution_count": 18,
     "metadata": {},
     "output_type": "execute_result"
    }
   ],
   "source": [
    "# Check value counts for 'bedrooms'.\n",
    "df_sd['bedrooms'].value_counts()"
   ]
  },
  {
   "cell_type": "code",
   "execution_count": 19,
   "metadata": {
    "colab": {
     "base_uri": "https://localhost:8080/"
    },
    "id": "TK4bmD7kBsa8",
    "outputId": "fcf4c559-0f9f-49db-87a9-d72e53e47cf3"
   },
   "outputs": [
    {
     "data": {
      "text/plain": [
       "dtype('float64')"
      ]
     },
     "execution_count": 19,
     "metadata": {},
     "output_type": "execute_result"
    }
   ],
   "source": [
    "# Check data type for 'bedrooms'.\n",
    "df_sd['bedrooms'].dtypes"
   ]
  },
  {
   "cell_type": "code",
   "execution_count": 20,
   "metadata": {
    "id": "vnyRTfqR_ul4"
   },
   "outputs": [],
   "source": [
    "# Loop through each 'bedrooms' row and bin together instances of 6 or more bedrooms.\n",
    "df_sd['bedrooms_cat'] = df_sd['bedrooms']\n",
    "\n",
    "for i in df_sd['bedrooms_cat']:\n",
    "\n",
    "    if i > 5:\n",
    "\n",
    "        df_sd['bedrooms_cat'] = df_sd['bedrooms_cat'].replace(i, '6 or more')"
   ]
  },
  {
   "cell_type": "code",
   "execution_count": 21,
   "metadata": {
    "colab": {
     "base_uri": "https://localhost:8080/"
    },
    "id": "IuFNnKtA_u0j",
    "outputId": "ff3a0dc6-50a0-44e1-c6f5-5d8817bc5bfc"
   },
   "outputs": [
    {
     "data": {
      "text/plain": [
       "1.0          5358\n",
       "2.0          3159\n",
       "3.0          1925\n",
       "4.0           825\n",
       "5.0           315\n",
       "6 or more     192\n",
       "Name: bedrooms_cat, dtype: int64"
      ]
     },
     "execution_count": 21,
     "metadata": {},
     "output_type": "execute_result"
    }
   ],
   "source": [
    "# Check value counts for 'bedrooms'.\n",
    "df_sd['bedrooms_cat'].value_counts()"
   ]
  },
  {
   "cell_type": "markdown",
   "metadata": {
    "id": "ItWesOXqXcPs"
   },
   "source": [
    "# Price"
   ]
  },
  {
   "cell_type": "code",
   "execution_count": 22,
   "metadata": {
    "colab": {
     "base_uri": "https://localhost:8080/"
    },
    "id": "oosIC_yR_vRT",
    "outputId": "5cb76ec0-7535-43cb-ecb0-827930c6b6eb"
   },
   "outputs": [
    {
     "data": {
      "text/plain": [
       "0      $725.00\n",
       "1      $349.00\n",
       "2      $225.00\n",
       "3      $794.00\n",
       "4    $1,250.00\n",
       "Name: price, dtype: object"
      ]
     },
     "execution_count": 22,
     "metadata": {},
     "output_type": "execute_result"
    }
   ],
   "source": [
    "# Preview values in 'price' column.\n",
    "df_sd['price'].head(5)"
   ]
  },
  {
   "cell_type": "code",
   "execution_count": 23,
   "metadata": {
    "colab": {
     "base_uri": "https://localhost:8080/"
    },
    "id": "hclFKuzk_veR",
    "outputId": "e9d870f8-eece-4738-9def-9b3b48acad97"
   },
   "outputs": [
    {
     "data": {
      "text/plain": [
       "0     725.0\n",
       "1     349.0\n",
       "2     225.0\n",
       "3     794.0\n",
       "4    1250.0\n",
       "Name: price, dtype: float64"
      ]
     },
     "execution_count": 23,
     "metadata": {},
     "output_type": "execute_result"
    }
   ],
   "source": [
    "# Remove dollar signs and commas from 'price' values and convert them to a float data type.\n",
    "df_sd['price'] = df_sd['price'].str.replace('$', '', regex=False).str.replace(',', '').astype(float)\n",
    "df_sd['price'].head(5)"
   ]
  },
  {
   "cell_type": "markdown",
   "metadata": {
    "id": "koEwUd_4VmF7"
   },
   "source": [
    "# Host Response and Acceptance Rates"
   ]
  },
  {
   "cell_type": "code",
   "execution_count": 24,
   "metadata": {
    "colab": {
     "base_uri": "https://localhost:8080/"
    },
    "id": "TF_Aqz3ZWHFe",
    "outputId": "29a11405-830b-4437-8f56-3dbb31b6fcdb"
   },
   "outputs": [
    {
     "data": {
      "text/plain": [
       "0    100%\n",
       "1    100%\n",
       "2    100%\n",
       "3    100%\n",
       "4    100%\n",
       "Name: host_response_rate, dtype: object"
      ]
     },
     "execution_count": 24,
     "metadata": {},
     "output_type": "execute_result"
    }
   ],
   "source": [
    "# Preview 'host_response_rate'.\n",
    "df_sd['host_response_rate'].head(5)"
   ]
  },
  {
   "cell_type": "code",
   "execution_count": 25,
   "metadata": {
    "id": "sYByx6gZUgM_"
   },
   "outputs": [],
   "source": [
    "# Remove % symbols from values and convert to float data type.\n",
    "df_sd['host_response_rate'] = df_sd['host_response_rate'].str.replace('%', '').astype(float)\n",
    "df_sd['host_acceptance_rate'] = df_sd['host_acceptance_rate'].str.replace('%', '').astype(float)"
   ]
  },
  {
   "cell_type": "code",
   "execution_count": 26,
   "metadata": {
    "colab": {
     "base_uri": "https://localhost:8080/"
    },
    "id": "inyZ8jc1Ugkl",
    "outputId": "635c6660-f425-4f9b-9cae-a2b5a01cb84d"
   },
   "outputs": [
    {
     "data": {
      "text/plain": [
       "0    100.0\n",
       "Name: host_response_rate, dtype: float64"
      ]
     },
     "execution_count": 26,
     "metadata": {},
     "output_type": "execute_result"
    }
   ],
   "source": [
    "# Check 'host_response_rate'.\n",
    "df_sd['host_response_rate'].head(1)"
   ]
  },
  {
   "cell_type": "code",
   "execution_count": 27,
   "metadata": {
    "colab": {
     "base_uri": "https://localhost:8080/"
    },
    "id": "Zo0yw8RIUg7v",
    "outputId": "a1b76b15-dc0f-48de-b2cb-89cd3048aa2b"
   },
   "outputs": [
    {
     "data": {
      "text/plain": [
       "0    98.0\n",
       "Name: host_acceptance_rate, dtype: float64"
      ]
     },
     "execution_count": 27,
     "metadata": {},
     "output_type": "execute_result"
    }
   ],
   "source": [
    "# Check 'host_acceptance_rate'.\n",
    "df_sd['host_acceptance_rate'].head(1)"
   ]
  },
  {
   "cell_type": "code",
   "execution_count": 28,
   "metadata": {
    "colab": {
     "base_uri": "https://localhost:8080/",
     "height": 977
    },
    "id": "OUPknakJdkau",
    "outputId": "67f5d0e4-76c0-4091-e629-a00f7f950eec"
   },
   "outputs": [
    {
     "data": {
      "text/html": [
       "<div>\n",
       "<style scoped>\n",
       "    .dataframe tbody tr th:only-of-type {\n",
       "        vertical-align: middle;\n",
       "    }\n",
       "\n",
       "    .dataframe tbody tr th {\n",
       "        vertical-align: top;\n",
       "    }\n",
       "\n",
       "    .dataframe thead th {\n",
       "        text-align: right;\n",
       "    }\n",
       "</style>\n",
       "<table border=\"1\" class=\"dataframe\">\n",
       "  <thead>\n",
       "    <tr style=\"text-align: right;\">\n",
       "      <th></th>\n",
       "      <th>id</th>\n",
       "      <th>description</th>\n",
       "      <th>host_id</th>\n",
       "      <th>host_response_rate</th>\n",
       "      <th>host_acceptance_rate</th>\n",
       "      <th>host_is_superhost</th>\n",
       "      <th>host_total_listings_count</th>\n",
       "      <th>host_identity_verified</th>\n",
       "      <th>neighbourhood_cleansed</th>\n",
       "      <th>latitude</th>\n",
       "      <th>...</th>\n",
       "      <th>review_scores_communication</th>\n",
       "      <th>review_scores_location</th>\n",
       "      <th>review_scores_value</th>\n",
       "      <th>license</th>\n",
       "      <th>instant_bookable</th>\n",
       "      <th>amenities</th>\n",
       "      <th>amenities_count</th>\n",
       "      <th>amenities_cat</th>\n",
       "      <th>bedrooms_cat</th>\n",
       "      <th>response_cat</th>\n",
       "    </tr>\n",
       "  </thead>\n",
       "  <tbody>\n",
       "    <tr>\n",
       "      <th>12861</th>\n",
       "      <td>853653678315646856</td>\n",
       "      <td>Experience California comfort at this charming...</td>\n",
       "      <td>468914943</td>\n",
       "      <td>100.0</td>\n",
       "      <td>100.0</td>\n",
       "      <td>f</td>\n",
       "      <td>573.0</td>\n",
       "      <td>f</td>\n",
       "      <td>La Jolla</td>\n",
       "      <td>32.843669</td>\n",
       "      <td>...</td>\n",
       "      <td>NaN</td>\n",
       "      <td>NaN</td>\n",
       "      <td>NaN</td>\n",
       "      <td>NaN</td>\n",
       "      <td>t</td>\n",
       "      <td>[Iron, Paid parking on premises, First aid kit...</td>\n",
       "      <td>27</td>\n",
       "      <td>moderate</td>\n",
       "      <td>2.0</td>\n",
       "      <td>A</td>\n",
       "    </tr>\n",
       "    <tr>\n",
       "      <th>12862</th>\n",
       "      <td>849204214182962400</td>\n",
       "      <td>Your family will be close to everything when y...</td>\n",
       "      <td>65310636</td>\n",
       "      <td>89.0</td>\n",
       "      <td>100.0</td>\n",
       "      <td>f</td>\n",
       "      <td>2.0</td>\n",
       "      <td>f</td>\n",
       "      <td>Del Mar Heights</td>\n",
       "      <td>32.942031</td>\n",
       "      <td>...</td>\n",
       "      <td>NaN</td>\n",
       "      <td>NaN</td>\n",
       "      <td>NaN</td>\n",
       "      <td>NaN</td>\n",
       "      <td>t</td>\n",
       "      <td>[Washer, Children\\u2019s books and toys for ag...</td>\n",
       "      <td>74</td>\n",
       "      <td>luxury</td>\n",
       "      <td>3.0</td>\n",
       "      <td>B</td>\n",
       "    </tr>\n",
       "    <tr>\n",
       "      <th>12863</th>\n",
       "      <td>849219966203270170</td>\n",
       "      <td>*We're taking extra steps to ensure our space ...</td>\n",
       "      <td>5002314</td>\n",
       "      <td>100.0</td>\n",
       "      <td>100.0</td>\n",
       "      <td>t</td>\n",
       "      <td>47.0</td>\n",
       "      <td>t</td>\n",
       "      <td>South Park</td>\n",
       "      <td>32.724252</td>\n",
       "      <td>...</td>\n",
       "      <td>NaN</td>\n",
       "      <td>NaN</td>\n",
       "      <td>NaN</td>\n",
       "      <td>NaN</td>\n",
       "      <td>t</td>\n",
       "      <td>[Washer, Refrigerator, Iron, Dryer, Stove, Sin...</td>\n",
       "      <td>48</td>\n",
       "      <td>moderate</td>\n",
       "      <td>2.0</td>\n",
       "      <td>A</td>\n",
       "    </tr>\n",
       "    <tr>\n",
       "      <th>12864</th>\n",
       "      <td>849272213202971264</td>\n",
       "      <td>4 bedroom, 3 Min From Naval Base &amp; DT San Dieg...</td>\n",
       "      <td>505835408</td>\n",
       "      <td>NaN</td>\n",
       "      <td>NaN</td>\n",
       "      <td>f</td>\n",
       "      <td>1.0</td>\n",
       "      <td>t</td>\n",
       "      <td>Memorial</td>\n",
       "      <td>32.697606</td>\n",
       "      <td>...</td>\n",
       "      <td>NaN</td>\n",
       "      <td>NaN</td>\n",
       "      <td>NaN</td>\n",
       "      <td>NaN</td>\n",
       "      <td>f</td>\n",
       "      <td>[Washer, Smoke alarm, TV, Wifi, First aid kit,...</td>\n",
       "      <td>9</td>\n",
       "      <td>basic</td>\n",
       "      <td>4.0</td>\n",
       "      <td>NaN</td>\n",
       "    </tr>\n",
       "    <tr>\n",
       "      <th>12865</th>\n",
       "      <td>849353800050585475</td>\n",
       "      <td>EXCITING NEW LISTING, NEW PHOTOS COMING SOON! ...</td>\n",
       "      <td>3017970</td>\n",
       "      <td>97.0</td>\n",
       "      <td>34.0</td>\n",
       "      <td>f</td>\n",
       "      <td>206.0</td>\n",
       "      <td>t</td>\n",
       "      <td>Mission Bay</td>\n",
       "      <td>32.763140</td>\n",
       "      <td>...</td>\n",
       "      <td>NaN</td>\n",
       "      <td>NaN</td>\n",
       "      <td>NaN</td>\n",
       "      <td>STR-00892L</td>\n",
       "      <td>f</td>\n",
       "      <td>[Washer, Refrigerator, Iron, Dryer, Stove, BBQ...</td>\n",
       "      <td>49</td>\n",
       "      <td>moderate</td>\n",
       "      <td>2.0</td>\n",
       "      <td>A</td>\n",
       "    </tr>\n",
       "    <tr>\n",
       "      <th>12866</th>\n",
       "      <td>849362184011022361</td>\n",
       "      <td>Experience the best of coastal living when you...</td>\n",
       "      <td>126644161</td>\n",
       "      <td>100.0</td>\n",
       "      <td>99.0</td>\n",
       "      <td>f</td>\n",
       "      <td>1526.0</td>\n",
       "      <td>t</td>\n",
       "      <td>Del Mar Heights</td>\n",
       "      <td>32.934361</td>\n",
       "      <td>...</td>\n",
       "      <td>NaN</td>\n",
       "      <td>NaN</td>\n",
       "      <td>NaN</td>\n",
       "      <td>NaN</td>\n",
       "      <td>t</td>\n",
       "      <td>[Washer, Iron, Dryer, Pack \\u2019n play/Travel...</td>\n",
       "      <td>27</td>\n",
       "      <td>moderate</td>\n",
       "      <td>2.0</td>\n",
       "      <td>A</td>\n",
       "    </tr>\n",
       "    <tr>\n",
       "      <th>12867</th>\n",
       "      <td>849445746928877844</td>\n",
       "      <td>Come and enjoy your private pool and spa!  Gre...</td>\n",
       "      <td>492305565</td>\n",
       "      <td>100.0</td>\n",
       "      <td>100.0</td>\n",
       "      <td>f</td>\n",
       "      <td>7.0</td>\n",
       "      <td>t</td>\n",
       "      <td>La Jolla</td>\n",
       "      <td>32.844483</td>\n",
       "      <td>...</td>\n",
       "      <td>NaN</td>\n",
       "      <td>NaN</td>\n",
       "      <td>NaN</td>\n",
       "      <td>NaN</td>\n",
       "      <td>t</td>\n",
       "      <td>[Washer, Refrigerator, BBQ grill: gas, Iron, S...</td>\n",
       "      <td>72</td>\n",
       "      <td>luxury</td>\n",
       "      <td>5.0</td>\n",
       "      <td>A</td>\n",
       "    </tr>\n",
       "    <tr>\n",
       "      <th>12868</th>\n",
       "      <td>849469624782192682</td>\n",
       "      <td>This unique property is perfect for large fami...</td>\n",
       "      <td>108296074</td>\n",
       "      <td>100.0</td>\n",
       "      <td>50.0</td>\n",
       "      <td>f</td>\n",
       "      <td>2.0</td>\n",
       "      <td>t</td>\n",
       "      <td>La Jolla</td>\n",
       "      <td>32.825315</td>\n",
       "      <td>...</td>\n",
       "      <td>NaN</td>\n",
       "      <td>NaN</td>\n",
       "      <td>NaN</td>\n",
       "      <td>NaN</td>\n",
       "      <td>f</td>\n",
       "      <td>[Washer, Refrigerator, Iron, Dryer, Security c...</td>\n",
       "      <td>53</td>\n",
       "      <td>luxury</td>\n",
       "      <td>5.0</td>\n",
       "      <td>A</td>\n",
       "    </tr>\n",
       "    <tr>\n",
       "      <th>12869</th>\n",
       "      <td>849558022932891841</td>\n",
       "      <td>HIGHLIGHTS&lt;br /&gt;-Pet Friendly&lt;br /&gt;-Centrally ...</td>\n",
       "      <td>499662709</td>\n",
       "      <td>100.0</td>\n",
       "      <td>100.0</td>\n",
       "      <td>f</td>\n",
       "      <td>31.0</td>\n",
       "      <td>t</td>\n",
       "      <td>Loma Portal</td>\n",
       "      <td>32.748687</td>\n",
       "      <td>...</td>\n",
       "      <td>NaN</td>\n",
       "      <td>NaN</td>\n",
       "      <td>NaN</td>\n",
       "      <td>NaN</td>\n",
       "      <td>t</td>\n",
       "      <td>[Refrigerator, Iron, Clothing storage: closet ...</td>\n",
       "      <td>57</td>\n",
       "      <td>luxury</td>\n",
       "      <td>2.0</td>\n",
       "      <td>A</td>\n",
       "    </tr>\n",
       "    <tr>\n",
       "      <th>12870</th>\n",
       "      <td>849572277990758798</td>\n",
       "      <td>Available as of October,2018This luxurious 2 b...</td>\n",
       "      <td>41102516</td>\n",
       "      <td>100.0</td>\n",
       "      <td>100.0</td>\n",
       "      <td>f</td>\n",
       "      <td>3.0</td>\n",
       "      <td>t</td>\n",
       "      <td>Balboa Park</td>\n",
       "      <td>32.728820</td>\n",
       "      <td>...</td>\n",
       "      <td>NaN</td>\n",
       "      <td>NaN</td>\n",
       "      <td>NaN</td>\n",
       "      <td>NaN</td>\n",
       "      <td>f</td>\n",
       "      <td>[Washer, Elevator, Wifi]</td>\n",
       "      <td>3</td>\n",
       "      <td>basic</td>\n",
       "      <td>2.0</td>\n",
       "      <td>A</td>\n",
       "    </tr>\n",
       "  </tbody>\n",
       "</table>\n",
       "<p>10 rows × 38 columns</p>\n",
       "</div>"
      ],
      "text/plain": [
       "                       id                                        description  \\\n",
       "12861  853653678315646856  Experience California comfort at this charming...   \n",
       "12862  849204214182962400  Your family will be close to everything when y...   \n",
       "12863  849219966203270170  *We're taking extra steps to ensure our space ...   \n",
       "12864  849272213202971264  4 bedroom, 3 Min From Naval Base & DT San Dieg...   \n",
       "12865  849353800050585475  EXCITING NEW LISTING, NEW PHOTOS COMING SOON! ...   \n",
       "12866  849362184011022361  Experience the best of coastal living when you...   \n",
       "12867  849445746928877844  Come and enjoy your private pool and spa!  Gre...   \n",
       "12868  849469624782192682  This unique property is perfect for large fami...   \n",
       "12869  849558022932891841  HIGHLIGHTS<br />-Pet Friendly<br />-Centrally ...   \n",
       "12870  849572277990758798  Available as of October,2018This luxurious 2 b...   \n",
       "\n",
       "         host_id  host_response_rate  host_acceptance_rate host_is_superhost  \\\n",
       "12861  468914943               100.0                 100.0                 f   \n",
       "12862   65310636                89.0                 100.0                 f   \n",
       "12863    5002314               100.0                 100.0                 t   \n",
       "12864  505835408                 NaN                   NaN                 f   \n",
       "12865    3017970                97.0                  34.0                 f   \n",
       "12866  126644161               100.0                  99.0                 f   \n",
       "12867  492305565               100.0                 100.0                 f   \n",
       "12868  108296074               100.0                  50.0                 f   \n",
       "12869  499662709               100.0                 100.0                 f   \n",
       "12870   41102516               100.0                 100.0                 f   \n",
       "\n",
       "       host_total_listings_count host_identity_verified  \\\n",
       "12861                      573.0                      f   \n",
       "12862                        2.0                      f   \n",
       "12863                       47.0                      t   \n",
       "12864                        1.0                      t   \n",
       "12865                      206.0                      t   \n",
       "12866                     1526.0                      t   \n",
       "12867                        7.0                      t   \n",
       "12868                        2.0                      t   \n",
       "12869                       31.0                      t   \n",
       "12870                        3.0                      t   \n",
       "\n",
       "      neighbourhood_cleansed   latitude  ...  review_scores_communication  \\\n",
       "12861               La Jolla  32.843669  ...                          NaN   \n",
       "12862        Del Mar Heights  32.942031  ...                          NaN   \n",
       "12863             South Park  32.724252  ...                          NaN   \n",
       "12864               Memorial  32.697606  ...                          NaN   \n",
       "12865            Mission Bay  32.763140  ...                          NaN   \n",
       "12866        Del Mar Heights  32.934361  ...                          NaN   \n",
       "12867               La Jolla  32.844483  ...                          NaN   \n",
       "12868               La Jolla  32.825315  ...                          NaN   \n",
       "12869            Loma Portal  32.748687  ...                          NaN   \n",
       "12870            Balboa Park  32.728820  ...                          NaN   \n",
       "\n",
       "      review_scores_location  review_scores_value     license  \\\n",
       "12861                    NaN                  NaN         NaN   \n",
       "12862                    NaN                  NaN         NaN   \n",
       "12863                    NaN                  NaN         NaN   \n",
       "12864                    NaN                  NaN         NaN   \n",
       "12865                    NaN                  NaN  STR-00892L   \n",
       "12866                    NaN                  NaN         NaN   \n",
       "12867                    NaN                  NaN         NaN   \n",
       "12868                    NaN                  NaN         NaN   \n",
       "12869                    NaN                  NaN         NaN   \n",
       "12870                    NaN                  NaN         NaN   \n",
       "\n",
       "       instant_bookable                                          amenities  \\\n",
       "12861                 t  [Iron, Paid parking on premises, First aid kit...   \n",
       "12862                 t  [Washer, Children\\u2019s books and toys for ag...   \n",
       "12863                 t  [Washer, Refrigerator, Iron, Dryer, Stove, Sin...   \n",
       "12864                 f  [Washer, Smoke alarm, TV, Wifi, First aid kit,...   \n",
       "12865                 f  [Washer, Refrigerator, Iron, Dryer, Stove, BBQ...   \n",
       "12866                 t  [Washer, Iron, Dryer, Pack \\u2019n play/Travel...   \n",
       "12867                 t  [Washer, Refrigerator, BBQ grill: gas, Iron, S...   \n",
       "12868                 f  [Washer, Refrigerator, Iron, Dryer, Security c...   \n",
       "12869                 t  [Refrigerator, Iron, Clothing storage: closet ...   \n",
       "12870                 f                           [Washer, Elevator, Wifi]   \n",
       "\n",
       "       amenities_count  amenities_cat  bedrooms_cat  response_cat  \n",
       "12861               27       moderate           2.0             A  \n",
       "12862               74         luxury           3.0             B  \n",
       "12863               48       moderate           2.0             A  \n",
       "12864                9          basic           4.0           NaN  \n",
       "12865               49       moderate           2.0             A  \n",
       "12866               27       moderate           2.0             A  \n",
       "12867               72         luxury           5.0             A  \n",
       "12868               53         luxury           5.0             A  \n",
       "12869               57         luxury           2.0             A  \n",
       "12870                3          basic           2.0             A  \n",
       "\n",
       "[10 rows x 38 columns]"
      ]
     },
     "execution_count": 28,
     "metadata": {},
     "output_type": "execute_result"
    }
   ],
   "source": [
    "# Categorize response rates.\n",
    "df_sd['response_cat'] = np.nan\n",
    "df_sd.loc[df_sd['host_response_rate'] <= 100, 'response_cat'] = 'A'\n",
    "df_sd.loc[df_sd['host_response_rate'] < 90, 'response_cat'] = 'B'\n",
    "df_sd.loc[df_sd['host_response_rate'] < 80, 'response_cat'] = 'C or below'\n",
    "df_sd.tail(10)"
   ]
  },
  {
   "cell_type": "code",
   "execution_count": 29,
   "metadata": {
    "colab": {
     "base_uri": "https://localhost:8080/"
    },
    "id": "MvhH2hx0fEhK",
    "outputId": "e8835e0c-2fa1-4470-e81a-c6ac599f0d69"
   },
   "outputs": [
    {
     "data": {
      "text/plain": [
       "1431"
      ]
     },
     "execution_count": 29,
     "metadata": {},
     "output_type": "execute_result"
    }
   ],
   "source": [
    "# Check NaN values in 'host_response_rate'.\n",
    "df_sd['host_response_rate'].isna().sum()"
   ]
  },
  {
   "cell_type": "code",
   "execution_count": 30,
   "metadata": {
    "colab": {
     "base_uri": "https://localhost:8080/"
    },
    "id": "7UsBVnkNiXnZ",
    "outputId": "812a0d8c-f6d1-4990-de49-ef1c149e3b77"
   },
   "outputs": [
    {
     "data": {
      "text/plain": [
       "1431"
      ]
     },
     "execution_count": 30,
     "metadata": {},
     "output_type": "execute_result"
    }
   ],
   "source": [
    "# Check to see if NaN value count in 'host_response_rate' is the same as in 'response_cat'.\n",
    "df_sd['response_cat'].isna().sum()"
   ]
  },
  {
   "cell_type": "code",
   "execution_count": 31,
   "metadata": {
    "colab": {
     "base_uri": "https://localhost:8080/"
    },
    "id": "KH59Sivqj1Rg",
    "outputId": "00ba5205-09a6-489b-aabb-a3a6cc90ce39"
   },
   "outputs": [
    {
     "data": {
      "text/plain": [
       "A             10312\n",
       "C or below      567\n",
       "B               561\n",
       "Name: response_cat, dtype: int64"
      ]
     },
     "execution_count": 31,
     "metadata": {},
     "output_type": "execute_result"
    }
   ],
   "source": [
    "df_sd['response_cat'].value_counts()"
   ]
  },
  {
   "cell_type": "code",
   "execution_count": 32,
   "metadata": {
    "id": "lH_hjcwPkWLL"
   },
   "outputs": [],
   "source": [
    "# Categorize acceptance rates.\n",
    "df_sd['acceptance_cat'] = np.nan\n",
    "df_sd.loc[df_sd['host_acceptance_rate'] <= 100, 'acceptance_cat'] = 'A'\n",
    "df_sd.loc[df_sd['host_acceptance_rate'] < 90, 'acceptance_cat'] = 'B'\n",
    "df_sd.loc[df_sd['host_acceptance_rate'] < 80, 'acceptance_cat'] = 'C or below'"
   ]
  },
  {
   "cell_type": "code",
   "execution_count": 33,
   "metadata": {
    "colab": {
     "base_uri": "https://localhost:8080/"
    },
    "id": "YFXzqmkEklr6",
    "outputId": "14063130-46a8-47b2-8885-c70b5350ee27"
   },
   "outputs": [
    {
     "data": {
      "text/plain": [
       "919"
      ]
     },
     "execution_count": 33,
     "metadata": {},
     "output_type": "execute_result"
    }
   ],
   "source": [
    "df_sd['acceptance_cat'].isna().sum()"
   ]
  },
  {
   "cell_type": "code",
   "execution_count": 34,
   "metadata": {
    "colab": {
     "base_uri": "https://localhost:8080/"
    },
    "id": "GJHHCporkmeO",
    "outputId": "5f235edb-7d4a-4ad1-eb14-c4eae17eeac7"
   },
   "outputs": [
    {
     "data": {
      "text/plain": [
       "A             9368\n",
       "C or below    1743\n",
       "B              841\n",
       "Name: acceptance_cat, dtype: int64"
      ]
     },
     "execution_count": 34,
     "metadata": {},
     "output_type": "execute_result"
    }
   ],
   "source": [
    "df_sd['acceptance_cat'].value_counts()"
   ]
  },
  {
   "cell_type": "markdown",
   "metadata": {
    "id": "bEFVs0lyaY-5"
   },
   "source": [
    "# Superhost, Identity Verification, and Instant Bookability"
   ]
  },
  {
   "cell_type": "code",
   "execution_count": 35,
   "metadata": {
    "colab": {
     "base_uri": "https://localhost:8080/"
    },
    "id": "e1euv0kwYRfw",
    "outputId": "8ea071aa-4c82-403e-b04d-cfee903f3884"
   },
   "outputs": [
    {
     "data": {
      "text/plain": [
       "f    7502\n",
       "t    5362\n",
       "Name: host_is_superhost, dtype: int64"
      ]
     },
     "execution_count": 35,
     "metadata": {},
     "output_type": "execute_result"
    }
   ],
   "source": [
    "df_sd['host_is_superhost'].value_counts()"
   ]
  },
  {
   "cell_type": "code",
   "execution_count": 36,
   "metadata": {
    "colab": {
     "base_uri": "https://localhost:8080/"
    },
    "id": "7eN3rp8rYSHP",
    "outputId": "36d787b3-cf62-44a0-ee98-083e124367ea"
   },
   "outputs": [
    {
     "data": {
      "text/plain": [
       "t    11216\n",
       "f     1652\n",
       "Name: host_identity_verified, dtype: int64"
      ]
     },
     "execution_count": 36,
     "metadata": {},
     "output_type": "execute_result"
    }
   ],
   "source": [
    "df_sd['host_identity_verified'].value_counts()"
   ]
  },
  {
   "cell_type": "code",
   "execution_count": 72,
   "metadata": {},
   "outputs": [
    {
     "data": {
      "text/plain": [
       "t    36675\n",
       "f     6251\n",
       "Name: host_identity_verified, dtype: int64"
      ]
     },
     "execution_count": 72,
     "metadata": {},
     "output_type": "execute_result"
    }
   ],
   "source": [
    "df_nyc['host_identity_verified'].value_counts()"
   ]
  },
  {
   "cell_type": "code",
   "execution_count": 73,
   "metadata": {},
   "outputs": [
    {
     "data": {
      "text/plain": [
       "t    7333\n",
       "f    1215\n",
       "Name: host_identity_verified, dtype: int64"
      ]
     },
     "execution_count": 73,
     "metadata": {},
     "output_type": "execute_result"
    }
   ],
   "source": [
    "df_nash['host_identity_verified'].value_counts()"
   ]
  },
  {
   "cell_type": "code",
   "execution_count": 37,
   "metadata": {
    "colab": {
     "base_uri": "https://localhost:8080/"
    },
    "id": "pYujMY4fYSnA",
    "outputId": "abd0b0cf-c3c9-43b7-a16f-cbaa76357eb3"
   },
   "outputs": [
    {
     "data": {
      "text/plain": [
       "f    8529\n",
       "t    4342\n",
       "Name: instant_bookable, dtype: int64"
      ]
     },
     "execution_count": 37,
     "metadata": {},
     "output_type": "execute_result"
    }
   ],
   "source": [
    "df_sd['instant_bookable'].value_counts()"
   ]
  },
  {
   "cell_type": "code",
   "execution_count": 38,
   "metadata": {
    "id": "U3knz93SZJZ8"
   },
   "outputs": [],
   "source": [
    "# Convert f to 0, t to 1 for all three columns.\n",
    "#df_sd['host_is_superhost'] = df_sd['host_is_superhost'].str.replace('f', '0').str.replace('t', '1').astype(float)\n",
    "#df_sd['host_identity_verified'] = df_sd['host_identity_verified'].str.replace('f', '0').str.replace('t', '1').astype(float)\n",
    "#df_sd['instant_bookable'] = df_sd['instant_bookable'].str.replace('f', '0').str.replace('t', '1').astype(float)"
   ]
  },
  {
   "cell_type": "code",
   "execution_count": 39,
   "metadata": {
    "colab": {
     "base_uri": "https://localhost:8080/"
    },
    "id": "9e5xeeHDZxzz",
    "outputId": "fa7a743f-57ba-476d-ab36-f99079396e48"
   },
   "outputs": [],
   "source": [
    "# Check conversion.\n",
    "#df_sd['host_is_superhost'].value_counts()"
   ]
  },
  {
   "cell_type": "markdown",
   "metadata": {
    "id": "EFctHKOPzwEG"
   },
   "source": [
    "# License"
   ]
  },
  {
   "cell_type": "code",
   "execution_count": 40,
   "metadata": {
    "colab": {
     "base_uri": "https://localhost:8080/"
    },
    "id": "MowpLShjmmmd",
    "outputId": "bd1ad855-ee8b-497d-b310-3f891fe52a33"
   },
   "outputs": [
    {
     "data": {
      "text/plain": [
       "8396"
      ]
     },
     "execution_count": 40,
     "metadata": {},
     "output_type": "execute_result"
    }
   ],
   "source": [
    "df_sd['license'].isna().sum()"
   ]
  },
  {
   "cell_type": "code",
   "execution_count": 41,
   "metadata": {
    "colab": {
     "base_uri": "https://localhost:8080/"
    },
    "id": "diiRdN6imx19",
    "outputId": "c969c8a7-a712-4e79-c8c2-ce68283b3a83"
   },
   "outputs": [
    {
     "data": {
      "text/plain": [
       "Exempt        486\n",
       "STR-04116L     10\n",
       "STR-01956L      9\n",
       "STR-02689L      8\n",
       "STR-05270L      7\n",
       "             ... \n",
       "STR-00053L      1\n",
       "STR-02071L      1\n",
       "STR-06348L      1\n",
       "STR-03106L      1\n",
       "STR-00892L      1\n",
       "Name: license, Length: 3461, dtype: int64"
      ]
     },
     "execution_count": 41,
     "metadata": {},
     "output_type": "execute_result"
    }
   ],
   "source": [
    "df_sd['license'].value_counts()"
   ]
  },
  {
   "cell_type": "code",
   "execution_count": 42,
   "metadata": {
    "id": "oe_zrto4z2xy"
   },
   "outputs": [],
   "source": [
    "# Drop 'license' column from df because there are too many Nan values, and unknown whether the information is missing or whether those rentals don't have a license.\n",
    "df_sd = df_sd.drop(columns=['license'])"
   ]
  },
  {
   "cell_type": "code",
   "execution_count": 43,
   "metadata": {
    "colab": {
     "base_uri": "https://localhost:8080/"
    },
    "id": "C2wupsVsz-Z4",
    "outputId": "66b4fbd7-1f7f-424c-c712-b05ba4e9828f"
   },
   "outputs": [
    {
     "name": "stdout",
     "output_type": "stream",
     "text": [
      "<class 'pandas.core.frame.DataFrame'>\n",
      "RangeIndex: 12871 entries, 0 to 12870\n",
      "Data columns (total 38 columns):\n",
      " #   Column                       Non-Null Count  Dtype  \n",
      "---  ------                       --------------  -----  \n",
      " 0   id                           12871 non-null  int64  \n",
      " 1   description                  12793 non-null  object \n",
      " 2   host_id                      12871 non-null  int64  \n",
      " 3   host_response_rate           11440 non-null  float64\n",
      " 4   host_acceptance_rate         11952 non-null  float64\n",
      " 5   host_is_superhost            12864 non-null  object \n",
      " 6   host_total_listings_count    12868 non-null  float64\n",
      " 7   host_identity_verified       12868 non-null  object \n",
      " 8   neighbourhood_cleansed       12871 non-null  object \n",
      " 9   latitude                     12871 non-null  float64\n",
      " 10  longitude                    12871 non-null  float64\n",
      " 11  room_type                    12871 non-null  object \n",
      " 12  accommodates                 12871 non-null  int64  \n",
      " 13  bathrooms_text               12866 non-null  object \n",
      " 14  bedrooms                     11774 non-null  float64\n",
      " 15  beds                         12707 non-null  float64\n",
      " 16  price                        12871 non-null  float64\n",
      " 17  minimum_nights               12871 non-null  int64  \n",
      " 18  maximum_nights               12871 non-null  int64  \n",
      " 19  availability_30              12871 non-null  int64  \n",
      " 20  availability_60              12871 non-null  int64  \n",
      " 21  availability_90              12871 non-null  int64  \n",
      " 22  availability_365             12871 non-null  int64  \n",
      " 23  number_of_reviews            12871 non-null  int64  \n",
      " 24  review_scores_rating         10957 non-null  float64\n",
      " 25  review_scores_accuracy       10939 non-null  float64\n",
      " 26  review_scores_cleanliness    10939 non-null  float64\n",
      " 27  review_scores_checkin        10937 non-null  float64\n",
      " 28  review_scores_communication  10939 non-null  float64\n",
      " 29  review_scores_location       10937 non-null  float64\n",
      " 30  review_scores_value          10937 non-null  float64\n",
      " 31  instant_bookable             12871 non-null  object \n",
      " 32  amenities                    12871 non-null  object \n",
      " 33  amenities_count              12871 non-null  int64  \n",
      " 34  amenities_cat                12871 non-null  object \n",
      " 35  bedrooms_cat                 11774 non-null  object \n",
      " 36  response_cat                 11440 non-null  object \n",
      " 37  acceptance_cat               11952 non-null  object \n",
      "dtypes: float64(15), int64(11), object(12)\n",
      "memory usage: 3.7+ MB\n"
     ]
    }
   ],
   "source": [
    "# Preview df info so far.\n",
    "df_sd.info()"
   ]
  },
  {
   "cell_type": "markdown",
   "metadata": {
    "id": "kfRewLxh0qg8"
   },
   "source": [
    "# Bathrooms"
   ]
  },
  {
   "cell_type": "code",
   "execution_count": 44,
   "metadata": {
    "colab": {
     "base_uri": "https://localhost:8080/"
    },
    "id": "77vfvwTo0pMF",
    "outputId": "806ccfdb-986f-4274-ae69-b6c0d3fe7341"
   },
   "outputs": [
    {
     "data": {
      "text/plain": [
       "1 bath              6028\n",
       "2 baths             2587\n",
       "1 private bath       799\n",
       "1 shared bath        748\n",
       "3 baths              741\n",
       "2.5 baths            623\n",
       "1.5 baths            363\n",
       "4 baths              208\n",
       "3.5 baths            179\n",
       "1.5 shared baths     131\n",
       "5 baths               78\n",
       "2 shared baths        74\n",
       "4.5 baths             72\n",
       "6 baths               32\n",
       "5.5 baths             31\n",
       "5 shared baths        29\n",
       "0 shared baths        24\n",
       "0 baths               17\n",
       "6.5 baths             13\n",
       "7 baths               13\n",
       "2.5 shared baths      11\n",
       "3 shared baths         9\n",
       "8 baths                8\n",
       "6.5 shared baths       8\n",
       "8.5 baths              5\n",
       "Half-bath              4\n",
       "6 shared baths         4\n",
       "4 shared baths         3\n",
       "4.5 shared baths       3\n",
       "8 shared baths         2\n",
       "11 baths               2\n",
       "10 baths               2\n",
       "7.5 baths              2\n",
       "9 baths                2\n",
       "Shared half-bath       2\n",
       "3.5 shared baths       1\n",
       "33.5 baths             1\n",
       "14 baths               1\n",
       "9.5 baths              1\n",
       "5.5 shared baths       1\n",
       "27.5 baths             1\n",
       "23 baths               1\n",
       "12.5 baths             1\n",
       "20 baths               1\n",
       "Name: bathrooms_text, dtype: int64"
      ]
     },
     "execution_count": 44,
     "metadata": {},
     "output_type": "execute_result"
    }
   ],
   "source": [
    "df_sd['bathrooms_text'].value_counts()"
   ]
  },
  {
   "cell_type": "code",
   "execution_count": 45,
   "metadata": {
    "id": "h2pbkZUu1MP8"
   },
   "outputs": [],
   "source": [
    "# Remove all wording from bathroom information. Replace half bathrooms with 0.5.\n",
    "df_sd['bathrooms_text'] = df_sd['bathrooms_text'].str.replace('Shared half-bath', '0.5')\n",
    "df_sd['bathrooms_text'] = df_sd['bathrooms_text'].str.replace('Half-bath', '0.5')\n",
    "df_sd['bathrooms_text'] = df_sd['bathrooms_text'].str.replace('shared', '')\n",
    "df_sd['bathrooms_text'] = df_sd['bathrooms_text'].str.replace('baths', '')\n",
    "df_sd['bathrooms_text'] = df_sd['bathrooms_text'].str.replace('bath', '')\n",
    "df_sd['bathrooms_text'] = df_sd['bathrooms_text'].str.replace('private', '')\n",
    "\n",
    "# Convert data type to float.\n",
    "df_sd['bathrooms_text'] = df_sd['bathrooms_text'].astype(float)"
   ]
  },
  {
   "cell_type": "code",
   "execution_count": 46,
   "metadata": {
    "colab": {
     "base_uri": "https://localhost:8080/"
    },
    "id": "ymkPqi952xdy",
    "outputId": "d0be237a-b269-4737-f3a0-a4c7c6e91983"
   },
   "outputs": [
    {
     "data": {
      "text/plain": [
       "1.0     7575\n",
       "2.0     2661\n",
       "3.0      750\n",
       "2.5      634\n",
       "1.5      494\n",
       "4.0      211\n",
       "3.5      180\n",
       "5.0      107\n",
       "4.5       75\n",
       "0.0       41\n",
       "6.0       36\n",
       "5.5       32\n",
       "6.5       21\n",
       "7.0       13\n",
       "8.0       10\n",
       "0.5        6\n",
       "8.5        5\n",
       "7.5        2\n",
       "11.0       2\n",
       "10.0       2\n",
       "9.0        2\n",
       "14.0       1\n",
       "33.5       1\n",
       "9.5        1\n",
       "27.5       1\n",
       "23.0       1\n",
       "12.5       1\n",
       "20.0       1\n",
       "Name: bathrooms_text, dtype: int64"
      ]
     },
     "execution_count": 46,
     "metadata": {},
     "output_type": "execute_result"
    }
   ],
   "source": [
    "df_sd['bathrooms_text'].value_counts()"
   ]
  },
  {
   "cell_type": "code",
   "execution_count": 47,
   "metadata": {
    "id": "ODFwPt1W5Tia"
   },
   "outputs": [],
   "source": [
    "# Loop through each bathrooms row and bin them together accordingly.\n",
    "df_sd['bathrooms_cat'] = df_sd['bathrooms_text']\n",
    "\n",
    "for i in df_sd['bathrooms_cat']:\n",
    "\n",
    "    if i == 0:\n",
    "        df_sd['bathrooms_cat'] = df_sd['bathrooms_cat'].replace(i, '0')\n",
    "\n",
    "    elif 0 < i <= 1:\n",
    "        df_sd['bathrooms_cat'] = df_sd['bathrooms_cat'].replace(i, '1')\n",
    "\n",
    "    elif 1 < i <= 2:\n",
    "        df_sd['bathrooms_cat'] = df_sd['bathrooms_cat'].replace(i, '2')\n",
    "\n",
    "    elif 2 < i <= 3:\n",
    "        df_sd['bathrooms_cat'] = df_sd['bathrooms_cat'].replace(i, '3')\n",
    "\n",
    "    else:\n",
    "        df_sd['bathrooms_cat'] = df_sd['bathrooms_cat'].replace(i, '4 or more')"
   ]
  },
  {
   "cell_type": "code",
   "execution_count": 48,
   "metadata": {
    "colab": {
     "base_uri": "https://localhost:8080/"
    },
    "id": "m8vxHz_J6s4w",
    "outputId": "386b97ff-8140-4bc8-d8c5-e5d28b377615"
   },
   "outputs": [
    {
     "data": {
      "text/plain": [
       "1            7581\n",
       "2            3155\n",
       "3            1384\n",
       "4 or more     710\n",
       "0              41\n",
       "Name: bathrooms_cat, dtype: int64"
      ]
     },
     "execution_count": 48,
     "metadata": {},
     "output_type": "execute_result"
    }
   ],
   "source": [
    "df_sd['bathrooms_cat'].value_counts()"
   ]
  },
  {
   "cell_type": "markdown",
   "metadata": {
    "id": "RchrItDAEEP0"
   },
   "source": [
    "# Min Nights"
   ]
  },
  {
   "cell_type": "code",
   "execution_count": 49,
   "metadata": {
    "colab": {
     "base_uri": "https://localhost:8080/"
    },
    "id": "L-0YgEi4EBxi",
    "outputId": "bc05f9b2-b596-4904-d369-61311c224b7f"
   },
   "outputs": [
    {
     "data": {
      "text/plain": [
       "2     3761\n",
       "1     3117\n",
       "3     2570\n",
       "30     908\n",
       "4      577\n",
       "31     560\n",
       "7      338\n",
       "5      314\n",
       "28     125\n",
       "14     102\n",
       "Name: minimum_nights, dtype: int64"
      ]
     },
     "execution_count": 49,
     "metadata": {},
     "output_type": "execute_result"
    }
   ],
   "source": [
    "df_sd['minimum_nights'].value_counts().head(10)"
   ]
  },
  {
   "cell_type": "code",
   "execution_count": 69,
   "metadata": {},
   "outputs": [
    {
     "data": {
      "text/plain": [
       "2     3612\n",
       "1     2812\n",
       "30     916\n",
       "3      858\n",
       "31     106\n",
       "4       47\n",
       "5       36\n",
       "28      33\n",
       "7       24\n",
       "90      18\n",
       "Name: minimum_nights, dtype: int64"
      ]
     },
     "execution_count": 69,
     "metadata": {},
     "output_type": "execute_result"
    }
   ],
   "source": [
    "df_nash['minimum_nights'].value_counts().head(10)"
   ]
  },
  {
   "cell_type": "code",
   "execution_count": 70,
   "metadata": {},
   "outputs": [
    {
     "data": {
      "text/plain": [
       "30    18235\n",
       "1      7946\n",
       "2      5524\n",
       "3      3814\n",
       "5      1499\n",
       "4      1422\n",
       "7       922\n",
       "31      786\n",
       "90      472\n",
       "6       370\n",
       "Name: minimum_nights, dtype: int64"
      ]
     },
     "execution_count": 70,
     "metadata": {},
     "output_type": "execute_result"
    }
   ],
   "source": [
    "df_nyc['minimum_nights'].value_counts().head(10)"
   ]
  },
  {
   "cell_type": "code",
   "execution_count": 71,
   "metadata": {},
   "outputs": [
    {
     "data": {
      "text/plain": [
       "2     1746\n",
       "30    1553\n",
       "1     1427\n",
       "3      689\n",
       "31     426\n",
       "5      102\n",
       "4       99\n",
       "7       84\n",
       "10      58\n",
       "6       41\n",
       "Name: minimum_nights, dtype: int64"
      ]
     },
     "execution_count": 71,
     "metadata": {},
     "output_type": "execute_result"
    }
   ],
   "source": [
    "df_sea['minimum_nights'].value_counts().head(10)"
   ]
  },
  {
   "cell_type": "code",
   "execution_count": 50,
   "metadata": {
    "id": "W8DvdC5VHV0H"
   },
   "outputs": [],
   "source": [
    "# Loop through each row and bin them together accordingly.\n",
    "df_sd['min_cat'] = df_sd['minimum_nights']\n",
    "\n",
    "for i in df_sd['min_cat']:\n",
    "\n",
    "    if 3 < i <= 7:\n",
    "        df_sd['min_cat'] = df_sd['min_cat'].replace(i, '4-7')\n",
    "\n",
    "    elif 7 < i <= 14:\n",
    "        df_sd['min_cat'] = df_sd['min_cat'].replace(i, '8-14')\n",
    "\n",
    "    elif 14 < i <= 31:\n",
    "        df_sd['min_cat'] = df_sd['min_cat'].replace(i, '15-31')\n",
    "\n",
    "    elif 31 < i:\n",
    "        df_sd['min_cat'] = df_sd['min_cat'].replace(i, 'More than a month')"
   ]
  },
  {
   "cell_type": "code",
   "execution_count": 51,
   "metadata": {
    "colab": {
     "base_uri": "https://localhost:8080/"
    },
    "id": "hhst4I88Jm6B",
    "outputId": "70a6f9ce-e35f-46d5-c70b-1dc113fada48"
   },
   "outputs": [
    {
     "data": {
      "text/plain": [
       "2                    3761\n",
       "1                    3117\n",
       "3                    2570\n",
       "15-31                1753\n",
       "4-7                  1296\n",
       "More than a month     195\n",
       "8-14                  179\n",
       "Name: min_cat, dtype: int64"
      ]
     },
     "execution_count": 51,
     "metadata": {},
     "output_type": "execute_result"
    }
   ],
   "source": [
    "df_sd['min_cat'].value_counts()"
   ]
  },
  {
   "cell_type": "markdown",
   "metadata": {
    "id": "0XrYGYOZEHyU"
   },
   "source": [
    "# Max Nights"
   ]
  },
  {
   "cell_type": "code",
   "execution_count": 52,
   "metadata": {
    "colab": {
     "base_uri": "https://localhost:8080/"
    },
    "id": "BbEacUv68GVZ",
    "outputId": "ea4d1392-876a-4de0-f5e1-be1544a66dd5"
   },
   "outputs": [
    {
     "data": {
      "text/plain": [
       "1125    3890\n",
       "365     3586\n",
       "28       884\n",
       "30       600\n",
       "90       505\n",
       "29       298\n",
       "14       282\n",
       "60       270\n",
       "7        267\n",
       "180      257\n",
       "31       141\n",
       "21       134\n",
       "120      113\n",
       "10       107\n",
       "15        95\n",
       "27        83\n",
       "999       83\n",
       "45        80\n",
       "5         77\n",
       "4         62\n",
       "Name: maximum_nights, dtype: int64"
      ]
     },
     "execution_count": 52,
     "metadata": {},
     "output_type": "execute_result"
    }
   ],
   "source": [
    "df_sd['maximum_nights'].value_counts().head(20)"
   ]
  },
  {
   "cell_type": "markdown",
   "metadata": {},
   "source": [
    "# Beginning of Jupyter Notebook"
   ]
  },
  {
   "cell_type": "code",
   "execution_count": 68,
   "metadata": {},
   "outputs": [],
   "source": [
    "import hvplot.pandas\n",
    "from sklearn.preprocessing import StandardScaler,OneHotEncoder\n",
    "from sklearn.decomposition import PCA"
   ]
  },
  {
   "cell_type": "code",
   "execution_count": 54,
   "metadata": {},
   "outputs": [
    {
     "data": {
      "text/plain": [
       "Index(['id', 'description', 'host_id', 'host_response_rate',\n",
       "       'host_acceptance_rate', 'host_is_superhost',\n",
       "       'host_total_listings_count', 'host_identity_verified',\n",
       "       'neighbourhood_cleansed', 'latitude', 'longitude', 'room_type',\n",
       "       'accommodates', 'bathrooms_text', 'bedrooms', 'beds', 'price',\n",
       "       'minimum_nights', 'maximum_nights', 'availability_30',\n",
       "       'availability_60', 'availability_90', 'availability_365',\n",
       "       'number_of_reviews', 'review_scores_rating', 'review_scores_accuracy',\n",
       "       'review_scores_cleanliness', 'review_scores_checkin',\n",
       "       'review_scores_communication', 'review_scores_location',\n",
       "       'review_scores_value', 'instant_bookable', 'amenities',\n",
       "       'amenities_count', 'amenities_cat', 'bedrooms_cat', 'response_cat',\n",
       "       'acceptance_cat', 'bathrooms_cat', 'min_cat'],\n",
       "      dtype='object')"
      ]
     },
     "execution_count": 54,
     "metadata": {},
     "output_type": "execute_result"
    }
   ],
   "source": [
    "df_sd.columns"
   ]
  },
  {
   "cell_type": "code",
   "execution_count": 55,
   "metadata": {},
   "outputs": [],
   "source": [
    "# Drop all columns not necessary for ML.\n",
    "ml_df_sd = df_sd.drop(columns=['id', 'description', 'host_id', 'host_response_rate', 'host_acceptance_rate', \n",
    "                               'host_total_listings_count', 'latitude', 'longitude', 'bathrooms_text', \n",
    "                               'bedrooms', 'minimum_nights', 'maximum_nights', 'availability_30', \n",
    "                               'availability_90', 'availability_365', 'amenities', 'amenities_count', \n",
    "                               'response_cat', 'acceptance_cat'])"
   ]
  },
  {
   "cell_type": "code",
   "execution_count": 56,
   "metadata": {},
   "outputs": [
    {
     "name": "stdout",
     "output_type": "stream",
     "text": [
      "<class 'pandas.core.frame.DataFrame'>\n",
      "RangeIndex: 12871 entries, 0 to 12870\n",
      "Data columns (total 21 columns):\n",
      " #   Column                       Non-Null Count  Dtype  \n",
      "---  ------                       --------------  -----  \n",
      " 0   host_is_superhost            12864 non-null  object \n",
      " 1   host_identity_verified       12868 non-null  object \n",
      " 2   neighbourhood_cleansed       12871 non-null  object \n",
      " 3   room_type                    12871 non-null  object \n",
      " 4   accommodates                 12871 non-null  int64  \n",
      " 5   beds                         12707 non-null  float64\n",
      " 6   price                        12871 non-null  float64\n",
      " 7   availability_60              12871 non-null  int64  \n",
      " 8   number_of_reviews            12871 non-null  int64  \n",
      " 9   review_scores_rating         10957 non-null  float64\n",
      " 10  review_scores_accuracy       10939 non-null  float64\n",
      " 11  review_scores_cleanliness    10939 non-null  float64\n",
      " 12  review_scores_checkin        10937 non-null  float64\n",
      " 13  review_scores_communication  10939 non-null  float64\n",
      " 14  review_scores_location       10937 non-null  float64\n",
      " 15  review_scores_value          10937 non-null  float64\n",
      " 16  instant_bookable             12871 non-null  object \n",
      " 17  amenities_cat                12871 non-null  object \n",
      " 18  bedrooms_cat                 11774 non-null  object \n",
      " 19  bathrooms_cat                12871 non-null  object \n",
      " 20  min_cat                      12871 non-null  object \n",
      "dtypes: float64(9), int64(3), object(9)\n",
      "memory usage: 2.1+ MB\n"
     ]
    }
   ],
   "source": [
    "ml_df_sd.info()"
   ]
  },
  {
   "cell_type": "code",
   "execution_count": 57,
   "metadata": {},
   "outputs": [
    {
     "data": {
      "text/html": [
       "<div>\n",
       "<style scoped>\n",
       "    .dataframe tbody tr th:only-of-type {\n",
       "        vertical-align: middle;\n",
       "    }\n",
       "\n",
       "    .dataframe tbody tr th {\n",
       "        vertical-align: top;\n",
       "    }\n",
       "\n",
       "    .dataframe thead th {\n",
       "        text-align: right;\n",
       "    }\n",
       "</style>\n",
       "<table border=\"1\" class=\"dataframe\">\n",
       "  <thead>\n",
       "    <tr style=\"text-align: right;\">\n",
       "      <th></th>\n",
       "      <th>host_is_superhost</th>\n",
       "      <th>host_identity_verified</th>\n",
       "      <th>neighbourhood_cleansed</th>\n",
       "      <th>room_type</th>\n",
       "      <th>accommodates</th>\n",
       "      <th>beds</th>\n",
       "      <th>price</th>\n",
       "      <th>availability_60</th>\n",
       "      <th>number_of_reviews</th>\n",
       "      <th>review_scores_rating</th>\n",
       "      <th>...</th>\n",
       "      <th>review_scores_communication</th>\n",
       "      <th>review_scores_location</th>\n",
       "      <th>review_scores_value</th>\n",
       "      <th>instant_bookable</th>\n",
       "      <th>amenities_cat</th>\n",
       "      <th>bedrooms_cat</th>\n",
       "      <th>bathrooms_cat</th>\n",
       "      <th>min_cat</th>\n",
       "      <th>revenue</th>\n",
       "      <th>revenue_per_bed</th>\n",
       "    </tr>\n",
       "  </thead>\n",
       "  <tbody>\n",
       "    <tr>\n",
       "      <th>0</th>\n",
       "      <td>t</td>\n",
       "      <td>f</td>\n",
       "      <td>La Jolla</td>\n",
       "      <td>Entire home/apt</td>\n",
       "      <td>4</td>\n",
       "      <td>3.0</td>\n",
       "      <td>725.0</td>\n",
       "      <td>58</td>\n",
       "      <td>15</td>\n",
       "      <td>4.93</td>\n",
       "      <td>...</td>\n",
       "      <td>5.0</td>\n",
       "      <td>5.0</td>\n",
       "      <td>4.71</td>\n",
       "      <td>f</td>\n",
       "      <td>luxury</td>\n",
       "      <td>3.0</td>\n",
       "      <td>2</td>\n",
       "      <td>3</td>\n",
       "      <td>1450.0</td>\n",
       "      <td>483.333333</td>\n",
       "    </tr>\n",
       "  </tbody>\n",
       "</table>\n",
       "<p>1 rows × 23 columns</p>\n",
       "</div>"
      ],
      "text/plain": [
       "  host_is_superhost host_identity_verified neighbourhood_cleansed  \\\n",
       "0                 t                      f               La Jolla   \n",
       "\n",
       "         room_type  accommodates  beds  price  availability_60  \\\n",
       "0  Entire home/apt             4   3.0  725.0               58   \n",
       "\n",
       "   number_of_reviews  review_scores_rating  ...  review_scores_communication  \\\n",
       "0                 15                  4.93  ...                          5.0   \n",
       "\n",
       "   review_scores_location  review_scores_value  instant_bookable  \\\n",
       "0                     5.0                 4.71                 f   \n",
       "\n",
       "   amenities_cat  bedrooms_cat bathrooms_cat min_cat revenue revenue_per_bed  \n",
       "0         luxury           3.0             2       3  1450.0      483.333333  \n",
       "\n",
       "[1 rows x 23 columns]"
      ]
     },
     "execution_count": 57,
     "metadata": {},
     "output_type": "execute_result"
    }
   ],
   "source": [
    "# Create revenue column for 60 days out.\n",
    "ml_df_sd[\"revenue\"] = (60 - ml_df_sd['availability_60']) * ml_df_sd['price']\n",
    "\n",
    "# Create revenue per bed column for 60 days out.\n",
    "ml_df_sd['revenue_per_bed'] = ml_df_sd['revenue'] / ml_df_sd['beds']\n",
    "\n",
    "ml_df_sd.head(1)"
   ]
  },
  {
   "cell_type": "code",
   "execution_count": 58,
   "metadata": {},
   "outputs": [
    {
     "data": {
      "text/html": [
       "<div>\n",
       "<style scoped>\n",
       "    .dataframe tbody tr th:only-of-type {\n",
       "        vertical-align: middle;\n",
       "    }\n",
       "\n",
       "    .dataframe tbody tr th {\n",
       "        vertical-align: top;\n",
       "    }\n",
       "\n",
       "    .dataframe thead th {\n",
       "        text-align: right;\n",
       "    }\n",
       "</style>\n",
       "<table border=\"1\" class=\"dataframe\">\n",
       "  <thead>\n",
       "    <tr style=\"text-align: right;\">\n",
       "      <th></th>\n",
       "      <th>host_is_superhost_f</th>\n",
       "      <th>host_is_superhost_t</th>\n",
       "      <th>host_identity_verified_f</th>\n",
       "      <th>host_identity_verified_t</th>\n",
       "      <th>neighbourhood_cleansed_Allied Gardens</th>\n",
       "      <th>neighbourhood_cleansed_Alta Vista</th>\n",
       "      <th>neighbourhood_cleansed_Amphitheater And Water Park</th>\n",
       "      <th>neighbourhood_cleansed_Balboa Park</th>\n",
       "      <th>neighbourhood_cleansed_Bario Logan</th>\n",
       "      <th>neighbourhood_cleansed_Bay Ho</th>\n",
       "      <th>...</th>\n",
       "      <th>bathrooms_cat_2</th>\n",
       "      <th>bathrooms_cat_3</th>\n",
       "      <th>bathrooms_cat_4 or more</th>\n",
       "      <th>min_cat_1</th>\n",
       "      <th>min_cat_2</th>\n",
       "      <th>min_cat_3</th>\n",
       "      <th>min_cat_15-31</th>\n",
       "      <th>min_cat_4-7</th>\n",
       "      <th>min_cat_8-14</th>\n",
       "      <th>min_cat_More than a month</th>\n",
       "    </tr>\n",
       "  </thead>\n",
       "  <tbody>\n",
       "    <tr>\n",
       "      <th>0</th>\n",
       "      <td>0</td>\n",
       "      <td>1</td>\n",
       "      <td>1</td>\n",
       "      <td>0</td>\n",
       "      <td>0</td>\n",
       "      <td>0</td>\n",
       "      <td>0</td>\n",
       "      <td>0</td>\n",
       "      <td>0</td>\n",
       "      <td>0</td>\n",
       "      <td>...</td>\n",
       "      <td>1</td>\n",
       "      <td>0</td>\n",
       "      <td>0</td>\n",
       "      <td>0</td>\n",
       "      <td>0</td>\n",
       "      <td>1</td>\n",
       "      <td>0</td>\n",
       "      <td>0</td>\n",
       "      <td>0</td>\n",
       "      <td>0</td>\n",
       "    </tr>\n",
       "    <tr>\n",
       "      <th>1</th>\n",
       "      <td>1</td>\n",
       "      <td>0</td>\n",
       "      <td>0</td>\n",
       "      <td>1</td>\n",
       "      <td>0</td>\n",
       "      <td>0</td>\n",
       "      <td>0</td>\n",
       "      <td>0</td>\n",
       "      <td>0</td>\n",
       "      <td>0</td>\n",
       "      <td>...</td>\n",
       "      <td>1</td>\n",
       "      <td>0</td>\n",
       "      <td>0</td>\n",
       "      <td>0</td>\n",
       "      <td>0</td>\n",
       "      <td>0</td>\n",
       "      <td>0</td>\n",
       "      <td>0</td>\n",
       "      <td>1</td>\n",
       "      <td>0</td>\n",
       "    </tr>\n",
       "    <tr>\n",
       "      <th>2</th>\n",
       "      <td>1</td>\n",
       "      <td>0</td>\n",
       "      <td>0</td>\n",
       "      <td>1</td>\n",
       "      <td>0</td>\n",
       "      <td>0</td>\n",
       "      <td>0</td>\n",
       "      <td>0</td>\n",
       "      <td>0</td>\n",
       "      <td>0</td>\n",
       "      <td>...</td>\n",
       "      <td>1</td>\n",
       "      <td>0</td>\n",
       "      <td>0</td>\n",
       "      <td>0</td>\n",
       "      <td>0</td>\n",
       "      <td>0</td>\n",
       "      <td>0</td>\n",
       "      <td>1</td>\n",
       "      <td>0</td>\n",
       "      <td>0</td>\n",
       "    </tr>\n",
       "    <tr>\n",
       "      <th>3</th>\n",
       "      <td>1</td>\n",
       "      <td>0</td>\n",
       "      <td>0</td>\n",
       "      <td>1</td>\n",
       "      <td>0</td>\n",
       "      <td>0</td>\n",
       "      <td>0</td>\n",
       "      <td>0</td>\n",
       "      <td>0</td>\n",
       "      <td>0</td>\n",
       "      <td>...</td>\n",
       "      <td>0</td>\n",
       "      <td>0</td>\n",
       "      <td>1</td>\n",
       "      <td>0</td>\n",
       "      <td>0</td>\n",
       "      <td>1</td>\n",
       "      <td>0</td>\n",
       "      <td>0</td>\n",
       "      <td>0</td>\n",
       "      <td>0</td>\n",
       "    </tr>\n",
       "    <tr>\n",
       "      <th>4</th>\n",
       "      <td>1</td>\n",
       "      <td>0</td>\n",
       "      <td>0</td>\n",
       "      <td>1</td>\n",
       "      <td>0</td>\n",
       "      <td>0</td>\n",
       "      <td>0</td>\n",
       "      <td>0</td>\n",
       "      <td>0</td>\n",
       "      <td>0</td>\n",
       "      <td>...</td>\n",
       "      <td>0</td>\n",
       "      <td>0</td>\n",
       "      <td>1</td>\n",
       "      <td>0</td>\n",
       "      <td>0</td>\n",
       "      <td>1</td>\n",
       "      <td>0</td>\n",
       "      <td>0</td>\n",
       "      <td>0</td>\n",
       "      <td>0</td>\n",
       "    </tr>\n",
       "    <tr>\n",
       "      <th>...</th>\n",
       "      <td>...</td>\n",
       "      <td>...</td>\n",
       "      <td>...</td>\n",
       "      <td>...</td>\n",
       "      <td>...</td>\n",
       "      <td>...</td>\n",
       "      <td>...</td>\n",
       "      <td>...</td>\n",
       "      <td>...</td>\n",
       "      <td>...</td>\n",
       "      <td>...</td>\n",
       "      <td>...</td>\n",
       "      <td>...</td>\n",
       "      <td>...</td>\n",
       "      <td>...</td>\n",
       "      <td>...</td>\n",
       "      <td>...</td>\n",
       "      <td>...</td>\n",
       "      <td>...</td>\n",
       "      <td>...</td>\n",
       "      <td>...</td>\n",
       "    </tr>\n",
       "    <tr>\n",
       "      <th>12866</th>\n",
       "      <td>1</td>\n",
       "      <td>0</td>\n",
       "      <td>0</td>\n",
       "      <td>1</td>\n",
       "      <td>0</td>\n",
       "      <td>0</td>\n",
       "      <td>0</td>\n",
       "      <td>0</td>\n",
       "      <td>0</td>\n",
       "      <td>0</td>\n",
       "      <td>...</td>\n",
       "      <td>1</td>\n",
       "      <td>0</td>\n",
       "      <td>0</td>\n",
       "      <td>0</td>\n",
       "      <td>1</td>\n",
       "      <td>0</td>\n",
       "      <td>0</td>\n",
       "      <td>0</td>\n",
       "      <td>0</td>\n",
       "      <td>0</td>\n",
       "    </tr>\n",
       "    <tr>\n",
       "      <th>12867</th>\n",
       "      <td>1</td>\n",
       "      <td>0</td>\n",
       "      <td>0</td>\n",
       "      <td>1</td>\n",
       "      <td>0</td>\n",
       "      <td>0</td>\n",
       "      <td>0</td>\n",
       "      <td>0</td>\n",
       "      <td>0</td>\n",
       "      <td>0</td>\n",
       "      <td>...</td>\n",
       "      <td>0</td>\n",
       "      <td>0</td>\n",
       "      <td>1</td>\n",
       "      <td>0</td>\n",
       "      <td>0</td>\n",
       "      <td>1</td>\n",
       "      <td>0</td>\n",
       "      <td>0</td>\n",
       "      <td>0</td>\n",
       "      <td>0</td>\n",
       "    </tr>\n",
       "    <tr>\n",
       "      <th>12868</th>\n",
       "      <td>1</td>\n",
       "      <td>0</td>\n",
       "      <td>0</td>\n",
       "      <td>1</td>\n",
       "      <td>0</td>\n",
       "      <td>0</td>\n",
       "      <td>0</td>\n",
       "      <td>0</td>\n",
       "      <td>0</td>\n",
       "      <td>0</td>\n",
       "      <td>...</td>\n",
       "      <td>0</td>\n",
       "      <td>0</td>\n",
       "      <td>1</td>\n",
       "      <td>0</td>\n",
       "      <td>0</td>\n",
       "      <td>1</td>\n",
       "      <td>0</td>\n",
       "      <td>0</td>\n",
       "      <td>0</td>\n",
       "      <td>0</td>\n",
       "    </tr>\n",
       "    <tr>\n",
       "      <th>12869</th>\n",
       "      <td>1</td>\n",
       "      <td>0</td>\n",
       "      <td>0</td>\n",
       "      <td>1</td>\n",
       "      <td>0</td>\n",
       "      <td>0</td>\n",
       "      <td>0</td>\n",
       "      <td>0</td>\n",
       "      <td>0</td>\n",
       "      <td>0</td>\n",
       "      <td>...</td>\n",
       "      <td>0</td>\n",
       "      <td>0</td>\n",
       "      <td>0</td>\n",
       "      <td>0</td>\n",
       "      <td>0</td>\n",
       "      <td>1</td>\n",
       "      <td>0</td>\n",
       "      <td>0</td>\n",
       "      <td>0</td>\n",
       "      <td>0</td>\n",
       "    </tr>\n",
       "    <tr>\n",
       "      <th>12870</th>\n",
       "      <td>1</td>\n",
       "      <td>0</td>\n",
       "      <td>0</td>\n",
       "      <td>1</td>\n",
       "      <td>0</td>\n",
       "      <td>0</td>\n",
       "      <td>0</td>\n",
       "      <td>1</td>\n",
       "      <td>0</td>\n",
       "      <td>0</td>\n",
       "      <td>...</td>\n",
       "      <td>0</td>\n",
       "      <td>0</td>\n",
       "      <td>0</td>\n",
       "      <td>0</td>\n",
       "      <td>0</td>\n",
       "      <td>0</td>\n",
       "      <td>1</td>\n",
       "      <td>0</td>\n",
       "      <td>0</td>\n",
       "      <td>0</td>\n",
       "    </tr>\n",
       "  </tbody>\n",
       "</table>\n",
       "<p>12871 rows × 133 columns</p>\n",
       "</div>"
      ],
      "text/plain": [
       "       host_is_superhost_f  host_is_superhost_t  host_identity_verified_f  \\\n",
       "0                        0                    1                         1   \n",
       "1                        1                    0                         0   \n",
       "2                        1                    0                         0   \n",
       "3                        1                    0                         0   \n",
       "4                        1                    0                         0   \n",
       "...                    ...                  ...                       ...   \n",
       "12866                    1                    0                         0   \n",
       "12867                    1                    0                         0   \n",
       "12868                    1                    0                         0   \n",
       "12869                    1                    0                         0   \n",
       "12870                    1                    0                         0   \n",
       "\n",
       "       host_identity_verified_t  neighbourhood_cleansed_Allied Gardens  \\\n",
       "0                             0                                      0   \n",
       "1                             1                                      0   \n",
       "2                             1                                      0   \n",
       "3                             1                                      0   \n",
       "4                             1                                      0   \n",
       "...                         ...                                    ...   \n",
       "12866                         1                                      0   \n",
       "12867                         1                                      0   \n",
       "12868                         1                                      0   \n",
       "12869                         1                                      0   \n",
       "12870                         1                                      0   \n",
       "\n",
       "       neighbourhood_cleansed_Alta Vista  \\\n",
       "0                                      0   \n",
       "1                                      0   \n",
       "2                                      0   \n",
       "3                                      0   \n",
       "4                                      0   \n",
       "...                                  ...   \n",
       "12866                                  0   \n",
       "12867                                  0   \n",
       "12868                                  0   \n",
       "12869                                  0   \n",
       "12870                                  0   \n",
       "\n",
       "       neighbourhood_cleansed_Amphitheater And Water Park  \\\n",
       "0                                                      0    \n",
       "1                                                      0    \n",
       "2                                                      0    \n",
       "3                                                      0    \n",
       "4                                                      0    \n",
       "...                                                  ...    \n",
       "12866                                                  0    \n",
       "12867                                                  0    \n",
       "12868                                                  0    \n",
       "12869                                                  0    \n",
       "12870                                                  0    \n",
       "\n",
       "       neighbourhood_cleansed_Balboa Park  neighbourhood_cleansed_Bario Logan  \\\n",
       "0                                       0                                   0   \n",
       "1                                       0                                   0   \n",
       "2                                       0                                   0   \n",
       "3                                       0                                   0   \n",
       "4                                       0                                   0   \n",
       "...                                   ...                                 ...   \n",
       "12866                                   0                                   0   \n",
       "12867                                   0                                   0   \n",
       "12868                                   0                                   0   \n",
       "12869                                   0                                   0   \n",
       "12870                                   1                                   0   \n",
       "\n",
       "       neighbourhood_cleansed_Bay Ho  ...  bathrooms_cat_2  bathrooms_cat_3  \\\n",
       "0                                  0  ...                1                0   \n",
       "1                                  0  ...                1                0   \n",
       "2                                  0  ...                1                0   \n",
       "3                                  0  ...                0                0   \n",
       "4                                  0  ...                0                0   \n",
       "...                              ...  ...              ...              ...   \n",
       "12866                              0  ...                1                0   \n",
       "12867                              0  ...                0                0   \n",
       "12868                              0  ...                0                0   \n",
       "12869                              0  ...                0                0   \n",
       "12870                              0  ...                0                0   \n",
       "\n",
       "       bathrooms_cat_4 or more  min_cat_1  min_cat_2  min_cat_3  \\\n",
       "0                            0          0          0          1   \n",
       "1                            0          0          0          0   \n",
       "2                            0          0          0          0   \n",
       "3                            1          0          0          1   \n",
       "4                            1          0          0          1   \n",
       "...                        ...        ...        ...        ...   \n",
       "12866                        0          0          1          0   \n",
       "12867                        1          0          0          1   \n",
       "12868                        1          0          0          1   \n",
       "12869                        0          0          0          1   \n",
       "12870                        0          0          0          0   \n",
       "\n",
       "       min_cat_15-31  min_cat_4-7  min_cat_8-14  min_cat_More than a month  \n",
       "0                  0            0             0                          0  \n",
       "1                  0            0             1                          0  \n",
       "2                  0            1             0                          0  \n",
       "3                  0            0             0                          0  \n",
       "4                  0            0             0                          0  \n",
       "...              ...          ...           ...                        ...  \n",
       "12866              0            0             0                          0  \n",
       "12867              0            0             0                          0  \n",
       "12868              0            0             0                          0  \n",
       "12869              0            0             0                          0  \n",
       "12870              1            0             0                          0  \n",
       "\n",
       "[12871 rows x 133 columns]"
      ]
     },
     "execution_count": 58,
     "metadata": {},
     "output_type": "execute_result"
    }
   ],
   "source": [
    "# Categorical data\n",
    "cat_columns = ml_df_sd.dtypes[ml_df_sd.dtypes=='object'].index.tolist()\n",
    "\n",
    "cat_dummies = pd.get_dummies(ml_df_sd[cat_columns])\n",
    "\n",
    "cat_dummies"
   ]
  },
  {
   "cell_type": "code",
   "execution_count": 60,
   "metadata": {},
   "outputs": [],
   "source": [
    "# Create a OneHotEncoder instance.\n",
    "#ohe = OneHotEncoder(sparse=False)\n",
    "\n",
    "# Fit and transform the OneHotEncoder using the categorical variable list.\n",
    "#encode_df = pd.DataFrame(ohe.fit_transform(ml_df_sd[cat_columns]))\n",
    "\n",
    "# Add the encoded variable names to the dataframe.\n",
    "#encode_df.columns = ohe.get_feature_names(cat_columns)\n",
    "\n",
    "#encode_df"
   ]
  },
  {
   "cell_type": "code",
   "execution_count": 65,
   "metadata": {},
   "outputs": [],
   "source": [
    "# Numeric data\n",
    "num_columns = ml_df_sd.dtypes[ml_df_sd.dtypes!='object'].index.tolist()\n",
    "\n",
    "# Create a StandardScaler instance.\n",
    "scaler = StandardScaler()\n",
    "\n",
    "# Fit and transform the numeric data.\n",
    "scaled_df = pd.DataFrame(scaler.fit_transform(ml_df_sd[num_columns]), columns=num_columns)"
   ]
  },
  {
   "cell_type": "code",
   "execution_count": 66,
   "metadata": {},
   "outputs": [
    {
     "data": {
      "text/html": [
       "<div>\n",
       "<style scoped>\n",
       "    .dataframe tbody tr th:only-of-type {\n",
       "        vertical-align: middle;\n",
       "    }\n",
       "\n",
       "    .dataframe tbody tr th {\n",
       "        vertical-align: top;\n",
       "    }\n",
       "\n",
       "    .dataframe thead th {\n",
       "        text-align: right;\n",
       "    }\n",
       "</style>\n",
       "<table border=\"1\" class=\"dataframe\">\n",
       "  <thead>\n",
       "    <tr style=\"text-align: right;\">\n",
       "      <th></th>\n",
       "      <th>accommodates</th>\n",
       "      <th>beds</th>\n",
       "      <th>price</th>\n",
       "      <th>availability_60</th>\n",
       "      <th>number_of_reviews</th>\n",
       "      <th>review_scores_rating</th>\n",
       "      <th>review_scores_accuracy</th>\n",
       "      <th>review_scores_cleanliness</th>\n",
       "      <th>review_scores_checkin</th>\n",
       "      <th>review_scores_communication</th>\n",
       "      <th>review_scores_location</th>\n",
       "      <th>review_scores_value</th>\n",
       "      <th>revenue</th>\n",
       "      <th>revenue_per_bed</th>\n",
       "    </tr>\n",
       "  </thead>\n",
       "  <tbody>\n",
       "    <tr>\n",
       "      <th>0</th>\n",
       "      <td>-0.277255</td>\n",
       "      <td>0.111882</td>\n",
       "      <td>0.420623</td>\n",
       "      <td>1.342291</td>\n",
       "      <td>-0.448604</td>\n",
       "      <td>0.441107</td>\n",
       "      <td>0.383181</td>\n",
       "      <td>-0.348486</td>\n",
       "      <td>-0.212646</td>\n",
       "      <td>0.457131</td>\n",
       "      <td>0.578468</td>\n",
       "      <td>0.050831</td>\n",
       "      <td>-0.136019</td>\n",
       "      <td>-0.065479</td>\n",
       "    </tr>\n",
       "    <tr>\n",
       "      <th>1</th>\n",
       "      <td>0.343632</td>\n",
       "      <td>0.111882</td>\n",
       "      <td>0.039901</td>\n",
       "      <td>-1.417577</td>\n",
       "      <td>1.021752</td>\n",
       "      <td>0.137394</td>\n",
       "      <td>0.058593</td>\n",
       "      <td>-0.150158</td>\n",
       "      <td>0.413361</td>\n",
       "      <td>0.367104</td>\n",
       "      <td>-0.196022</td>\n",
       "      <td>0.291668</td>\n",
       "      <td>0.215448</td>\n",
       "      <td>0.054597</td>\n",
       "    </tr>\n",
       "    <tr>\n",
       "      <th>2</th>\n",
       "      <td>0.343632</td>\n",
       "      <td>0.111882</td>\n",
       "      <td>-0.085656</td>\n",
       "      <td>-1.417577</td>\n",
       "      <td>0.371812</td>\n",
       "      <td>0.036157</td>\n",
       "      <td>-0.118456</td>\n",
       "      <td>-0.575147</td>\n",
       "      <td>0.162958</td>\n",
       "      <td>0.187048</td>\n",
       "      <td>-0.061328</td>\n",
       "      <td>0.184629</td>\n",
       "      <td>0.081281</td>\n",
       "      <td>0.008760</td>\n",
       "    </tr>\n",
       "    <tr>\n",
       "      <th>3</th>\n",
       "      <td>2.827181</td>\n",
       "      <td>1.348134</td>\n",
       "      <td>0.490490</td>\n",
       "      <td>-0.751402</td>\n",
       "      <td>-0.342057</td>\n",
       "      <td>-0.647198</td>\n",
       "      <td>-0.767633</td>\n",
       "      <td>-1.566787</td>\n",
       "      <td>-0.995156</td>\n",
       "      <td>-0.923294</td>\n",
       "      <td>0.006019</td>\n",
       "      <td>-0.725202</td>\n",
       "      <td>0.496478</td>\n",
       "      <td>0.038098</td>\n",
       "    </tr>\n",
       "    <tr>\n",
       "      <th>4</th>\n",
       "      <td>2.206294</td>\n",
       "      <td>1.760218</td>\n",
       "      <td>0.952216</td>\n",
       "      <td>0.057525</td>\n",
       "      <td>-0.331402</td>\n",
       "      <td>-0.090390</td>\n",
       "      <td>-0.384028</td>\n",
       "      <td>-0.575147</td>\n",
       "      <td>0.194259</td>\n",
       "      <td>-0.053026</td>\n",
       "      <td>-0.128675</td>\n",
       "      <td>-0.297046</td>\n",
       "      <td>0.491537</td>\n",
       "      <td>0.021302</td>\n",
       "    </tr>\n",
       "    <tr>\n",
       "      <th>...</th>\n",
       "      <td>...</td>\n",
       "      <td>...</td>\n",
       "      <td>...</td>\n",
       "      <td>...</td>\n",
       "      <td>...</td>\n",
       "      <td>...</td>\n",
       "      <td>...</td>\n",
       "      <td>...</td>\n",
       "      <td>...</td>\n",
       "      <td>...</td>\n",
       "      <td>...</td>\n",
       "      <td>...</td>\n",
       "      <td>...</td>\n",
       "      <td>...</td>\n",
       "    </tr>\n",
       "    <tr>\n",
       "      <th>12866</th>\n",
       "      <td>0.343632</td>\n",
       "      <td>0.111882</td>\n",
       "      <td>-0.108945</td>\n",
       "      <td>-0.323146</td>\n",
       "      <td>-0.608425</td>\n",
       "      <td>NaN</td>\n",
       "      <td>NaN</td>\n",
       "      <td>NaN</td>\n",
       "      <td>NaN</td>\n",
       "      <td>NaN</td>\n",
       "      <td>NaN</td>\n",
       "      <td>NaN</td>\n",
       "      <td>-0.027387</td>\n",
       "      <td>-0.028366</td>\n",
       "    </tr>\n",
       "    <tr>\n",
       "      <th>12867</th>\n",
       "      <td>2.206294</td>\n",
       "      <td>2.584386</td>\n",
       "      <td>0.444924</td>\n",
       "      <td>1.009204</td>\n",
       "      <td>-0.608425</td>\n",
       "      <td>NaN</td>\n",
       "      <td>NaN</td>\n",
       "      <td>NaN</td>\n",
       "      <td>NaN</td>\n",
       "      <td>NaN</td>\n",
       "      <td>NaN</td>\n",
       "      <td>NaN</td>\n",
       "      <td>-0.040605</td>\n",
       "      <td>-0.060569</td>\n",
       "    </tr>\n",
       "    <tr>\n",
       "      <th>12868</th>\n",
       "      <td>2.827181</td>\n",
       "      <td>1.760218</td>\n",
       "      <td>0.046989</td>\n",
       "      <td>0.438197</td>\n",
       "      <td>-0.608425</td>\n",
       "      <td>NaN</td>\n",
       "      <td>NaN</td>\n",
       "      <td>NaN</td>\n",
       "      <td>NaN</td>\n",
       "      <td>NaN</td>\n",
       "      <td>NaN</td>\n",
       "      <td>NaN</td>\n",
       "      <td>-0.027351</td>\n",
       "      <td>-0.054673</td>\n",
       "    </tr>\n",
       "    <tr>\n",
       "      <th>12869</th>\n",
       "      <td>-0.277255</td>\n",
       "      <td>-0.300202</td>\n",
       "      <td>-0.025915</td>\n",
       "      <td>-0.323146</td>\n",
       "      <td>-0.608425</td>\n",
       "      <td>NaN</td>\n",
       "      <td>NaN</td>\n",
       "      <td>NaN</td>\n",
       "      <td>NaN</td>\n",
       "      <td>NaN</td>\n",
       "      <td>NaN</td>\n",
       "      <td>NaN</td>\n",
       "      <td>0.027326</td>\n",
       "      <td>0.022696</td>\n",
       "    </tr>\n",
       "    <tr>\n",
       "      <th>12870</th>\n",
       "      <td>-1.208586</td>\n",
       "      <td>NaN</td>\n",
       "      <td>-0.187924</td>\n",
       "      <td>1.437459</td>\n",
       "      <td>-0.608425</td>\n",
       "      <td>NaN</td>\n",
       "      <td>NaN</td>\n",
       "      <td>NaN</td>\n",
       "      <td>NaN</td>\n",
       "      <td>NaN</td>\n",
       "      <td>NaN</td>\n",
       "      <td>NaN</td>\n",
       "      <td>-0.162167</td>\n",
       "      <td>NaN</td>\n",
       "    </tr>\n",
       "  </tbody>\n",
       "</table>\n",
       "<p>12871 rows × 14 columns</p>\n",
       "</div>"
      ],
      "text/plain": [
       "       accommodates      beds     price  availability_60  number_of_reviews  \\\n",
       "0         -0.277255  0.111882  0.420623         1.342291          -0.448604   \n",
       "1          0.343632  0.111882  0.039901        -1.417577           1.021752   \n",
       "2          0.343632  0.111882 -0.085656        -1.417577           0.371812   \n",
       "3          2.827181  1.348134  0.490490        -0.751402          -0.342057   \n",
       "4          2.206294  1.760218  0.952216         0.057525          -0.331402   \n",
       "...             ...       ...       ...              ...                ...   \n",
       "12866      0.343632  0.111882 -0.108945        -0.323146          -0.608425   \n",
       "12867      2.206294  2.584386  0.444924         1.009204          -0.608425   \n",
       "12868      2.827181  1.760218  0.046989         0.438197          -0.608425   \n",
       "12869     -0.277255 -0.300202 -0.025915        -0.323146          -0.608425   \n",
       "12870     -1.208586       NaN -0.187924         1.437459          -0.608425   \n",
       "\n",
       "       review_scores_rating  review_scores_accuracy  \\\n",
       "0                  0.441107                0.383181   \n",
       "1                  0.137394                0.058593   \n",
       "2                  0.036157               -0.118456   \n",
       "3                 -0.647198               -0.767633   \n",
       "4                 -0.090390               -0.384028   \n",
       "...                     ...                     ...   \n",
       "12866                   NaN                     NaN   \n",
       "12867                   NaN                     NaN   \n",
       "12868                   NaN                     NaN   \n",
       "12869                   NaN                     NaN   \n",
       "12870                   NaN                     NaN   \n",
       "\n",
       "       review_scores_cleanliness  review_scores_checkin  \\\n",
       "0                      -0.348486              -0.212646   \n",
       "1                      -0.150158               0.413361   \n",
       "2                      -0.575147               0.162958   \n",
       "3                      -1.566787              -0.995156   \n",
       "4                      -0.575147               0.194259   \n",
       "...                          ...                    ...   \n",
       "12866                        NaN                    NaN   \n",
       "12867                        NaN                    NaN   \n",
       "12868                        NaN                    NaN   \n",
       "12869                        NaN                    NaN   \n",
       "12870                        NaN                    NaN   \n",
       "\n",
       "       review_scores_communication  review_scores_location  \\\n",
       "0                         0.457131                0.578468   \n",
       "1                         0.367104               -0.196022   \n",
       "2                         0.187048               -0.061328   \n",
       "3                        -0.923294                0.006019   \n",
       "4                        -0.053026               -0.128675   \n",
       "...                            ...                     ...   \n",
       "12866                          NaN                     NaN   \n",
       "12867                          NaN                     NaN   \n",
       "12868                          NaN                     NaN   \n",
       "12869                          NaN                     NaN   \n",
       "12870                          NaN                     NaN   \n",
       "\n",
       "       review_scores_value   revenue  revenue_per_bed  \n",
       "0                 0.050831 -0.136019        -0.065479  \n",
       "1                 0.291668  0.215448         0.054597  \n",
       "2                 0.184629  0.081281         0.008760  \n",
       "3                -0.725202  0.496478         0.038098  \n",
       "4                -0.297046  0.491537         0.021302  \n",
       "...                    ...       ...              ...  \n",
       "12866                  NaN -0.027387        -0.028366  \n",
       "12867                  NaN -0.040605        -0.060569  \n",
       "12868                  NaN -0.027351        -0.054673  \n",
       "12869                  NaN  0.027326         0.022696  \n",
       "12870                  NaN -0.162167              NaN  \n",
       "\n",
       "[12871 rows x 14 columns]"
      ]
     },
     "execution_count": 66,
     "metadata": {},
     "output_type": "execute_result"
    }
   ],
   "source": [
    "scaled_df"
   ]
  },
  {
   "cell_type": "code",
   "execution_count": 67,
   "metadata": {},
   "outputs": [
    {
     "data": {
      "text/html": [
       "<div>\n",
       "<style scoped>\n",
       "    .dataframe tbody tr th:only-of-type {\n",
       "        vertical-align: middle;\n",
       "    }\n",
       "\n",
       "    .dataframe tbody tr th {\n",
       "        vertical-align: top;\n",
       "    }\n",
       "\n",
       "    .dataframe thead th {\n",
       "        text-align: right;\n",
       "    }\n",
       "</style>\n",
       "<table border=\"1\" class=\"dataframe\">\n",
       "  <thead>\n",
       "    <tr style=\"text-align: right;\">\n",
       "      <th></th>\n",
       "      <th>accommodates</th>\n",
       "      <th>beds</th>\n",
       "      <th>price</th>\n",
       "      <th>availability_60</th>\n",
       "      <th>number_of_reviews</th>\n",
       "      <th>review_scores_rating</th>\n",
       "      <th>review_scores_accuracy</th>\n",
       "      <th>review_scores_cleanliness</th>\n",
       "      <th>review_scores_checkin</th>\n",
       "      <th>review_scores_communication</th>\n",
       "      <th>...</th>\n",
       "      <th>bathrooms_cat_2</th>\n",
       "      <th>bathrooms_cat_3</th>\n",
       "      <th>bathrooms_cat_4 or more</th>\n",
       "      <th>min_cat_1</th>\n",
       "      <th>min_cat_2</th>\n",
       "      <th>min_cat_3</th>\n",
       "      <th>min_cat_15-31</th>\n",
       "      <th>min_cat_4-7</th>\n",
       "      <th>min_cat_8-14</th>\n",
       "      <th>min_cat_More than a month</th>\n",
       "    </tr>\n",
       "  </thead>\n",
       "  <tbody>\n",
       "    <tr>\n",
       "      <th>0</th>\n",
       "      <td>-0.277255</td>\n",
       "      <td>0.111882</td>\n",
       "      <td>0.420623</td>\n",
       "      <td>1.342291</td>\n",
       "      <td>-0.448604</td>\n",
       "      <td>0.441107</td>\n",
       "      <td>0.383181</td>\n",
       "      <td>-0.348486</td>\n",
       "      <td>-0.212646</td>\n",
       "      <td>0.457131</td>\n",
       "      <td>...</td>\n",
       "      <td>1</td>\n",
       "      <td>0</td>\n",
       "      <td>0</td>\n",
       "      <td>0</td>\n",
       "      <td>0</td>\n",
       "      <td>1</td>\n",
       "      <td>0</td>\n",
       "      <td>0</td>\n",
       "      <td>0</td>\n",
       "      <td>0</td>\n",
       "    </tr>\n",
       "    <tr>\n",
       "      <th>1</th>\n",
       "      <td>0.343632</td>\n",
       "      <td>0.111882</td>\n",
       "      <td>0.039901</td>\n",
       "      <td>-1.417577</td>\n",
       "      <td>1.021752</td>\n",
       "      <td>0.137394</td>\n",
       "      <td>0.058593</td>\n",
       "      <td>-0.150158</td>\n",
       "      <td>0.413361</td>\n",
       "      <td>0.367104</td>\n",
       "      <td>...</td>\n",
       "      <td>1</td>\n",
       "      <td>0</td>\n",
       "      <td>0</td>\n",
       "      <td>0</td>\n",
       "      <td>0</td>\n",
       "      <td>0</td>\n",
       "      <td>0</td>\n",
       "      <td>0</td>\n",
       "      <td>1</td>\n",
       "      <td>0</td>\n",
       "    </tr>\n",
       "    <tr>\n",
       "      <th>2</th>\n",
       "      <td>0.343632</td>\n",
       "      <td>0.111882</td>\n",
       "      <td>-0.085656</td>\n",
       "      <td>-1.417577</td>\n",
       "      <td>0.371812</td>\n",
       "      <td>0.036157</td>\n",
       "      <td>-0.118456</td>\n",
       "      <td>-0.575147</td>\n",
       "      <td>0.162958</td>\n",
       "      <td>0.187048</td>\n",
       "      <td>...</td>\n",
       "      <td>1</td>\n",
       "      <td>0</td>\n",
       "      <td>0</td>\n",
       "      <td>0</td>\n",
       "      <td>0</td>\n",
       "      <td>0</td>\n",
       "      <td>0</td>\n",
       "      <td>1</td>\n",
       "      <td>0</td>\n",
       "      <td>0</td>\n",
       "    </tr>\n",
       "    <tr>\n",
       "      <th>3</th>\n",
       "      <td>2.827181</td>\n",
       "      <td>1.348134</td>\n",
       "      <td>0.490490</td>\n",
       "      <td>-0.751402</td>\n",
       "      <td>-0.342057</td>\n",
       "      <td>-0.647198</td>\n",
       "      <td>-0.767633</td>\n",
       "      <td>-1.566787</td>\n",
       "      <td>-0.995156</td>\n",
       "      <td>-0.923294</td>\n",
       "      <td>...</td>\n",
       "      <td>0</td>\n",
       "      <td>0</td>\n",
       "      <td>1</td>\n",
       "      <td>0</td>\n",
       "      <td>0</td>\n",
       "      <td>1</td>\n",
       "      <td>0</td>\n",
       "      <td>0</td>\n",
       "      <td>0</td>\n",
       "      <td>0</td>\n",
       "    </tr>\n",
       "    <tr>\n",
       "      <th>4</th>\n",
       "      <td>2.206294</td>\n",
       "      <td>1.760218</td>\n",
       "      <td>0.952216</td>\n",
       "      <td>0.057525</td>\n",
       "      <td>-0.331402</td>\n",
       "      <td>-0.090390</td>\n",
       "      <td>-0.384028</td>\n",
       "      <td>-0.575147</td>\n",
       "      <td>0.194259</td>\n",
       "      <td>-0.053026</td>\n",
       "      <td>...</td>\n",
       "      <td>0</td>\n",
       "      <td>0</td>\n",
       "      <td>1</td>\n",
       "      <td>0</td>\n",
       "      <td>0</td>\n",
       "      <td>1</td>\n",
       "      <td>0</td>\n",
       "      <td>0</td>\n",
       "      <td>0</td>\n",
       "      <td>0</td>\n",
       "    </tr>\n",
       "    <tr>\n",
       "      <th>...</th>\n",
       "      <td>...</td>\n",
       "      <td>...</td>\n",
       "      <td>...</td>\n",
       "      <td>...</td>\n",
       "      <td>...</td>\n",
       "      <td>...</td>\n",
       "      <td>...</td>\n",
       "      <td>...</td>\n",
       "      <td>...</td>\n",
       "      <td>...</td>\n",
       "      <td>...</td>\n",
       "      <td>...</td>\n",
       "      <td>...</td>\n",
       "      <td>...</td>\n",
       "      <td>...</td>\n",
       "      <td>...</td>\n",
       "      <td>...</td>\n",
       "      <td>...</td>\n",
       "      <td>...</td>\n",
       "      <td>...</td>\n",
       "      <td>...</td>\n",
       "    </tr>\n",
       "    <tr>\n",
       "      <th>12866</th>\n",
       "      <td>0.343632</td>\n",
       "      <td>0.111882</td>\n",
       "      <td>-0.108945</td>\n",
       "      <td>-0.323146</td>\n",
       "      <td>-0.608425</td>\n",
       "      <td>NaN</td>\n",
       "      <td>NaN</td>\n",
       "      <td>NaN</td>\n",
       "      <td>NaN</td>\n",
       "      <td>NaN</td>\n",
       "      <td>...</td>\n",
       "      <td>1</td>\n",
       "      <td>0</td>\n",
       "      <td>0</td>\n",
       "      <td>0</td>\n",
       "      <td>1</td>\n",
       "      <td>0</td>\n",
       "      <td>0</td>\n",
       "      <td>0</td>\n",
       "      <td>0</td>\n",
       "      <td>0</td>\n",
       "    </tr>\n",
       "    <tr>\n",
       "      <th>12867</th>\n",
       "      <td>2.206294</td>\n",
       "      <td>2.584386</td>\n",
       "      <td>0.444924</td>\n",
       "      <td>1.009204</td>\n",
       "      <td>-0.608425</td>\n",
       "      <td>NaN</td>\n",
       "      <td>NaN</td>\n",
       "      <td>NaN</td>\n",
       "      <td>NaN</td>\n",
       "      <td>NaN</td>\n",
       "      <td>...</td>\n",
       "      <td>0</td>\n",
       "      <td>0</td>\n",
       "      <td>1</td>\n",
       "      <td>0</td>\n",
       "      <td>0</td>\n",
       "      <td>1</td>\n",
       "      <td>0</td>\n",
       "      <td>0</td>\n",
       "      <td>0</td>\n",
       "      <td>0</td>\n",
       "    </tr>\n",
       "    <tr>\n",
       "      <th>12868</th>\n",
       "      <td>2.827181</td>\n",
       "      <td>1.760218</td>\n",
       "      <td>0.046989</td>\n",
       "      <td>0.438197</td>\n",
       "      <td>-0.608425</td>\n",
       "      <td>NaN</td>\n",
       "      <td>NaN</td>\n",
       "      <td>NaN</td>\n",
       "      <td>NaN</td>\n",
       "      <td>NaN</td>\n",
       "      <td>...</td>\n",
       "      <td>0</td>\n",
       "      <td>0</td>\n",
       "      <td>1</td>\n",
       "      <td>0</td>\n",
       "      <td>0</td>\n",
       "      <td>1</td>\n",
       "      <td>0</td>\n",
       "      <td>0</td>\n",
       "      <td>0</td>\n",
       "      <td>0</td>\n",
       "    </tr>\n",
       "    <tr>\n",
       "      <th>12869</th>\n",
       "      <td>-0.277255</td>\n",
       "      <td>-0.300202</td>\n",
       "      <td>-0.025915</td>\n",
       "      <td>-0.323146</td>\n",
       "      <td>-0.608425</td>\n",
       "      <td>NaN</td>\n",
       "      <td>NaN</td>\n",
       "      <td>NaN</td>\n",
       "      <td>NaN</td>\n",
       "      <td>NaN</td>\n",
       "      <td>...</td>\n",
       "      <td>0</td>\n",
       "      <td>0</td>\n",
       "      <td>0</td>\n",
       "      <td>0</td>\n",
       "      <td>0</td>\n",
       "      <td>1</td>\n",
       "      <td>0</td>\n",
       "      <td>0</td>\n",
       "      <td>0</td>\n",
       "      <td>0</td>\n",
       "    </tr>\n",
       "    <tr>\n",
       "      <th>12870</th>\n",
       "      <td>-1.208586</td>\n",
       "      <td>NaN</td>\n",
       "      <td>-0.187924</td>\n",
       "      <td>1.437459</td>\n",
       "      <td>-0.608425</td>\n",
       "      <td>NaN</td>\n",
       "      <td>NaN</td>\n",
       "      <td>NaN</td>\n",
       "      <td>NaN</td>\n",
       "      <td>NaN</td>\n",
       "      <td>...</td>\n",
       "      <td>0</td>\n",
       "      <td>0</td>\n",
       "      <td>0</td>\n",
       "      <td>0</td>\n",
       "      <td>0</td>\n",
       "      <td>0</td>\n",
       "      <td>1</td>\n",
       "      <td>0</td>\n",
       "      <td>0</td>\n",
       "      <td>0</td>\n",
       "    </tr>\n",
       "  </tbody>\n",
       "</table>\n",
       "<p>12871 rows × 147 columns</p>\n",
       "</div>"
      ],
      "text/plain": [
       "       accommodates      beds     price  availability_60  number_of_reviews  \\\n",
       "0         -0.277255  0.111882  0.420623         1.342291          -0.448604   \n",
       "1          0.343632  0.111882  0.039901        -1.417577           1.021752   \n",
       "2          0.343632  0.111882 -0.085656        -1.417577           0.371812   \n",
       "3          2.827181  1.348134  0.490490        -0.751402          -0.342057   \n",
       "4          2.206294  1.760218  0.952216         0.057525          -0.331402   \n",
       "...             ...       ...       ...              ...                ...   \n",
       "12866      0.343632  0.111882 -0.108945        -0.323146          -0.608425   \n",
       "12867      2.206294  2.584386  0.444924         1.009204          -0.608425   \n",
       "12868      2.827181  1.760218  0.046989         0.438197          -0.608425   \n",
       "12869     -0.277255 -0.300202 -0.025915        -0.323146          -0.608425   \n",
       "12870     -1.208586       NaN -0.187924         1.437459          -0.608425   \n",
       "\n",
       "       review_scores_rating  review_scores_accuracy  \\\n",
       "0                  0.441107                0.383181   \n",
       "1                  0.137394                0.058593   \n",
       "2                  0.036157               -0.118456   \n",
       "3                 -0.647198               -0.767633   \n",
       "4                 -0.090390               -0.384028   \n",
       "...                     ...                     ...   \n",
       "12866                   NaN                     NaN   \n",
       "12867                   NaN                     NaN   \n",
       "12868                   NaN                     NaN   \n",
       "12869                   NaN                     NaN   \n",
       "12870                   NaN                     NaN   \n",
       "\n",
       "       review_scores_cleanliness  review_scores_checkin  \\\n",
       "0                      -0.348486              -0.212646   \n",
       "1                      -0.150158               0.413361   \n",
       "2                      -0.575147               0.162958   \n",
       "3                      -1.566787              -0.995156   \n",
       "4                      -0.575147               0.194259   \n",
       "...                          ...                    ...   \n",
       "12866                        NaN                    NaN   \n",
       "12867                        NaN                    NaN   \n",
       "12868                        NaN                    NaN   \n",
       "12869                        NaN                    NaN   \n",
       "12870                        NaN                    NaN   \n",
       "\n",
       "       review_scores_communication  ...  bathrooms_cat_2  bathrooms_cat_3  \\\n",
       "0                         0.457131  ...                1                0   \n",
       "1                         0.367104  ...                1                0   \n",
       "2                         0.187048  ...                1                0   \n",
       "3                        -0.923294  ...                0                0   \n",
       "4                        -0.053026  ...                0                0   \n",
       "...                            ...  ...              ...              ...   \n",
       "12866                          NaN  ...                1                0   \n",
       "12867                          NaN  ...                0                0   \n",
       "12868                          NaN  ...                0                0   \n",
       "12869                          NaN  ...                0                0   \n",
       "12870                          NaN  ...                0                0   \n",
       "\n",
       "       bathrooms_cat_4 or more  min_cat_1  min_cat_2  min_cat_3  \\\n",
       "0                            0          0          0          1   \n",
       "1                            0          0          0          0   \n",
       "2                            0          0          0          0   \n",
       "3                            1          0          0          1   \n",
       "4                            1          0          0          1   \n",
       "...                        ...        ...        ...        ...   \n",
       "12866                        0          0          1          0   \n",
       "12867                        1          0          0          1   \n",
       "12868                        1          0          0          1   \n",
       "12869                        0          0          0          1   \n",
       "12870                        0          0          0          0   \n",
       "\n",
       "       min_cat_15-31  min_cat_4-7  min_cat_8-14  min_cat_More than a month  \n",
       "0                  0            0             0                          0  \n",
       "1                  0            0             1                          0  \n",
       "2                  0            1             0                          0  \n",
       "3                  0            0             0                          0  \n",
       "4                  0            0             0                          0  \n",
       "...              ...          ...           ...                        ...  \n",
       "12866              0            0             0                          0  \n",
       "12867              0            0             0                          0  \n",
       "12868              0            0             0                          0  \n",
       "12869              0            0             0                          0  \n",
       "12870              1            0             0                          0  \n",
       "\n",
       "[12871 rows x 147 columns]"
      ]
     },
     "execution_count": 67,
     "metadata": {},
     "output_type": "execute_result"
    }
   ],
   "source": [
    "ml_60 = scaled_df.merge(cat_dummies, left_index=True, right_index=True)\n",
    "ml_60"
   ]
  },
  {
   "cell_type": "code",
   "execution_count": null,
   "metadata": {},
   "outputs": [],
   "source": []
  }
 ],
 "metadata": {
  "colab": {
   "provenance": []
  },
  "kernelspec": {
   "display_name": "Python 3 (ipykernel)",
   "language": "python",
   "name": "python3"
  },
  "language_info": {
   "codemirror_mode": {
    "name": "ipython",
    "version": 3
   },
   "file_extension": ".py",
   "mimetype": "text/x-python",
   "name": "python",
   "nbconvert_exporter": "python",
   "pygments_lexer": "ipython3",
   "version": "3.9.13"
  }
 },
 "nbformat": 4,
 "nbformat_minor": 1
}
